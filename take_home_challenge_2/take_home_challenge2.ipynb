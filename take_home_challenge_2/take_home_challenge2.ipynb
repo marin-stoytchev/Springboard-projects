{
 "cells": [
  {
   "cell_type": "markdown",
   "metadata": {},
   "source": [
    "## Project Objective:\n",
    "\n",
    "Using user data, 'takehome_users.csv', and user engagement data, 'takehome_user_engagement.csv', find the predictors of 'Adopted User'.\n",
    "\n",
    "**'Adopted User'** is defined as one who has logged into the product on three separate days in at least one seven-day period."
   ]
  },
  {
   "cell_type": "code",
   "execution_count": 1,
   "metadata": {},
   "outputs": [],
   "source": [
    "# import relevant libraries and packages\n",
    "import numpy as np\n",
    "import pandas as pd\n",
    "import matplotlib.pyplot as plt\n",
    "import seaborn as sns\n",
    "\n",
    "%matplotlib inline\n",
    "sns.set(style = 'whitegrid', font_scale = 1.8)\n",
    "\n",
    "# ignore warnings\n",
    "import warnings\n",
    "warnings.filterwarnings('ignore')"
   ]
  },
  {
   "cell_type": "code",
   "execution_count": 2,
   "metadata": {},
   "outputs": [
    {
     "name": "stdout",
     "output_type": "stream",
     "text": [
      "ISO-8859-1\n"
     ]
    }
   ],
   "source": [
    "# check the files encoding\n",
    "\n",
    "import chardet    \n",
    "rawdata = open('takehome_users.csv', 'rb').read()\n",
    "result = chardet.detect(rawdata)\n",
    "charenc = result['encoding']\n",
    "print(charenc)"
   ]
  },
  {
   "cell_type": "markdown",
   "metadata": {},
   "source": [
    "- Load user data"
   ]
  },
  {
   "cell_type": "code",
   "execution_count": 3,
   "metadata": {},
   "outputs": [
    {
     "name": "stdout",
     "output_type": "stream",
     "text": [
      "<class 'pandas.core.frame.DataFrame'>\n",
      "RangeIndex: 12000 entries, 0 to 11999\n",
      "Data columns (total 10 columns):\n",
      " #   Column                      Non-Null Count  Dtype  \n",
      "---  ------                      --------------  -----  \n",
      " 0   object_id                   12000 non-null  int64  \n",
      " 1   creation_time               12000 non-null  object \n",
      " 2   name                        12000 non-null  object \n",
      " 3   email                       12000 non-null  object \n",
      " 4   creation_source             12000 non-null  object \n",
      " 5   last_session_creation_time  8823 non-null   float64\n",
      " 6   opted_in_to_mailing_list    12000 non-null  int64  \n",
      " 7   enabled_for_marketing_drip  12000 non-null  int64  \n",
      " 8   org_id                      12000 non-null  int64  \n",
      " 9   invited_by_user_id          6417 non-null   float64\n",
      "dtypes: float64(2), int64(4), object(4)\n",
      "memory usage: 937.6+ KB\n"
     ]
    }
   ],
   "source": [
    "df_1 = pd.read_csv('takehome_users.csv', encoding = 'ISO-8859-1')\n",
    "df_1.info()"
   ]
  },
  {
   "cell_type": "markdown",
   "metadata": {},
   "source": [
    "- Load user engagement data"
   ]
  },
  {
   "cell_type": "code",
   "execution_count": 4,
   "metadata": {},
   "outputs": [
    {
     "name": "stdout",
     "output_type": "stream",
     "text": [
      "<class 'pandas.core.frame.DataFrame'>\n",
      "RangeIndex: 207917 entries, 0 to 207916\n",
      "Data columns (total 3 columns):\n",
      " #   Column      Non-Null Count   Dtype \n",
      "---  ------      --------------   ----- \n",
      " 0   time_stamp  207917 non-null  object\n",
      " 1   user_id     207917 non-null  int64 \n",
      " 2   visited     207917 non-null  int64 \n",
      "dtypes: int64(2), object(1)\n",
      "memory usage: 4.8+ MB\n"
     ]
    }
   ],
   "source": [
    "df_2 = pd.read_csv('takehome_user_engagement.csv', encoding = 'ISO-8859-1')\n",
    "df_2.info()"
   ]
  },
  {
   "cell_type": "code",
   "execution_count": 5,
   "metadata": {},
   "outputs": [
    {
     "data": {
      "text/html": [
       "<div>\n",
       "<style scoped>\n",
       "    .dataframe tbody tr th:only-of-type {\n",
       "        vertical-align: middle;\n",
       "    }\n",
       "\n",
       "    .dataframe tbody tr th {\n",
       "        vertical-align: top;\n",
       "    }\n",
       "\n",
       "    .dataframe thead th {\n",
       "        text-align: right;\n",
       "    }\n",
       "</style>\n",
       "<table border=\"1\" class=\"dataframe\">\n",
       "  <thead>\n",
       "    <tr style=\"text-align: right;\">\n",
       "      <th></th>\n",
       "      <th>object_id</th>\n",
       "      <th>creation_time</th>\n",
       "      <th>name</th>\n",
       "      <th>email</th>\n",
       "      <th>creation_source</th>\n",
       "      <th>last_session_creation_time</th>\n",
       "      <th>opted_in_to_mailing_list</th>\n",
       "      <th>enabled_for_marketing_drip</th>\n",
       "      <th>org_id</th>\n",
       "      <th>invited_by_user_id</th>\n",
       "    </tr>\n",
       "  </thead>\n",
       "  <tbody>\n",
       "    <tr>\n",
       "      <th>0</th>\n",
       "      <td>1</td>\n",
       "      <td>2014-04-22 03:53:30</td>\n",
       "      <td>Clausen August</td>\n",
       "      <td>AugustCClausen@yahoo.com</td>\n",
       "      <td>GUEST_INVITE</td>\n",
       "      <td>1.398139e+09</td>\n",
       "      <td>1</td>\n",
       "      <td>0</td>\n",
       "      <td>11</td>\n",
       "      <td>10803.0</td>\n",
       "    </tr>\n",
       "    <tr>\n",
       "      <th>1</th>\n",
       "      <td>2</td>\n",
       "      <td>2013-11-15 03:45:04</td>\n",
       "      <td>Poole Matthew</td>\n",
       "      <td>MatthewPoole@gustr.com</td>\n",
       "      <td>ORG_INVITE</td>\n",
       "      <td>1.396238e+09</td>\n",
       "      <td>0</td>\n",
       "      <td>0</td>\n",
       "      <td>1</td>\n",
       "      <td>316.0</td>\n",
       "    </tr>\n",
       "    <tr>\n",
       "      <th>2</th>\n",
       "      <td>3</td>\n",
       "      <td>2013-03-19 23:14:52</td>\n",
       "      <td>Bottrill Mitchell</td>\n",
       "      <td>MitchellBottrill@gustr.com</td>\n",
       "      <td>ORG_INVITE</td>\n",
       "      <td>1.363735e+09</td>\n",
       "      <td>0</td>\n",
       "      <td>0</td>\n",
       "      <td>94</td>\n",
       "      <td>1525.0</td>\n",
       "    </tr>\n",
       "    <tr>\n",
       "      <th>3</th>\n",
       "      <td>4</td>\n",
       "      <td>2013-05-21 08:09:28</td>\n",
       "      <td>Clausen Nicklas</td>\n",
       "      <td>NicklasSClausen@yahoo.com</td>\n",
       "      <td>GUEST_INVITE</td>\n",
       "      <td>1.369210e+09</td>\n",
       "      <td>0</td>\n",
       "      <td>0</td>\n",
       "      <td>1</td>\n",
       "      <td>5151.0</td>\n",
       "    </tr>\n",
       "    <tr>\n",
       "      <th>4</th>\n",
       "      <td>5</td>\n",
       "      <td>2013-01-17 10:14:20</td>\n",
       "      <td>Raw Grace</td>\n",
       "      <td>GraceRaw@yahoo.com</td>\n",
       "      <td>GUEST_INVITE</td>\n",
       "      <td>1.358850e+09</td>\n",
       "      <td>0</td>\n",
       "      <td>0</td>\n",
       "      <td>193</td>\n",
       "      <td>5240.0</td>\n",
       "    </tr>\n",
       "  </tbody>\n",
       "</table>\n",
       "</div>"
      ],
      "text/plain": [
       "   object_id        creation_time               name  \\\n",
       "0          1  2014-04-22 03:53:30     Clausen August   \n",
       "1          2  2013-11-15 03:45:04      Poole Matthew   \n",
       "2          3  2013-03-19 23:14:52  Bottrill Mitchell   \n",
       "3          4  2013-05-21 08:09:28    Clausen Nicklas   \n",
       "4          5  2013-01-17 10:14:20          Raw Grace   \n",
       "\n",
       "                        email creation_source  last_session_creation_time  \\\n",
       "0    AugustCClausen@yahoo.com    GUEST_INVITE                1.398139e+09   \n",
       "1      MatthewPoole@gustr.com      ORG_INVITE                1.396238e+09   \n",
       "2  MitchellBottrill@gustr.com      ORG_INVITE                1.363735e+09   \n",
       "3   NicklasSClausen@yahoo.com    GUEST_INVITE                1.369210e+09   \n",
       "4          GraceRaw@yahoo.com    GUEST_INVITE                1.358850e+09   \n",
       "\n",
       "   opted_in_to_mailing_list  enabled_for_marketing_drip  org_id  \\\n",
       "0                         1                           0      11   \n",
       "1                         0                           0       1   \n",
       "2                         0                           0      94   \n",
       "3                         0                           0       1   \n",
       "4                         0                           0     193   \n",
       "\n",
       "   invited_by_user_id  \n",
       "0             10803.0  \n",
       "1               316.0  \n",
       "2              1525.0  \n",
       "3              5151.0  \n",
       "4              5240.0  "
      ]
     },
     "execution_count": 5,
     "metadata": {},
     "output_type": "execute_result"
    }
   ],
   "source": [
    "# check df_1\n",
    "df_1.head()"
   ]
  },
  {
   "cell_type": "code",
   "execution_count": 6,
   "metadata": {},
   "outputs": [
    {
     "data": {
      "text/html": [
       "<div>\n",
       "<style scoped>\n",
       "    .dataframe tbody tr th:only-of-type {\n",
       "        vertical-align: middle;\n",
       "    }\n",
       "\n",
       "    .dataframe tbody tr th {\n",
       "        vertical-align: top;\n",
       "    }\n",
       "\n",
       "    .dataframe thead th {\n",
       "        text-align: right;\n",
       "    }\n",
       "</style>\n",
       "<table border=\"1\" class=\"dataframe\">\n",
       "  <thead>\n",
       "    <tr style=\"text-align: right;\">\n",
       "      <th></th>\n",
       "      <th>time_stamp</th>\n",
       "      <th>user_id</th>\n",
       "      <th>visited</th>\n",
       "    </tr>\n",
       "  </thead>\n",
       "  <tbody>\n",
       "    <tr>\n",
       "      <th>0</th>\n",
       "      <td>2014-04-22 03:53:30</td>\n",
       "      <td>1</td>\n",
       "      <td>1</td>\n",
       "    </tr>\n",
       "    <tr>\n",
       "      <th>1</th>\n",
       "      <td>2013-11-15 03:45:04</td>\n",
       "      <td>2</td>\n",
       "      <td>1</td>\n",
       "    </tr>\n",
       "    <tr>\n",
       "      <th>2</th>\n",
       "      <td>2013-11-29 03:45:04</td>\n",
       "      <td>2</td>\n",
       "      <td>1</td>\n",
       "    </tr>\n",
       "    <tr>\n",
       "      <th>3</th>\n",
       "      <td>2013-12-09 03:45:04</td>\n",
       "      <td>2</td>\n",
       "      <td>1</td>\n",
       "    </tr>\n",
       "    <tr>\n",
       "      <th>4</th>\n",
       "      <td>2013-12-25 03:45:04</td>\n",
       "      <td>2</td>\n",
       "      <td>1</td>\n",
       "    </tr>\n",
       "  </tbody>\n",
       "</table>\n",
       "</div>"
      ],
      "text/plain": [
       "            time_stamp  user_id  visited\n",
       "0  2014-04-22 03:53:30        1        1\n",
       "1  2013-11-15 03:45:04        2        1\n",
       "2  2013-11-29 03:45:04        2        1\n",
       "3  2013-12-09 03:45:04        2        1\n",
       "4  2013-12-25 03:45:04        2        1"
      ]
     },
     "execution_count": 6,
     "metadata": {},
     "output_type": "execute_result"
    }
   ],
   "source": [
    "# check df_2\n",
    "df_2.head()"
   ]
  },
  {
   "cell_type": "markdown",
   "metadata": {},
   "source": [
    "### Process user engagement data to find the 'adopted users'."
   ]
  },
  {
   "cell_type": "code",
   "execution_count": 7,
   "metadata": {},
   "outputs": [
    {
     "data": {
      "text/html": [
       "<div>\n",
       "<style scoped>\n",
       "    .dataframe tbody tr th:only-of-type {\n",
       "        vertical-align: middle;\n",
       "    }\n",
       "\n",
       "    .dataframe tbody tr th {\n",
       "        vertical-align: top;\n",
       "    }\n",
       "\n",
       "    .dataframe thead th {\n",
       "        text-align: right;\n",
       "    }\n",
       "</style>\n",
       "<table border=\"1\" class=\"dataframe\">\n",
       "  <thead>\n",
       "    <tr style=\"text-align: right;\">\n",
       "      <th></th>\n",
       "      <th>time_stamp</th>\n",
       "      <th>user_id</th>\n",
       "      <th>visited</th>\n",
       "      <th>date</th>\n",
       "    </tr>\n",
       "  </thead>\n",
       "  <tbody>\n",
       "    <tr>\n",
       "      <th>0</th>\n",
       "      <td>2014-04-22 03:53:30</td>\n",
       "      <td>1</td>\n",
       "      <td>1</td>\n",
       "      <td>2014-04-22 03:53:30</td>\n",
       "    </tr>\n",
       "    <tr>\n",
       "      <th>1</th>\n",
       "      <td>2013-11-15 03:45:04</td>\n",
       "      <td>2</td>\n",
       "      <td>1</td>\n",
       "      <td>2013-11-15 03:45:04</td>\n",
       "    </tr>\n",
       "    <tr>\n",
       "      <th>2</th>\n",
       "      <td>2013-11-29 03:45:04</td>\n",
       "      <td>2</td>\n",
       "      <td>1</td>\n",
       "      <td>2013-11-29 03:45:04</td>\n",
       "    </tr>\n",
       "    <tr>\n",
       "      <th>3</th>\n",
       "      <td>2013-12-09 03:45:04</td>\n",
       "      <td>2</td>\n",
       "      <td>1</td>\n",
       "      <td>2013-12-09 03:45:04</td>\n",
       "    </tr>\n",
       "    <tr>\n",
       "      <th>4</th>\n",
       "      <td>2013-12-25 03:45:04</td>\n",
       "      <td>2</td>\n",
       "      <td>1</td>\n",
       "      <td>2013-12-25 03:45:04</td>\n",
       "    </tr>\n",
       "    <tr>\n",
       "      <th>5</th>\n",
       "      <td>2013-12-31 03:45:04</td>\n",
       "      <td>2</td>\n",
       "      <td>1</td>\n",
       "      <td>2013-12-31 03:45:04</td>\n",
       "    </tr>\n",
       "    <tr>\n",
       "      <th>6</th>\n",
       "      <td>2014-01-08 03:45:04</td>\n",
       "      <td>2</td>\n",
       "      <td>1</td>\n",
       "      <td>2014-01-08 03:45:04</td>\n",
       "    </tr>\n",
       "    <tr>\n",
       "      <th>7</th>\n",
       "      <td>2014-02-03 03:45:04</td>\n",
       "      <td>2</td>\n",
       "      <td>1</td>\n",
       "      <td>2014-02-03 03:45:04</td>\n",
       "    </tr>\n",
       "    <tr>\n",
       "      <th>8</th>\n",
       "      <td>2014-02-08 03:45:04</td>\n",
       "      <td>2</td>\n",
       "      <td>1</td>\n",
       "      <td>2014-02-08 03:45:04</td>\n",
       "    </tr>\n",
       "    <tr>\n",
       "      <th>9</th>\n",
       "      <td>2014-02-09 03:45:04</td>\n",
       "      <td>2</td>\n",
       "      <td>1</td>\n",
       "      <td>2014-02-09 03:45:04</td>\n",
       "    </tr>\n",
       "    <tr>\n",
       "      <th>10</th>\n",
       "      <td>2014-02-13 03:45:04</td>\n",
       "      <td>2</td>\n",
       "      <td>1</td>\n",
       "      <td>2014-02-13 03:45:04</td>\n",
       "    </tr>\n",
       "    <tr>\n",
       "      <th>11</th>\n",
       "      <td>2014-02-16 03:45:04</td>\n",
       "      <td>2</td>\n",
       "      <td>1</td>\n",
       "      <td>2014-02-16 03:45:04</td>\n",
       "    </tr>\n",
       "    <tr>\n",
       "      <th>12</th>\n",
       "      <td>2014-03-09 03:45:04</td>\n",
       "      <td>2</td>\n",
       "      <td>1</td>\n",
       "      <td>2014-03-09 03:45:04</td>\n",
       "    </tr>\n",
       "    <tr>\n",
       "      <th>13</th>\n",
       "      <td>2014-03-13 03:45:04</td>\n",
       "      <td>2</td>\n",
       "      <td>1</td>\n",
       "      <td>2014-03-13 03:45:04</td>\n",
       "    </tr>\n",
       "    <tr>\n",
       "      <th>14</th>\n",
       "      <td>2014-03-31 03:45:04</td>\n",
       "      <td>2</td>\n",
       "      <td>1</td>\n",
       "      <td>2014-03-31 03:45:04</td>\n",
       "    </tr>\n",
       "    <tr>\n",
       "      <th>15</th>\n",
       "      <td>2013-03-19 23:14:52</td>\n",
       "      <td>3</td>\n",
       "      <td>1</td>\n",
       "      <td>2013-03-19 23:14:52</td>\n",
       "    </tr>\n",
       "    <tr>\n",
       "      <th>16</th>\n",
       "      <td>2013-05-22 08:09:28</td>\n",
       "      <td>4</td>\n",
       "      <td>1</td>\n",
       "      <td>2013-05-22 08:09:28</td>\n",
       "    </tr>\n",
       "    <tr>\n",
       "      <th>17</th>\n",
       "      <td>2013-01-22 10:14:20</td>\n",
       "      <td>5</td>\n",
       "      <td>1</td>\n",
       "      <td>2013-01-22 10:14:20</td>\n",
       "    </tr>\n",
       "    <tr>\n",
       "      <th>18</th>\n",
       "      <td>2013-12-19 03:37:06</td>\n",
       "      <td>6</td>\n",
       "      <td>1</td>\n",
       "      <td>2013-12-19 03:37:06</td>\n",
       "    </tr>\n",
       "    <tr>\n",
       "      <th>19</th>\n",
       "      <td>2012-12-20 13:24:32</td>\n",
       "      <td>7</td>\n",
       "      <td>1</td>\n",
       "      <td>2012-12-20 13:24:32</td>\n",
       "    </tr>\n",
       "  </tbody>\n",
       "</table>\n",
       "</div>"
      ],
      "text/plain": [
       "             time_stamp  user_id  visited                date\n",
       "0   2014-04-22 03:53:30        1        1 2014-04-22 03:53:30\n",
       "1   2013-11-15 03:45:04        2        1 2013-11-15 03:45:04\n",
       "2   2013-11-29 03:45:04        2        1 2013-11-29 03:45:04\n",
       "3   2013-12-09 03:45:04        2        1 2013-12-09 03:45:04\n",
       "4   2013-12-25 03:45:04        2        1 2013-12-25 03:45:04\n",
       "5   2013-12-31 03:45:04        2        1 2013-12-31 03:45:04\n",
       "6   2014-01-08 03:45:04        2        1 2014-01-08 03:45:04\n",
       "7   2014-02-03 03:45:04        2        1 2014-02-03 03:45:04\n",
       "8   2014-02-08 03:45:04        2        1 2014-02-08 03:45:04\n",
       "9   2014-02-09 03:45:04        2        1 2014-02-09 03:45:04\n",
       "10  2014-02-13 03:45:04        2        1 2014-02-13 03:45:04\n",
       "11  2014-02-16 03:45:04        2        1 2014-02-16 03:45:04\n",
       "12  2014-03-09 03:45:04        2        1 2014-03-09 03:45:04\n",
       "13  2014-03-13 03:45:04        2        1 2014-03-13 03:45:04\n",
       "14  2014-03-31 03:45:04        2        1 2014-03-31 03:45:04\n",
       "15  2013-03-19 23:14:52        3        1 2013-03-19 23:14:52\n",
       "16  2013-05-22 08:09:28        4        1 2013-05-22 08:09:28\n",
       "17  2013-01-22 10:14:20        5        1 2013-01-22 10:14:20\n",
       "18  2013-12-19 03:37:06        6        1 2013-12-19 03:37:06\n",
       "19  2012-12-20 13:24:32        7        1 2012-12-20 13:24:32"
      ]
     },
     "execution_count": 7,
     "metadata": {},
     "output_type": "execute_result"
    }
   ],
   "source": [
    "# create new colum 'date' as datetime from 'time_stamp' in df_2\n",
    "df_2['date'] = pd.to_datetime(df_2['time_stamp'])\n",
    "df_2.head(20)"
   ]
  },
  {
   "cell_type": "code",
   "execution_count": 8,
   "metadata": {},
   "outputs": [
    {
     "data": {
      "text/html": [
       "<div>\n",
       "<style scoped>\n",
       "    .dataframe tbody tr th:only-of-type {\n",
       "        vertical-align: middle;\n",
       "    }\n",
       "\n",
       "    .dataframe tbody tr th {\n",
       "        vertical-align: top;\n",
       "    }\n",
       "\n",
       "    .dataframe thead th {\n",
       "        text-align: right;\n",
       "    }\n",
       "</style>\n",
       "<table border=\"1\" class=\"dataframe\">\n",
       "  <thead>\n",
       "    <tr style=\"text-align: right;\">\n",
       "      <th></th>\n",
       "      <th>time_stamp</th>\n",
       "      <th>user_id</th>\n",
       "      <th>visited</th>\n",
       "      <th>date</th>\n",
       "      <th>delta_t_weeks</th>\n",
       "    </tr>\n",
       "  </thead>\n",
       "  <tbody>\n",
       "    <tr>\n",
       "      <th>0</th>\n",
       "      <td>2014-04-22 03:53:30</td>\n",
       "      <td>1</td>\n",
       "      <td>1</td>\n",
       "      <td>2014-04-22 03:53:30</td>\n",
       "      <td>0</td>\n",
       "    </tr>\n",
       "    <tr>\n",
       "      <th>1</th>\n",
       "      <td>2013-11-15 03:45:04</td>\n",
       "      <td>2</td>\n",
       "      <td>1</td>\n",
       "      <td>2013-11-15 03:45:04</td>\n",
       "      <td>0</td>\n",
       "    </tr>\n",
       "    <tr>\n",
       "      <th>2</th>\n",
       "      <td>2013-11-29 03:45:04</td>\n",
       "      <td>2</td>\n",
       "      <td>1</td>\n",
       "      <td>2013-11-29 03:45:04</td>\n",
       "      <td>0</td>\n",
       "    </tr>\n",
       "    <tr>\n",
       "      <th>3</th>\n",
       "      <td>2013-12-09 03:45:04</td>\n",
       "      <td>2</td>\n",
       "      <td>1</td>\n",
       "      <td>2013-12-09 03:45:04</td>\n",
       "      <td>0</td>\n",
       "    </tr>\n",
       "    <tr>\n",
       "      <th>4</th>\n",
       "      <td>2013-12-25 03:45:04</td>\n",
       "      <td>2</td>\n",
       "      <td>1</td>\n",
       "      <td>2013-12-25 03:45:04</td>\n",
       "      <td>0</td>\n",
       "    </tr>\n",
       "    <tr>\n",
       "      <th>5</th>\n",
       "      <td>2013-12-31 03:45:04</td>\n",
       "      <td>2</td>\n",
       "      <td>1</td>\n",
       "      <td>2013-12-31 03:45:04</td>\n",
       "      <td>0</td>\n",
       "    </tr>\n",
       "    <tr>\n",
       "      <th>6</th>\n",
       "      <td>2014-01-08 03:45:04</td>\n",
       "      <td>2</td>\n",
       "      <td>1</td>\n",
       "      <td>2014-01-08 03:45:04</td>\n",
       "      <td>0</td>\n",
       "    </tr>\n",
       "    <tr>\n",
       "      <th>7</th>\n",
       "      <td>2014-02-03 03:45:04</td>\n",
       "      <td>2</td>\n",
       "      <td>1</td>\n",
       "      <td>2014-02-03 03:45:04</td>\n",
       "      <td>0</td>\n",
       "    </tr>\n",
       "    <tr>\n",
       "      <th>8</th>\n",
       "      <td>2014-02-08 03:45:04</td>\n",
       "      <td>2</td>\n",
       "      <td>1</td>\n",
       "      <td>2014-02-08 03:45:04</td>\n",
       "      <td>0</td>\n",
       "    </tr>\n",
       "    <tr>\n",
       "      <th>9</th>\n",
       "      <td>2014-02-09 03:45:04</td>\n",
       "      <td>2</td>\n",
       "      <td>1</td>\n",
       "      <td>2014-02-09 03:45:04</td>\n",
       "      <td>0</td>\n",
       "    </tr>\n",
       "    <tr>\n",
       "      <th>10</th>\n",
       "      <td>2014-02-13 03:45:04</td>\n",
       "      <td>2</td>\n",
       "      <td>1</td>\n",
       "      <td>2014-02-13 03:45:04</td>\n",
       "      <td>0</td>\n",
       "    </tr>\n",
       "    <tr>\n",
       "      <th>11</th>\n",
       "      <td>2014-02-16 03:45:04</td>\n",
       "      <td>2</td>\n",
       "      <td>1</td>\n",
       "      <td>2014-02-16 03:45:04</td>\n",
       "      <td>0</td>\n",
       "    </tr>\n",
       "    <tr>\n",
       "      <th>12</th>\n",
       "      <td>2014-03-09 03:45:04</td>\n",
       "      <td>2</td>\n",
       "      <td>1</td>\n",
       "      <td>2014-03-09 03:45:04</td>\n",
       "      <td>0</td>\n",
       "    </tr>\n",
       "    <tr>\n",
       "      <th>13</th>\n",
       "      <td>2014-03-13 03:45:04</td>\n",
       "      <td>2</td>\n",
       "      <td>1</td>\n",
       "      <td>2014-03-13 03:45:04</td>\n",
       "      <td>0</td>\n",
       "    </tr>\n",
       "    <tr>\n",
       "      <th>14</th>\n",
       "      <td>2014-03-31 03:45:04</td>\n",
       "      <td>2</td>\n",
       "      <td>1</td>\n",
       "      <td>2014-03-31 03:45:04</td>\n",
       "      <td>0</td>\n",
       "    </tr>\n",
       "    <tr>\n",
       "      <th>15</th>\n",
       "      <td>2013-03-19 23:14:52</td>\n",
       "      <td>3</td>\n",
       "      <td>1</td>\n",
       "      <td>2013-03-19 23:14:52</td>\n",
       "      <td>0</td>\n",
       "    </tr>\n",
       "    <tr>\n",
       "      <th>16</th>\n",
       "      <td>2013-05-22 08:09:28</td>\n",
       "      <td>4</td>\n",
       "      <td>1</td>\n",
       "      <td>2013-05-22 08:09:28</td>\n",
       "      <td>0</td>\n",
       "    </tr>\n",
       "    <tr>\n",
       "      <th>17</th>\n",
       "      <td>2013-01-22 10:14:20</td>\n",
       "      <td>5</td>\n",
       "      <td>1</td>\n",
       "      <td>2013-01-22 10:14:20</td>\n",
       "      <td>0</td>\n",
       "    </tr>\n",
       "    <tr>\n",
       "      <th>18</th>\n",
       "      <td>2013-12-19 03:37:06</td>\n",
       "      <td>6</td>\n",
       "      <td>1</td>\n",
       "      <td>2013-12-19 03:37:06</td>\n",
       "      <td>0</td>\n",
       "    </tr>\n",
       "    <tr>\n",
       "      <th>19</th>\n",
       "      <td>2012-12-20 13:24:32</td>\n",
       "      <td>7</td>\n",
       "      <td>1</td>\n",
       "      <td>2012-12-20 13:24:32</td>\n",
       "      <td>0</td>\n",
       "    </tr>\n",
       "  </tbody>\n",
       "</table>\n",
       "</div>"
      ],
      "text/plain": [
       "             time_stamp  user_id  visited                date  delta_t_weeks\n",
       "0   2014-04-22 03:53:30        1        1 2014-04-22 03:53:30              0\n",
       "1   2013-11-15 03:45:04        2        1 2013-11-15 03:45:04              0\n",
       "2   2013-11-29 03:45:04        2        1 2013-11-29 03:45:04              0\n",
       "3   2013-12-09 03:45:04        2        1 2013-12-09 03:45:04              0\n",
       "4   2013-12-25 03:45:04        2        1 2013-12-25 03:45:04              0\n",
       "5   2013-12-31 03:45:04        2        1 2013-12-31 03:45:04              0\n",
       "6   2014-01-08 03:45:04        2        1 2014-01-08 03:45:04              0\n",
       "7   2014-02-03 03:45:04        2        1 2014-02-03 03:45:04              0\n",
       "8   2014-02-08 03:45:04        2        1 2014-02-08 03:45:04              0\n",
       "9   2014-02-09 03:45:04        2        1 2014-02-09 03:45:04              0\n",
       "10  2014-02-13 03:45:04        2        1 2014-02-13 03:45:04              0\n",
       "11  2014-02-16 03:45:04        2        1 2014-02-16 03:45:04              0\n",
       "12  2014-03-09 03:45:04        2        1 2014-03-09 03:45:04              0\n",
       "13  2014-03-13 03:45:04        2        1 2014-03-13 03:45:04              0\n",
       "14  2014-03-31 03:45:04        2        1 2014-03-31 03:45:04              0\n",
       "15  2013-03-19 23:14:52        3        1 2013-03-19 23:14:52              0\n",
       "16  2013-05-22 08:09:28        4        1 2013-05-22 08:09:28              0\n",
       "17  2013-01-22 10:14:20        5        1 2013-01-22 10:14:20              0\n",
       "18  2013-12-19 03:37:06        6        1 2013-12-19 03:37:06              0\n",
       "19  2012-12-20 13:24:32        7        1 2012-12-20 13:24:32              0"
      ]
     },
     "execution_count": 8,
     "metadata": {},
     "output_type": "execute_result"
    }
   ],
   "source": [
    "# create new coulum 'delta_t_weeks'\n",
    "df_2['delta_t_weeks'] = 0\n",
    "df_2.head(20)"
   ]
  },
  {
   "cell_type": "code",
   "execution_count": 9,
   "metadata": {},
   "outputs": [],
   "source": [
    "# get list of users who have logged at least 3 times in 7 days - 'adopted' users\n",
    "\n",
    "lst_user = df_2['user_id'].value_counts().index\n",
    "t_0 = 0\n",
    "lst_user_a = []\n",
    "log_max = 0\n",
    "\n",
    "for user in lst_user:\n",
    "    df_0 = df_2[df_2['user_id'] == user].copy()\n",
    "    df_0.reset_index(drop = True, inplace = True)\n",
    "    t_0 = df_0['date'].iloc[0]\n",
    "    \n",
    "    \n",
    "    for i in range(len(df_0)):\n",
    "        df_0['delta_t_weeks'].iloc[i] = (df_0['date'].iloc[i] - t_0).days // 7\n",
    "        \n",
    "    log_max = df_0['delta_t_weeks'].value_counts().values.max()\n",
    "    \n",
    "    if log_max >= 3:\n",
    "        lst_user_a.append(user)"
   ]
  },
  {
   "cell_type": "code",
   "execution_count": 10,
   "metadata": {},
   "outputs": [
    {
     "name": "stdout",
     "output_type": "stream",
     "text": [
      "All users:  8823\n",
      "Adopted users:  1472\n"
     ]
    }
   ],
   "source": [
    "# print number of all users and of adopted users\n",
    "print('All users: ', len(lst_user))\n",
    "print('Adopted users: ', len(lst_user_a))"
   ]
  },
  {
   "cell_type": "code",
   "execution_count": 11,
   "metadata": {},
   "outputs": [
    {
     "data": {
      "text/plain": [
       "False"
      ]
     },
     "execution_count": 11,
     "metadata": {},
     "output_type": "execute_result"
    }
   ],
   "source": [
    "# check for user_id = 1\n",
    "1 in lst_user_a"
   ]
  },
  {
   "cell_type": "code",
   "execution_count": 12,
   "metadata": {},
   "outputs": [
    {
     "data": {
      "text/plain": [
       "True"
      ]
     },
     "execution_count": 12,
     "metadata": {},
     "output_type": "execute_result"
    }
   ],
   "source": [
    "# check for user_id = 2\n",
    "2 in lst_user_a"
   ]
  },
  {
   "cell_type": "code",
   "execution_count": 13,
   "metadata": {},
   "outputs": [],
   "source": [
    "# checks out"
   ]
  },
  {
   "cell_type": "markdown",
   "metadata": {},
   "source": [
    "### Use list of 'adopted users' to separate user data in 'Adopted' and 'Non-Adopted' users."
   ]
  },
  {
   "cell_type": "code",
   "execution_count": 14,
   "metadata": {},
   "outputs": [
    {
     "name": "stdout",
     "output_type": "stream",
     "text": [
      "<class 'pandas.core.frame.DataFrame'>\n",
      "RangeIndex: 1472 entries, 0 to 1471\n",
      "Data columns (total 10 columns):\n",
      " #   Column                      Non-Null Count  Dtype  \n",
      "---  ------                      --------------  -----  \n",
      " 0   object_id                   1472 non-null   int64  \n",
      " 1   creation_time               1472 non-null   object \n",
      " 2   name                        1472 non-null   object \n",
      " 3   email                       1472 non-null   object \n",
      " 4   creation_source             1472 non-null   object \n",
      " 5   last_session_creation_time  1472 non-null   float64\n",
      " 6   opted_in_to_mailing_list    1472 non-null   int64  \n",
      " 7   enabled_for_marketing_drip  1472 non-null   int64  \n",
      " 8   org_id                      1472 non-null   int64  \n",
      " 9   invited_by_user_id          836 non-null    float64\n",
      "dtypes: float64(2), int64(4), object(4)\n",
      "memory usage: 115.1+ KB\n"
     ]
    }
   ],
   "source": [
    "mask_user_a = df_1['object_id'].isin(lst_user_a)\n",
    "\n",
    "# adopted users\n",
    "df_1a = df_1[mask_user_a].copy()\n",
    "df_1a.reset_index(inplace = True, drop = True)\n",
    "\n",
    "df_1a.info()"
   ]
  },
  {
   "cell_type": "code",
   "execution_count": 15,
   "metadata": {},
   "outputs": [
    {
     "name": "stdout",
     "output_type": "stream",
     "text": [
      "<class 'pandas.core.frame.DataFrame'>\n",
      "RangeIndex: 10528 entries, 0 to 10527\n",
      "Data columns (total 10 columns):\n",
      " #   Column                      Non-Null Count  Dtype  \n",
      "---  ------                      --------------  -----  \n",
      " 0   object_id                   10528 non-null  int64  \n",
      " 1   creation_time               10528 non-null  object \n",
      " 2   name                        10528 non-null  object \n",
      " 3   email                       10528 non-null  object \n",
      " 4   creation_source             10528 non-null  object \n",
      " 5   last_session_creation_time  7351 non-null   float64\n",
      " 6   opted_in_to_mailing_list    10528 non-null  int64  \n",
      " 7   enabled_for_marketing_drip  10528 non-null  int64  \n",
      " 8   org_id                      10528 non-null  int64  \n",
      " 9   invited_by_user_id          5581 non-null   float64\n",
      "dtypes: float64(2), int64(4), object(4)\n",
      "memory usage: 822.6+ KB\n"
     ]
    }
   ],
   "source": [
    "# non-adopted users\n",
    "df_1b = df_1[~mask_user_a].copy()\n",
    "df_1b.reset_index(inplace = True, drop = True)\n",
    "\n",
    "df_1b.info()"
   ]
  },
  {
   "cell_type": "code",
   "execution_count": 16,
   "metadata": {},
   "outputs": [
    {
     "data": {
      "text/html": [
       "<div>\n",
       "<style scoped>\n",
       "    .dataframe tbody tr th:only-of-type {\n",
       "        vertical-align: middle;\n",
       "    }\n",
       "\n",
       "    .dataframe tbody tr th {\n",
       "        vertical-align: top;\n",
       "    }\n",
       "\n",
       "    .dataframe thead th {\n",
       "        text-align: right;\n",
       "    }\n",
       "</style>\n",
       "<table border=\"1\" class=\"dataframe\">\n",
       "  <thead>\n",
       "    <tr style=\"text-align: right;\">\n",
       "      <th></th>\n",
       "      <th>object_id</th>\n",
       "      <th>creation_time</th>\n",
       "      <th>name</th>\n",
       "      <th>email</th>\n",
       "      <th>creation_source</th>\n",
       "      <th>last_session_creation_time</th>\n",
       "      <th>opted_in_to_mailing_list</th>\n",
       "      <th>enabled_for_marketing_drip</th>\n",
       "      <th>org_id</th>\n",
       "      <th>invited_by_user_id</th>\n",
       "    </tr>\n",
       "  </thead>\n",
       "  <tbody>\n",
       "    <tr>\n",
       "      <th>0</th>\n",
       "      <td>2</td>\n",
       "      <td>2013-11-15 03:45:04</td>\n",
       "      <td>Poole Matthew</td>\n",
       "      <td>MatthewPoole@gustr.com</td>\n",
       "      <td>ORG_INVITE</td>\n",
       "      <td>1.396238e+09</td>\n",
       "      <td>0</td>\n",
       "      <td>0</td>\n",
       "      <td>1</td>\n",
       "      <td>316.0</td>\n",
       "    </tr>\n",
       "    <tr>\n",
       "      <th>1</th>\n",
       "      <td>10</td>\n",
       "      <td>2013-01-16 22:08:03</td>\n",
       "      <td>Santos Carla</td>\n",
       "      <td>CarlaFerreiraSantos@gustr.com</td>\n",
       "      <td>ORG_INVITE</td>\n",
       "      <td>1.401833e+09</td>\n",
       "      <td>1</td>\n",
       "      <td>1</td>\n",
       "      <td>318</td>\n",
       "      <td>4143.0</td>\n",
       "    </tr>\n",
       "    <tr>\n",
       "      <th>2</th>\n",
       "      <td>20</td>\n",
       "      <td>2014-03-06 11:46:38</td>\n",
       "      <td>Helms Mikayla</td>\n",
       "      <td>lqyvjilf@uhzdq.com</td>\n",
       "      <td>SIGNUP</td>\n",
       "      <td>1.401364e+09</td>\n",
       "      <td>0</td>\n",
       "      <td>0</td>\n",
       "      <td>58</td>\n",
       "      <td>NaN</td>\n",
       "    </tr>\n",
       "    <tr>\n",
       "      <th>3</th>\n",
       "      <td>42</td>\n",
       "      <td>2012-11-11 19:05:07</td>\n",
       "      <td>Pinto Giovanna</td>\n",
       "      <td>GiovannaCunhaPinto@cuvox.de</td>\n",
       "      <td>SIGNUP</td>\n",
       "      <td>1.401045e+09</td>\n",
       "      <td>1</td>\n",
       "      <td>0</td>\n",
       "      <td>235</td>\n",
       "      <td>NaN</td>\n",
       "    </tr>\n",
       "    <tr>\n",
       "      <th>4</th>\n",
       "      <td>43</td>\n",
       "      <td>2012-12-31 07:13:17</td>\n",
       "      <td>Gomes Beatrice</td>\n",
       "      <td>vgqmpljq@yyyxt.com</td>\n",
       "      <td>GUEST_INVITE</td>\n",
       "      <td>1.366010e+09</td>\n",
       "      <td>0</td>\n",
       "      <td>0</td>\n",
       "      <td>63</td>\n",
       "      <td>149.0</td>\n",
       "    </tr>\n",
       "  </tbody>\n",
       "</table>\n",
       "</div>"
      ],
      "text/plain": [
       "   object_id        creation_time            name  \\\n",
       "0          2  2013-11-15 03:45:04   Poole Matthew   \n",
       "1         10  2013-01-16 22:08:03    Santos Carla   \n",
       "2         20  2014-03-06 11:46:38   Helms Mikayla   \n",
       "3         42  2012-11-11 19:05:07  Pinto Giovanna   \n",
       "4         43  2012-12-31 07:13:17  Gomes Beatrice   \n",
       "\n",
       "                           email creation_source  last_session_creation_time  \\\n",
       "0         MatthewPoole@gustr.com      ORG_INVITE                1.396238e+09   \n",
       "1  CarlaFerreiraSantos@gustr.com      ORG_INVITE                1.401833e+09   \n",
       "2             lqyvjilf@uhzdq.com          SIGNUP                1.401364e+09   \n",
       "3    GiovannaCunhaPinto@cuvox.de          SIGNUP                1.401045e+09   \n",
       "4             vgqmpljq@yyyxt.com    GUEST_INVITE                1.366010e+09   \n",
       "\n",
       "   opted_in_to_mailing_list  enabled_for_marketing_drip  org_id  \\\n",
       "0                         0                           0       1   \n",
       "1                         1                           1     318   \n",
       "2                         0                           0      58   \n",
       "3                         1                           0     235   \n",
       "4                         0                           0      63   \n",
       "\n",
       "   invited_by_user_id  \n",
       "0               316.0  \n",
       "1              4143.0  \n",
       "2                 NaN  \n",
       "3                 NaN  \n",
       "4               149.0  "
      ]
     },
     "execution_count": 16,
     "metadata": {},
     "output_type": "execute_result"
    }
   ],
   "source": [
    "# adopted users\n",
    "df_1a.head()"
   ]
  },
  {
   "cell_type": "code",
   "execution_count": 17,
   "metadata": {},
   "outputs": [
    {
     "data": {
      "text/html": [
       "<div>\n",
       "<style scoped>\n",
       "    .dataframe tbody tr th:only-of-type {\n",
       "        vertical-align: middle;\n",
       "    }\n",
       "\n",
       "    .dataframe tbody tr th {\n",
       "        vertical-align: top;\n",
       "    }\n",
       "\n",
       "    .dataframe thead th {\n",
       "        text-align: right;\n",
       "    }\n",
       "</style>\n",
       "<table border=\"1\" class=\"dataframe\">\n",
       "  <thead>\n",
       "    <tr style=\"text-align: right;\">\n",
       "      <th></th>\n",
       "      <th>object_id</th>\n",
       "      <th>creation_time</th>\n",
       "      <th>name</th>\n",
       "      <th>email</th>\n",
       "      <th>creation_source</th>\n",
       "      <th>last_session_creation_time</th>\n",
       "      <th>opted_in_to_mailing_list</th>\n",
       "      <th>enabled_for_marketing_drip</th>\n",
       "      <th>org_id</th>\n",
       "      <th>invited_by_user_id</th>\n",
       "    </tr>\n",
       "  </thead>\n",
       "  <tbody>\n",
       "    <tr>\n",
       "      <th>0</th>\n",
       "      <td>1</td>\n",
       "      <td>2014-04-22 03:53:30</td>\n",
       "      <td>Clausen August</td>\n",
       "      <td>AugustCClausen@yahoo.com</td>\n",
       "      <td>GUEST_INVITE</td>\n",
       "      <td>1.398139e+09</td>\n",
       "      <td>1</td>\n",
       "      <td>0</td>\n",
       "      <td>11</td>\n",
       "      <td>10803.0</td>\n",
       "    </tr>\n",
       "    <tr>\n",
       "      <th>1</th>\n",
       "      <td>3</td>\n",
       "      <td>2013-03-19 23:14:52</td>\n",
       "      <td>Bottrill Mitchell</td>\n",
       "      <td>MitchellBottrill@gustr.com</td>\n",
       "      <td>ORG_INVITE</td>\n",
       "      <td>1.363735e+09</td>\n",
       "      <td>0</td>\n",
       "      <td>0</td>\n",
       "      <td>94</td>\n",
       "      <td>1525.0</td>\n",
       "    </tr>\n",
       "    <tr>\n",
       "      <th>2</th>\n",
       "      <td>4</td>\n",
       "      <td>2013-05-21 08:09:28</td>\n",
       "      <td>Clausen Nicklas</td>\n",
       "      <td>NicklasSClausen@yahoo.com</td>\n",
       "      <td>GUEST_INVITE</td>\n",
       "      <td>1.369210e+09</td>\n",
       "      <td>0</td>\n",
       "      <td>0</td>\n",
       "      <td>1</td>\n",
       "      <td>5151.0</td>\n",
       "    </tr>\n",
       "    <tr>\n",
       "      <th>3</th>\n",
       "      <td>5</td>\n",
       "      <td>2013-01-17 10:14:20</td>\n",
       "      <td>Raw Grace</td>\n",
       "      <td>GraceRaw@yahoo.com</td>\n",
       "      <td>GUEST_INVITE</td>\n",
       "      <td>1.358850e+09</td>\n",
       "      <td>0</td>\n",
       "      <td>0</td>\n",
       "      <td>193</td>\n",
       "      <td>5240.0</td>\n",
       "    </tr>\n",
       "    <tr>\n",
       "      <th>4</th>\n",
       "      <td>6</td>\n",
       "      <td>2013-12-17 03:37:06</td>\n",
       "      <td>Cunha Eduardo</td>\n",
       "      <td>EduardoPereiraCunha@yahoo.com</td>\n",
       "      <td>GUEST_INVITE</td>\n",
       "      <td>1.387424e+09</td>\n",
       "      <td>0</td>\n",
       "      <td>0</td>\n",
       "      <td>197</td>\n",
       "      <td>11241.0</td>\n",
       "    </tr>\n",
       "  </tbody>\n",
       "</table>\n",
       "</div>"
      ],
      "text/plain": [
       "   object_id        creation_time               name  \\\n",
       "0          1  2014-04-22 03:53:30     Clausen August   \n",
       "1          3  2013-03-19 23:14:52  Bottrill Mitchell   \n",
       "2          4  2013-05-21 08:09:28    Clausen Nicklas   \n",
       "3          5  2013-01-17 10:14:20          Raw Grace   \n",
       "4          6  2013-12-17 03:37:06      Cunha Eduardo   \n",
       "\n",
       "                           email creation_source  last_session_creation_time  \\\n",
       "0       AugustCClausen@yahoo.com    GUEST_INVITE                1.398139e+09   \n",
       "1     MitchellBottrill@gustr.com      ORG_INVITE                1.363735e+09   \n",
       "2      NicklasSClausen@yahoo.com    GUEST_INVITE                1.369210e+09   \n",
       "3             GraceRaw@yahoo.com    GUEST_INVITE                1.358850e+09   \n",
       "4  EduardoPereiraCunha@yahoo.com    GUEST_INVITE                1.387424e+09   \n",
       "\n",
       "   opted_in_to_mailing_list  enabled_for_marketing_drip  org_id  \\\n",
       "0                         1                           0      11   \n",
       "1                         0                           0      94   \n",
       "2                         0                           0       1   \n",
       "3                         0                           0     193   \n",
       "4                         0                           0     197   \n",
       "\n",
       "   invited_by_user_id  \n",
       "0             10803.0  \n",
       "1              1525.0  \n",
       "2              5151.0  \n",
       "3              5240.0  \n",
       "4             11241.0  "
      ]
     },
     "execution_count": 17,
     "metadata": {},
     "output_type": "execute_result"
    }
   ],
   "source": [
    "# non-adopted users\n",
    "df_1b.head()"
   ]
  },
  {
   "cell_type": "markdown",
   "metadata": {},
   "source": [
    "### Compare the composition of key features - 'creation_source', 'opted_in_to_mailing_list', and 'enabled_for_marketing_drip' - in 'Adopted' and 'Non-Adopted' users."
   ]
  },
  {
   "cell_type": "code",
   "execution_count": 18,
   "metadata": {},
   "outputs": [],
   "source": [
    "# define a function to plot the value count of a feature from a dataset\n",
    "\n",
    "data_feat = 'creation_source'\n",
    "data_name = 'Adopted Users' # data_name will be used as a legend in the plot\n",
    "count_feat = 0\n",
    "n_pts = 25 # number of values to plot from the value_count\n",
    "\n",
    "fig_size_x = 12\n",
    "fig_size_y = 10\n",
    "legend_box_x = 1.0\n",
    "legend_box_y = 0.1\n",
    "\n",
    "x_max = 100\n",
    "d_x = 10\n",
    "\n",
    "# define function\n",
    "def plot_feat_count(count_feat, data_feat, data_name, n_pts, fig_size_x, fig_size_y, x_max, d_x, legend_box_x, legend_box_y):\n",
    "    \n",
    "    plt.figure(figsize = (fig_size_x, fig_size_y))\n",
    "    sns.barplot(x = count_feat.iloc[0:plt_pts].values, y = count_feat.iloc[0:plt_pts].index, palette = 'viridis', label = data_name)\n",
    "    plt.xlim(0, x_max)\n",
    "    plt.xticks(np.arange(0, x_max + d_x , d_x))\n",
    "    plt.xlabel('Number of Users (%)')\n",
    "    plt.title('Percentage of Number of Users vs. ' + data_feat.upper(), pad = 20)\n",
    "    plt.legend(bbox_to_anchor = (legend_box_x, legend_box_y))\n",
    "    plt.show()"
   ]
  },
  {
   "cell_type": "markdown",
   "metadata": {},
   "source": [
    "- **Examine 'creation_source'**"
   ]
  },
  {
   "cell_type": "code",
   "execution_count": 19,
   "metadata": {},
   "outputs": [
    {
     "name": "stdout",
     "output_type": "stream",
     "text": [
      "ORG_INVITE            34.239130\n",
      "GUEST_INVITE          22.554348\n",
      "SIGNUP                18.682065\n",
      "SIGNUP_GOOGLE_AUTH    14.741848\n",
      "PERSONAL_PROJECTS      9.782609\n",
      "Name: creation_source, dtype: float64\n",
      "\n",
      "\n",
      "creation_source - total number of values:  5\n"
     ]
    }
   ],
   "source": [
    "# get and print feature value count for data_a\n",
    "\n",
    "data = df_1a\n",
    "data_feat = 'creation_source'\n",
    "count_feat = data[data_feat].value_counts(normalize = True) * 100\n",
    "\n",
    "print(count_feat)\n",
    "print('\\n')\n",
    "print(data_feat + ' - total number of values: ', len(count_feat))"
   ]
  },
  {
   "cell_type": "code",
   "execution_count": 20,
   "metadata": {},
   "outputs": [
    {
     "data": {
      "image/png": "[encoded data removed]",
      "text/plain": [
       "<Figure size 864x720 with 1 Axes>"
      ]
     },
     "metadata": {},
     "output_type": "display_data"
    }
   ],
   "source": [
    "# plot\n",
    "\n",
    "data_name = 'Adopted Users'\n",
    "plt_pts = len(count_feat)\n",
    "x_max = 50\n",
    "d_x = 10\n",
    "plot_feat_count(count_feat, data_feat, data_name, plt_pts, fig_size_x, fig_size_y, x_max, d_x, legend_box_x, legend_box_y)"
   ]
  },
  {
   "cell_type": "code",
   "execution_count": 21,
   "metadata": {},
   "outputs": [
    {
     "name": "stdout",
     "output_type": "stream",
     "text": [
      "ORG_INVITE            35.619301\n",
      "PERSONAL_PROJECTS     18.683511\n",
      "GUEST_INVITE          17.391717\n",
      "SIGNUP                17.211246\n",
      "SIGNUP_GOOGLE_AUTH    11.094225\n",
      "Name: creation_source, dtype: float64\n",
      "\n",
      "\n",
      "creation_source - total number of values:  5\n"
     ]
    }
   ],
   "source": [
    "# get and print feature value count for data_b\n",
    "\n",
    "data = df_1b\n",
    "\n",
    "count_feat = data[data_feat].value_counts(normalize = True) * 100\n",
    "\n",
    "print(count_feat)\n",
    "print('\\n')\n",
    "print(data_feat + ' - total number of values: ', len(count_feat))"
   ]
  },
  {
   "cell_type": "code",
   "execution_count": 22,
   "metadata": {},
   "outputs": [
    {
     "data": {
      "image/png": "[encoded data removed]",
      "text/plain": [
       "<Figure size 864x720 with 1 Axes>"
      ]
     },
     "metadata": {},
     "output_type": "display_data"
    }
   ],
   "source": [
    "# plot\n",
    "\n",
    "data_name = 'Non-Adopted Users'\n",
    "plt_pts = len(count_feat)\n",
    "\n",
    "plot_feat_count(count_feat, data_feat, data_name, plt_pts, fig_size_x, fig_size_y, x_max, d_x, legend_box_x, legend_box_y)"
   ]
  },
  {
   "cell_type": "markdown",
   "metadata": {},
   "source": [
    "- **Examine 'opted_in_to_mailing_list'**"
   ]
  },
  {
   "cell_type": "code",
   "execution_count": 23,
   "metadata": {},
   "outputs": [
    {
     "name": "stdout",
     "output_type": "stream",
     "text": [
      "0    73.845109\n",
      "1    26.154891\n",
      "Name: opted_in_to_mailing_list, dtype: float64\n",
      "\n",
      "\n",
      "opted_in_to_mailing_list - total number of values:  2\n"
     ]
    }
   ],
   "source": [
    "# get and print feature value count for data_a\n",
    "\n",
    "data = df_1a\n",
    "data_feat = 'opted_in_to_mailing_list'\n",
    "count_feat = data[data_feat].value_counts(normalize = True) * 100\n",
    "\n",
    "print(count_feat)\n",
    "print('\\n')\n",
    "print(data_feat + ' - total number of values: ', len(count_feat))"
   ]
  },
  {
   "cell_type": "code",
   "execution_count": 24,
   "metadata": {},
   "outputs": [
    {
     "data": {
      "image/png": "[encoded data removed]",
      "text/plain": [
       "<Figure size 864x720 with 1 Axes>"
      ]
     },
     "metadata": {},
     "output_type": "display_data"
    }
   ],
   "source": [
    "x_plt = ['No', 'Yes']\n",
    "y_plt = [74, 26]\n",
    "\n",
    "data_name = 'Adopted Users'\n",
    "\n",
    "plt.figure(figsize = (fig_size_x, fig_size_y))\n",
    "sns.barplot(x_plt, y_plt, palette = 'viridis', label = data_name)\n",
    "plt.ylim(0, 100)\n",
    "#plt.xticks(np.arange(0, x_max + d_x , d_x))\n",
    "plt.ylabel('Number of Users (%)')\n",
    "plt.title('Percentage of Users - ' + data_feat.upper(), pad = 20)\n",
    "plt.legend()\n",
    "plt.show()"
   ]
  },
  {
   "cell_type": "code",
   "execution_count": 25,
   "metadata": {},
   "outputs": [
    {
     "name": "stdout",
     "output_type": "stream",
     "text": [
      "0    75.218465\n",
      "1    24.781535\n",
      "Name: opted_in_to_mailing_list, dtype: float64\n",
      "\n",
      "\n",
      "opted_in_to_mailing_list - total number of values:  2\n"
     ]
    }
   ],
   "source": [
    "# get and print feature value count for data_ab\n",
    "\n",
    "data = df_1b\n",
    "\n",
    "count_feat = data[data_feat].value_counts(normalize = True) * 100\n",
    "\n",
    "print(count_feat)\n",
    "print('\\n')\n",
    "print(data_feat + ' - total number of values: ', len(count_feat))"
   ]
  },
  {
   "cell_type": "code",
   "execution_count": 26,
   "metadata": {},
   "outputs": [
    {
     "data": {
      "image/png": "[encoded data removed]",
      "text/plain": [
       "<Figure size 864x720 with 1 Axes>"
      ]
     },
     "metadata": {},
     "output_type": "display_data"
    }
   ],
   "source": [
    "x_plt = ['No', 'Yes']\n",
    "y_plt = [75, 25]\n",
    "\n",
    "data_name = 'Non-Adopted Users'\n",
    "\n",
    "plt.figure(figsize = (fig_size_x, fig_size_y))\n",
    "sns.barplot(x_plt, y_plt, palette = 'viridis', label = data_name)\n",
    "plt.ylim(0, 100)\n",
    "#plt.xticks(np.arange(0, x_max + d_x , d_x))\n",
    "plt.ylabel('Number of Users (%)')\n",
    "plt.title('Percentage of Users - ' + data_feat.upper(), pad = 20)\n",
    "plt.legend()\n",
    "plt.show()"
   ]
  },
  {
   "cell_type": "markdown",
   "metadata": {},
   "source": [
    "- **Examine 'enabled_for_marketing_drip'**"
   ]
  },
  {
   "cell_type": "code",
   "execution_count": 27,
   "metadata": {},
   "outputs": [
    {
     "name": "stdout",
     "output_type": "stream",
     "text": [
      "0    84.578804\n",
      "1    15.421196\n",
      "Name: enabled_for_marketing_drip, dtype: float64\n",
      "\n",
      "\n",
      "enabled_for_marketing_drip - total number of values:  2\n"
     ]
    }
   ],
   "source": [
    "# get and print feature value count for data_a\n",
    "\n",
    "data = df_1a\n",
    "data_feat = 'enabled_for_marketing_drip'\n",
    "count_feat = data[data_feat].value_counts(normalize = True) * 100\n",
    "\n",
    "print(count_feat)\n",
    "print('\\n')\n",
    "print(data_feat + ' - total number of values: ', len(count_feat))"
   ]
  },
  {
   "cell_type": "code",
   "execution_count": 28,
   "metadata": {},
   "outputs": [
    {
     "data": {
      "image/png": "[encoded data removed]",
      "text/plain": [
       "<Figure size 864x720 with 1 Axes>"
      ]
     },
     "metadata": {},
     "output_type": "display_data"
    }
   ],
   "source": [
    "x_plt = ['No', 'Yes']\n",
    "y_plt = [85, 25]\n",
    "\n",
    "data_name = 'Adopted Users'\n",
    "\n",
    "plt.figure(figsize = (fig_size_x, fig_size_y))\n",
    "sns.barplot(x_plt, y_plt, palette = 'viridis', label = data_name)\n",
    "plt.ylim(0, 100)\n",
    "#plt.xticks(np.arange(0, x_max + d_x , d_x))\n",
    "plt.ylabel('Number of Users (%)')\n",
    "plt.title('Percentage of Users - ' + data_feat.upper(), pad = 20)\n",
    "plt.legend()\n",
    "plt.show()"
   ]
  },
  {
   "cell_type": "code",
   "execution_count": 29,
   "metadata": {},
   "outputs": [
    {
     "name": "stdout",
     "output_type": "stream",
     "text": [
      "0    85.134878\n",
      "1    14.865122\n",
      "Name: enabled_for_marketing_drip, dtype: float64\n",
      "\n",
      "\n",
      "enabled_for_marketing_drip - total number of values:  2\n"
     ]
    }
   ],
   "source": [
    "# get and print feature value count for data_b\n",
    "\n",
    "data = df_1b\n",
    "\n",
    "count_feat = data[data_feat].value_counts(normalize = True) * 100\n",
    "\n",
    "print(count_feat)\n",
    "print('\\n')\n",
    "print(data_feat + ' - total number of values: ', len(count_feat))"
   ]
  },
  {
   "cell_type": "code",
   "execution_count": 30,
   "metadata": {},
   "outputs": [
    {
     "data": {
      "image/png": "[encoded data removed]",
      "text/plain": [
       "<Figure size 864x720 with 1 Axes>"
      ]
     },
     "metadata": {},
     "output_type": "display_data"
    }
   ],
   "source": [
    "x_plt = ['No', 'Yes']\n",
    "y_plt = [85, 15]\n",
    "\n",
    "data_name = 'Non-Adopted Users'\n",
    "\n",
    "plt.figure(figsize = (fig_size_x, fig_size_y))\n",
    "sns.barplot(x_plt, y_plt, palette = 'viridis', label = data_name)\n",
    "plt.ylim(0, 100)\n",
    "#plt.xticks(np.arange(0, x_max + d_x , d_x))\n",
    "plt.ylabel('Number of Users (%)')\n",
    "plt.title('Percentage of Users - ' + data_feat.upper(), pad = 20)\n",
    "plt.legend()\n",
    "plt.show()"
   ]
  },
  {
   "cell_type": "markdown",
   "metadata": {},
   "source": [
    "- **Examine 'org_id'**"
   ]
  },
  {
   "cell_type": "code",
   "execution_count": 31,
   "metadata": {},
   "outputs": [
    {
     "name": "stdout",
     "output_type": "stream",
     "text": [
      "7     1.086957\n",
      "2     0.951087\n",
      "3     0.951087\n",
      "4     0.951087\n",
      "9     0.951087\n",
      "1     0.883152\n",
      "13    0.815217\n",
      "0     0.747283\n",
      "62    0.747283\n",
      "5     0.679348\n",
      "Name: org_id, dtype: float64\n",
      "\n",
      "\n",
      "org_id - total number of values:  398\n"
     ]
    }
   ],
   "source": [
    "# get and print feature value count for data_a\n",
    "\n",
    "data = df_1a\n",
    "data_feat = 'org_id'\n",
    "count_feat = data[data_feat].value_counts(normalize = True) * 100\n",
    "\n",
    "n_pts = 10\n",
    "\n",
    "print(count_feat[0:n_pts])\n",
    "print('\\n')\n",
    "print(data_feat + ' - total number of values: ', len(count_feat))"
   ]
  },
  {
   "cell_type": "code",
   "execution_count": 32,
   "metadata": {},
   "outputs": [
    {
     "name": "stdout",
     "output_type": "stream",
     "text": [
      "0     2.925532\n",
      "1     2.089666\n",
      "2     1.776216\n",
      "3     1.462766\n",
      "4     1.377280\n",
      "6     1.234802\n",
      "5     1.120821\n",
      "9     1.044833\n",
      "7     0.978343\n",
      "10    0.911854\n",
      "Name: org_id, dtype: float64\n",
      "\n",
      "\n",
      "org_id - total number of values:  417\n"
     ]
    }
   ],
   "source": [
    "# get and print feature value count for data_a\n",
    "\n",
    "data = df_1b\n",
    "\n",
    "count_feat = data[data_feat].value_counts(normalize = True) * 100\n",
    "\n",
    "print(count_feat[0:n_pts])\n",
    "print('\\n')\n",
    "print(data_feat + ' - total number of values: ', len(count_feat))"
   ]
  },
  {
   "cell_type": "markdown",
   "metadata": {},
   "source": [
    "## Findings:\n",
    "From the features which were examined there are no true predictors for 'Adopted' vs. 'Non-Adopted' users.\n",
    "\n",
    "There is a need for collecting more user data with new features in order to acomplish our obgective."
   ]
  }
 ],
 "metadata": {
  "kernelspec": {
   "display_name": "Python 3",
   "language": "python",
   "name": "python3"
  },
  "language_info": {
   "codemirror_mode": {
    "name": "ipython",
    "version": 3
   },
   "file_extension": ".py",
   "mimetype": "text/x-python",
   "name": "python",
   "nbconvert_exporter": "python",
   "pygments_lexer": "ipython3",
   "version": "3.7.6"
  }
 },
 "nbformat": 4,
 "nbformat_minor": 4
}
