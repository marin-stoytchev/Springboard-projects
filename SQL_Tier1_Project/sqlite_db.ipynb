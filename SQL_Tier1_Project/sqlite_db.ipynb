{
 "cells": [
  {
   "cell_type": "markdown",
   "metadata": {},
   "source": [
    "### Perform SQL Queries Using SQLite on Local Machine"
   ]
  },
  {
   "cell_type": "code",
   "execution_count": 1,
   "metadata": {},
   "outputs": [],
   "source": [
    "# Import packages\n",
    "\n",
    "import sqlite3\n",
    "import pandas as pd"
   ]
  },
  {
   "cell_type": "code",
   "execution_count": 2,
   "metadata": {},
   "outputs": [
    {
     "name": "stdout",
     "output_type": "stream",
     "text": [
      "SQLite Version is: 3.33.0\n"
     ]
    }
   ],
   "source": [
    "# Check SQLite version\n",
    "\n",
    "print(\"SQLite Version is:\", sqlite3.sqlite_version)"
   ]
  },
  {
   "cell_type": "code",
   "execution_count": 3,
   "metadata": {},
   "outputs": [],
   "source": [
    "# Create connection to dbfile --> dbfile is in the same working directory as the Jupyter notebook\n",
    "\n",
    "dbfile = 'sqlite_db_pythonsqlite.db'\n",
    "conn = sqlite3.connect(dbfile)"
   ]
  },
  {
   "cell_type": "code",
   "execution_count": 4,
   "metadata": {},
   "outputs": [],
   "source": [
    "# Create cursor\n",
    "\n",
    "cur = conn.cursor()"
   ]
  },
  {
   "cell_type": "code",
   "execution_count": 5,
   "metadata": {},
   "outputs": [
    {
     "name": "stdout",
     "output_type": "stream",
     "text": [
      "[('Bookings',), ('Facilities',), ('Members',)]\n"
     ]
    }
   ],
   "source": [
    "# Read all tables names\n",
    "\n",
    "table_list = [a for a in cur.execute(\"SELECT name FROM sqlite_master WHERE type = 'table'\")]\n",
    "\n",
    "# print table list\n",
    "print(table_list)"
   ]
  },
  {
   "cell_type": "markdown",
   "metadata": {},
   "source": [
    "### QUESTIONS"
   ]
  },
  {
   "cell_type": "markdown",
   "metadata": {},
   "source": [
    "#### Q1: Some of the facilities charge a fee to members, but some do not. Write a SQL query to produce a list of the names of the facilities that charge a members fee. (Optional: add fee amount and order by fee in descending order)"
   ]
  },
  {
   "cell_type": "code",
   "execution_count": 6,
   "metadata": {},
   "outputs": [
    {
     "name": "stdout",
     "output_type": "stream",
     "text": [
      "   facid             name  membercost  guestcost  initialoutlay  \\\n",
      "0      0   Tennis Court 1         5.0       25.0          10000   \n",
      "1      1   Tennis Court 2         5.0       25.0           8000   \n",
      "2      2  Badminton Court         0.0       15.5           4000   \n",
      "3      3     Table Tennis         0.0        5.0            320   \n",
      "4      4   Massage Room 1         9.9       80.0           4000   \n",
      "5      5   Massage Room 2         9.9       80.0           4000   \n",
      "6      6     Squash Court         3.5       17.5           5000   \n",
      "7      7    Snooker Table         0.0        5.0            450   \n",
      "8      8       Pool Table         0.0        5.0            400   \n",
      "\n",
      "   monthlymaintenance  \n",
      "0                 200  \n",
      "1                 200  \n",
      "2                  50  \n",
      "3                  10  \n",
      "4                3000  \n",
      "5                3000  \n",
      "6                  80  \n",
      "7                  15  \n",
      "8                  15  \n"
     ]
    }
   ],
   "source": [
    "# Q1 Answer --> Part1: Examine Facilities table by selecting all\n",
    "\n",
    "result = pd.read_sql_query(\"\"\"SELECT * \n",
    "                               FROM Facilities\"\"\", conn)\n",
    "print(result)"
   ]
  },
  {
   "cell_type": "code",
   "execution_count": 7,
   "metadata": {},
   "outputs": [
    {
     "name": "stdout",
     "output_type": "stream",
     "text": [
      "             name  membercost\n",
      "0  Massage Room 1         9.9\n",
      "1  Massage Room 2         9.9\n",
      "2  Tennis Court 1         5.0\n",
      "3  Tennis Court 2         5.0\n",
      "4    Squash Court         3.5\n"
     ]
    }
   ],
   "source": [
    "# Q1 Answer --> Part2: Use WHERE membercost > 0\n",
    "\n",
    "result = pd.read_sql_query(\"\"\"SELECT name, membercost \n",
    "                                FROM Facilities \n",
    "                                WHERE membercost > 0 \n",
    "                                ORDER BY membercost DESC\"\"\", conn)\n",
    "print(result)"
   ]
  },
  {
   "cell_type": "markdown",
   "metadata": {},
   "source": [
    "#### Q2: How many facilities do not charge a fee to members?"
   ]
  },
  {
   "cell_type": "code",
   "execution_count": 8,
   "metadata": {},
   "outputs": [
    {
     "name": "stdout",
     "output_type": "stream",
     "text": [
      "   NUM_of_FAC_with_MEMBERS_FEE\n",
      "0                            4\n"
     ]
    }
   ],
   "source": [
    "# Q2 Answer\n",
    "\n",
    "result = pd.read_sql_query(\"\"\"SELECT COUNT(facid) AS NUM_of_FAC_with_MEMBERS_FEE \n",
    "                                FROM Facilities \n",
    "                                WHERE membercost = 0\"\"\", conn)\n",
    "print(result)"
   ]
  },
  {
   "cell_type": "markdown",
   "metadata": {},
   "source": [
    "#### Q3: Write an SQL query to show a list of facilities that charge a fee to members, where the fee is less than 20% of the facility's monthly maintenance cost. Return the facid, facility name, member cost, and monthly maintenance of the facilities in question. (Optional: order by memebers fee)"
   ]
  },
  {
   "cell_type": "code",
   "execution_count": 9,
   "metadata": {},
   "outputs": [
    {
     "name": "stdout",
     "output_type": "stream",
     "text": [
      "   facid            name  membercost  monthlymaintenance\n",
      "0      4  Massage Room 1         9.9                3000\n",
      "1      5  Massage Room 2         9.9                3000\n",
      "2      0  Tennis Court 1         5.0                 200\n",
      "3      1  Tennis Court 2         5.0                 200\n",
      "4      6    Squash Court         3.5                  80\n"
     ]
    }
   ],
   "source": [
    "# Q3 Answer\n",
    "\n",
    "result = pd.read_sql_query(\"\"\"SELECT facid, name, membercost, monthlymaintenance \n",
    "                                FROM Facilities \n",
    "                                WHERE membercost > 0 AND membercost < 0.2 * monthlymaintenance \n",
    "                                ORDER BY membercost DESC\"\"\", conn)\n",
    "print(result)"
   ]
  },
  {
   "cell_type": "markdown",
   "metadata": {},
   "source": [
    "#### Q4: Write an SQL query to retrieve the details of facilities with ID 1 and 5. Try writing the query without using the OR operator."
   ]
  },
  {
   "cell_type": "code",
   "execution_count": 10,
   "metadata": {},
   "outputs": [
    {
     "name": "stdout",
     "output_type": "stream",
     "text": [
      "   facid            name  membercost  guestcost  initialoutlay  \\\n",
      "0      1  Tennis Court 2         5.0         25           8000   \n",
      "1      5  Massage Room 2         9.9         80           4000   \n",
      "\n",
      "   monthlymaintenance  \n",
      "0                 200  \n",
      "1                3000  \n"
     ]
    }
   ],
   "source": [
    "# Q4 Answer\n",
    "\n",
    "result = pd.read_sql_query(\"\"\"SELECT * \n",
    "                                FROM Facilities \n",
    "                                WHERE facid in (1, 5)\"\"\", conn)\n",
    "print(result)"
   ]
  },
  {
   "cell_type": "markdown",
   "metadata": {},
   "source": [
    "#### Q5: Produce a list of facilities, with each labelled as 'cheap' or 'expensive', depending on if their monthly maintenance cost is more than 100 USD . Return the name and monthly maintenance of the facilities in question."
   ]
  },
  {
   "cell_type": "code",
   "execution_count": 11,
   "metadata": {},
   "outputs": [
    {
     "name": "stdout",
     "output_type": "stream",
     "text": [
      "     Facility_Name  monthlymaintenance   Category\n",
      "0   Massage Room 1                3000  Expensive\n",
      "1   Massage Room 2                3000  Expensive\n",
      "2   Tennis Court 1                 200  Expensive\n",
      "3   Tennis Court 2                 200  Expensive\n",
      "4     Squash Court                  80      Cheap\n",
      "5  Badminton Court                  50      Cheap\n",
      "6    Snooker Table                  15      Cheap\n",
      "7       Pool Table                  15      Cheap\n",
      "8     Table Tennis                  10      Cheap\n"
     ]
    }
   ],
   "source": [
    "# Q5 Answer\n",
    "\n",
    "# Cheap\n",
    "result = pd.read_sql_query(\"\"\"SELECT name AS Facility_Name, \n",
    "                                        monthlymaintenance, \n",
    "                                        CASE WHEN monthlymaintenance <= 100 THEN 'Cheap' \n",
    "                                        ELSE 'Expensive' \n",
    "                                        END AS Category \n",
    "                                FROM Facilities \n",
    "                                ORDER BY monthlymaintenance DESC\"\"\", conn)\n",
    "print(result)"
   ]
  },
  {
   "cell_type": "markdown",
   "metadata": {},
   "source": [
    "#### Q6: You'd like to get the first and last name of the last member(s) who signed up. Try not to use the LIMIT clause for your solution. "
   ]
  },
  {
   "cell_type": "code",
   "execution_count": 12,
   "metadata": {},
   "outputs": [
    {
     "name": "stdout",
     "output_type": "stream",
     "text": [
      "   memid   surname firstname                             address  zipcode  \\\n",
      "0      0     GUEST     GUEST                               GUEST        0   \n",
      "1      1     Smith    Darren          8 Bloomsbury Close, Boston     4321   \n",
      "2      2     Smith     Tracy        8 Bloomsbury Close, New York     4321   \n",
      "3      3    Rownam       Tim              23 Highway Way, Boston    23423   \n",
      "4      4  Joplette    Janice          20 Crossing Road, New York      234   \n",
      "5      5   Butters    Gerald      1065 Huntingdon Avenue, Boston    56754   \n",
      "6      6     Tracy    Burton             3 Tunisia Drive, Boston    45678   \n",
      "7      7      Dare     Nancy         6 Hunting Lodge Way, Boston    10383   \n",
      "8      8    Boothe       Tim  3 Bloomsbury Close, Reading, 00234      234   \n",
      "9      9  Stibbons    Ponder           5 Dragons Way, Winchester    87630   \n",
      "\n",
      "        telephone recommendedby             joindate  \n",
      "0  (000) 000-0000                2012-07-01 00:00:00  \n",
      "1    555-555-5555                2012-07-02 12:02:05  \n",
      "2    555-555-5555                2012-07-02 12:08:23  \n",
      "3  (844) 693-0723                2012-07-03 09:32:15  \n",
      "4  (833) 942-4710             1  2012-07-03 10:25:05  \n",
      "5  (844) 078-4130             1  2012-07-09 10:44:09  \n",
      "6  (822) 354-9973                2012-07-15 08:52:55  \n",
      "7  (833) 776-4001             4  2012-07-25 08:59:12  \n",
      "8  (811) 433-2547             3  2012-07-25 16:02:35  \n",
      "9  (833) 160-3900             6  2012-07-25 17:09:05  \n"
     ]
    }
   ],
   "source": [
    "# Q6 Answer --> Part1: Examine Members table by selecting all\n",
    "\n",
    "result = pd.read_sql_query(\"\"\"SELECT *\n",
    "                                FROM Members\n",
    "                                LIMIT 10\"\"\", conn)\n",
    "print(result)"
   ]
  },
  {
   "cell_type": "code",
   "execution_count": 13,
   "metadata": {},
   "outputs": [
    {
     "name": "stdout",
     "output_type": "stream",
     "text": [
      "  firstname surname\n",
      "0    Darren   Smith\n"
     ]
    }
   ],
   "source": [
    "# Q6 Answer --> Use MAX(joindate) to avoid any mistakes\n",
    "# Alternatevely can use MAX(memid) which assumes that memid are issued in order\n",
    "# Note that MAX(x) cannot be used directly with WHERE clause, but need to be included in a SELECT statement as written below\n",
    "\n",
    "result = pd.read_sql_query(\"\"\"SELECT firstname, surname\n",
    "                                FROM Members\n",
    "                                WHERE joindate = (SELECT MAX(joindate) FROM Members)\"\"\", conn) \n",
    "print(result)"
   ]
  },
  {
   "cell_type": "markdown",
   "metadata": {},
   "source": [
    "#### Q7: Produce a list of all members who have used a tennis court. Include in your output the name of the court, and the name of the member formatted as a single column. Ensure no duplicate data, and order by the member name."
   ]
  },
  {
   "cell_type": "code",
   "execution_count": 14,
   "metadata": {},
   "outputs": [
    {
     "name": "stdout",
     "output_type": "stream",
     "text": [
      "   bookid  facid  memid            starttime  slots\n",
      "0       0      3      1  2012-07-03 11:00:00      2\n",
      "1       1      4      1  2012-07-03 08:00:00      2\n",
      "2       2      6      0  2012-07-03 18:00:00      2\n",
      "3       3      7      1  2012-07-03 19:00:00      2\n",
      "4       4      8      1  2012-07-03 10:00:00      1\n",
      "5       5      8      1  2012-07-03 15:00:00      1\n",
      "6       6      0      2  2012-07-04 09:00:00      3\n",
      "7       7      0      2  2012-07-04 15:00:00      3\n",
      "8       8      4      3  2012-07-04 13:30:00      2\n",
      "9       9      4      0  2012-07-04 15:00:00      2\n"
     ]
    }
   ],
   "source": [
    "# Q7 Answer --> Part1: Examine Bookings table by selecting all\n",
    "\n",
    "result = pd.read_sql_query(\"\"\"SELECT *\n",
    "                                FROM Bookings\n",
    "                                LIMIT 10\"\"\", conn)\n",
    "print(result)"
   ]
  },
  {
   "cell_type": "code",
   "execution_count": 15,
   "metadata": {},
   "outputs": [
    {
     "name": "stdout",
     "output_type": "stream",
     "text": [
      "   facid             name  membercost  guestcost  initialoutlay  \\\n",
      "0      0   Tennis Court 1         5.0       25.0          10000   \n",
      "1      1   Tennis Court 2         5.0       25.0           8000   \n",
      "2      2  Badminton Court         0.0       15.5           4000   \n",
      "3      3     Table Tennis         0.0        5.0            320   \n",
      "4      4   Massage Room 1         9.9       80.0           4000   \n",
      "5      5   Massage Room 2         9.9       80.0           4000   \n",
      "6      6     Squash Court         3.5       17.5           5000   \n",
      "7      7    Snooker Table         0.0        5.0            450   \n",
      "8      8       Pool Table         0.0        5.0            400   \n",
      "\n",
      "   monthlymaintenance  \n",
      "0                 200  \n",
      "1                 200  \n",
      "2                  50  \n",
      "3                  10  \n",
      "4                3000  \n",
      "5                3000  \n",
      "6                  80  \n",
      "7                  15  \n",
      "8                  15  \n"
     ]
    }
   ],
   "source": [
    "# Q7 Answer --> Part2: Examine Facilities table by selecting all\n",
    "\n",
    "result = pd.read_sql_query(\"\"\"SELECT *\n",
    "                                FROM Facilities\"\"\", conn)\n",
    "print(result)"
   ]
  },
  {
   "cell_type": "code",
   "execution_count": 16,
   "metadata": {},
   "outputs": [
    {
     "name": "stdout",
     "output_type": "stream",
     "text": [
      "          Member_Name   Facility_Name\n",
      "0          Anne Baker  Tennis Court 1\n",
      "1          Anne Baker  Tennis Court 2\n",
      "2        Burton Tracy  Tennis Court 1\n",
      "3        Burton Tracy  Tennis Court 2\n",
      "4        Charles Owen  Tennis Court 1\n",
      "5        Charles Owen  Tennis Court 2\n",
      "6        Darren Smith  Tennis Court 2\n",
      "7       David Farrell  Tennis Court 1\n",
      "8       David Farrell  Tennis Court 2\n",
      "9         David Jones  Tennis Court 1\n",
      "10        David Jones  Tennis Court 2\n",
      "11       David Pinker  Tennis Court 1\n",
      "12      Douglas Jones  Tennis Court 1\n",
      "13      Erica Crumpet  Tennis Court 1\n",
      "14     Florence Bader  Tennis Court 1\n",
      "15     Florence Bader  Tennis Court 2\n",
      "16        GUEST GUEST  Tennis Court 1\n",
      "17        GUEST GUEST  Tennis Court 2\n",
      "18     Gerald Butters  Tennis Court 1\n",
      "19     Gerald Butters  Tennis Court 2\n",
      "20   Henrietta Rumney  Tennis Court 2\n",
      "21         Jack Smith  Tennis Court 1\n",
      "22         Jack Smith  Tennis Court 2\n",
      "23    Janice Joplette  Tennis Court 1\n",
      "24    Janice Joplette  Tennis Court 2\n",
      "25     Jemima Farrell  Tennis Court 1\n",
      "26     Jemima Farrell  Tennis Court 2\n",
      "27        Joan Coplin  Tennis Court 1\n",
      "28          John Hunt  Tennis Court 1\n",
      "29          John Hunt  Tennis Court 2\n",
      "30    Matthew Genting  Tennis Court 1\n",
      "31  Millicent Purview  Tennis Court 2\n",
      "32         Nancy Dare  Tennis Court 1\n",
      "33         Nancy Dare  Tennis Court 2\n",
      "34    Ponder Stibbons  Tennis Court 1\n",
      "35    Ponder Stibbons  Tennis Court 2\n",
      "36   Ramnaresh Sarwin  Tennis Court 1\n",
      "37   Ramnaresh Sarwin  Tennis Court 2\n",
      "38         Tim Boothe  Tennis Court 1\n",
      "39         Tim Boothe  Tennis Court 2\n",
      "40         Tim Rownam  Tennis Court 1\n",
      "41         Tim Rownam  Tennis Court 2\n",
      "42      Timothy Baker  Tennis Court 1\n",
      "43      Timothy Baker  Tennis Court 2\n",
      "44        Tracy Smith  Tennis Court 1\n",
      "45        Tracy Smith  Tennis Court 2\n"
     ]
    }
   ],
   "source": [
    "# Q7 Answer --> Part3: Select distinct memeber names which have made bookings for facilities with facid = 0 and 1\n",
    "\n",
    "result = pd.read_sql_query(\"\"\"SELECT DISTINCT Members.firstname || ' ' || Members.surname AS Member_Name, \n",
    "                                                Facilities.name AS Facility_Name\n",
    "                                FROM Members\n",
    "                                INNER JOIN Bookings ON Members.memid = Bookings.memid\n",
    "                                INNER JOIN Facilities ON Facilities.facid = Bookings.facid\n",
    "                                WHERE Facilities.facid in (0, 1)\n",
    "                                ORDER BY Members.firstname, Members.surname, Facilities.name\"\"\", conn)\n",
    "print(result)"
   ]
  },
  {
   "cell_type": "markdown",
   "metadata": {},
   "source": [
    "#### Q8: Produce a list of bookings on the day of 2012-09-14 which will cost the member (or guest) more than 30 USD. Remember that guests have different costs to members (the listed costs are per half-hour 'slot'), and the guest user's ID is always 0. Include in your output the name of the facility, the name of the member formatted as a single column, and the cost. Order by descending cost, and do not use any subqueries."
   ]
  },
  {
   "cell_type": "code",
   "execution_count": 17,
   "metadata": {},
   "outputs": [
    {
     "name": "stdout",
     "output_type": "stream",
     "text": [
      "        Full_Name   Facility_Name  Total_Cost\n",
      "0     GUEST GUEST  Massage Room 1       480.0\n",
      "1     GUEST GUEST  Massage Room 2       320.0\n",
      "2     GUEST GUEST  Tennis Court 2       225.0\n",
      "3     GUEST GUEST  Tennis Court 1       150.0\n",
      "4     GUEST GUEST    Squash Court       140.0\n",
      "5  Jemima Farrell  Massage Room 1        59.4\n"
     ]
    }
   ],
   "source": [
    "# Q8 Answer\n",
    "\n",
    "result = pd.read_sql_query(\"\"\"SELECT Members.firstname || ' ' || Members.surname AS Full_Name, \n",
    "                                        Facilities.name AS Facility_Name,\n",
    "                                        CASE WHEN Members.memid = 0 THEN SUM(Bookings.slots) * Facilities.guestcost \n",
    "                                            ELSE SUM(Bookings.slots) * Facilities.membercost \n",
    "                                            END AS Total_Cost\n",
    "                                FROM Members\n",
    "                                INNER JOIN Bookings ON Members.memid = Bookings.memid\n",
    "                                INNER JOIN Facilities ON Facilities.facid = Bookings.facid\n",
    "                                WHERE date(Bookings.starttime) = '2012-09-14'\n",
    "                                GROUP BY Members.memid, Facilities.facid\n",
    "                                HAVING Total_Cost > 30\n",
    "                                ORDER BY Total_Cost DESC\"\"\", conn)\n",
    "print(result)"
   ]
  },
  {
   "cell_type": "markdown",
   "metadata": {},
   "source": [
    "#### Q9: This time, produce the same result as in Q8, but using a subquery. "
   ]
  },
  {
   "cell_type": "code",
   "execution_count": 18,
   "metadata": {},
   "outputs": [
    {
     "name": "stdout",
     "output_type": "stream",
     "text": [
      "        Full_Name   Facility_Name  Total_Cost\n",
      "0     GUEST GUEST  Massage Room 1       480.0\n",
      "1     GUEST GUEST  Massage Room 2       320.0\n",
      "2     GUEST GUEST  Tennis Court 2       225.0\n",
      "3     GUEST GUEST  Tennis Court 1       150.0\n",
      "4     GUEST GUEST    Squash Court       140.0\n",
      "5  Jemima Farrell  Massage Room 1        59.4\n"
     ]
    }
   ],
   "source": [
    "# Q9 Answer --> Replace the CASE statement with SELECT IIF(X, Y, Z) which returns Y if X is TRUE and Z if X is FALSE\n",
    "# Note: The iif() function was introduced in SQLite 3.32.0, which was released on 22 May 2020 --> \n",
    "        # iif() does not work for earlier SQLite3 versions  \n",
    "\n",
    "result = pd.read_sql_query(\"\"\"SELECT Members.firstname || ' ' || Members.surname AS Full_Name, \n",
    "                                        Facilities.name AS Facility_Name,\n",
    "                                        (SELECT IIF(Members.memid = 0, \n",
    "                                                    SUM(Bookings.slots) * Facilities.guestcost,  \n",
    "                                                    SUM(Bookings.slots) * Facilities.membercost)) \n",
    "                                        AS Total_Cost \n",
    "                                FROM Members\n",
    "                                INNER JOIN Bookings ON Members.memid = Bookings.memid\n",
    "                                INNER JOIN Facilities ON Facilities.facid = Bookings.facid\n",
    "                                WHERE date(Bookings.starttime) = '2012-09-14'\n",
    "                                GROUP BY Members.memid, Facilities.facid\n",
    "                                HAVING Total_Cost > 30\n",
    "                                ORDER BY Total_Cost DESC\"\"\", conn)\n",
    "print(result)"
   ]
  },
  {
   "cell_type": "markdown",
   "metadata": {},
   "source": [
    "#### Q10: Produce a list of facilities with a total revenue less than 1000. The output of facility name and total revenue, sorted by revenue. Remember that there's a different cost for guests and members! "
   ]
  },
  {
   "cell_type": "code",
   "execution_count": 19,
   "metadata": {},
   "outputs": [
    {
     "name": "stdout",
     "output_type": "stream",
     "text": [
      "     Facility_Name  Total_Revenue\n",
      "0  Badminton Court              0\n",
      "1       Pool Table              0\n",
      "2    Snooker Table              0\n",
      "3     Table Tennis              0\n"
     ]
    }
   ],
   "source": [
    "# Q10 Answer\n",
    "\n",
    "result = pd.read_sql_query(\"\"\"SELECT Facilities.name AS Facility_Name,\n",
    "                                        (SELECT IIF(Members.memid = 0, \n",
    "                                                    SUM(Bookings.slots) * Facilities.guestcost,  \n",
    "                                                    SUM(Bookings.slots) * Facilities.membercost))  \n",
    "                                        AS Total_Revenue\n",
    "                                FROM Facilities\n",
    "                                INNER JOIN Bookings ON Facilities.facid = Bookings.facid\n",
    "                                INNER JOIN Members ON Members.memid = Bookings.memid \n",
    "                                GROUP BY Facilities.facid\n",
    "                                HAVING Total_Revenue < 1000\n",
    "                                ORDER BY Total_Revenue DESC, Facility_Name\"\"\", conn)\n",
    "print(result)"
   ]
  },
  {
   "cell_type": "code",
   "execution_count": 20,
   "metadata": {},
   "outputs": [
    {
     "name": "stdout",
     "output_type": "stream",
     "text": [
      "     Facility_Name  Total_Revenue\n",
      "0   Tennis Court 1           6600\n",
      "1  Badminton Court              0\n",
      "2       Pool Table              0\n",
      "3    Snooker Table              0\n",
      "4     Table Tennis              0\n"
     ]
    }
   ],
   "source": [
    "# Q10 Answer Comment \n",
    "    # Appears that there are no guest bookings for Badminton Court, Pool Table, Snooker Table and Table Tennis\n",
    "    # Member's cost is 0 for these facilities\n",
    "    # Check to see if there will be Total_Revenue > 0 by increasing revenue limit to 10k\n",
    "\n",
    "result = pd.read_sql_query(\"\"\"SELECT Facilities.name AS Facility_Name,\n",
    "                                        (SELECT IIF(Members.memid = 0, \n",
    "                                                    SUM(Bookings.slots) * Facilities.guestcost,  \n",
    "                                                    SUM(Bookings.slots) * Facilities.membercost))  \n",
    "                                        AS Total_Revenue\n",
    "                                FROM Facilities\n",
    "                                INNER JOIN Bookings ON Facilities.facid = Bookings.facid\n",
    "                                INNER JOIN Members ON Members.memid = Bookings.memid \n",
    "                                GROUP BY Facilities.facid\n",
    "                                HAVING Total_Revenue < 10000 \n",
    "                                ORDER BY Total_Revenue DESC, Facility_Name\"\"\", conn)\n",
    "print(result)"
   ]
  },
  {
   "cell_type": "markdown",
   "metadata": {},
   "source": [
    "#### Q11: Produce a report of members and who recommended them in alphabetic surname, firstname order"
   ]
  },
  {
   "cell_type": "code",
   "execution_count": 21,
   "metadata": {},
   "outputs": [
    {
     "name": "stdout",
     "output_type": "stream",
     "text": [
      "              surname  firstname     Recommended_by\n",
      "0               Bader   Florence    Ponder Stibbons\n",
      "1               Baker       Anne    Ponder Stibbons\n",
      "2               Baker    Timothy     Jemima Farrell\n",
      "3              Boothe        Tim         Tim Rownam\n",
      "4             Butters     Gerald       Darren Smith\n",
      "5              Coplin       Joan      Timothy Baker\n",
      "6             Crumpet      Erica        Tracy Smith\n",
      "7                Dare      Nancy    Janice Joplette\n",
      "8             Genting    Matthew     Gerald Butters\n",
      "9                Hunt       John  Millicent Purview\n",
      "10              Jones      David    Janice Joplette\n",
      "11              Jones    Douglas        David Jones\n",
      "12           Joplette     Janice       Darren Smith\n",
      "13          Mackenzie       Anna       Darren Smith\n",
      "14               Owen    Charles       Darren Smith\n",
      "15             Pinker      David     Jemima Farrell\n",
      "16            Purview  Millicent        Tracy Smith\n",
      "17             Rumney  Henrietta    Matthew Genting\n",
      "18             Sarwin  Ramnaresh     Florence Bader\n",
      "19              Smith       Jack       Darren Smith\n",
      "20           Stibbons     Ponder       Burton Tracy\n",
      "21  Worthington-Smyth      Henry        Tracy Smith\n"
     ]
    }
   ],
   "source": [
    "# Q11 Answer\n",
    "\n",
    "result = pd.read_sql_query(\"\"\"SELECT m1.surname, \n",
    "                                        m1.firstname, \n",
    "                                        m2.firstname || ' ' || m2.surname AS Recommended_by \n",
    "                                FROM Members AS m1 \n",
    "                                INNER JOIN Members AS m2 ON m2.memid = m1.recommendedby\n",
    "                                ORDER BY m1.surname, m1.firstname\"\"\", conn)\n",
    "print(result)"
   ]
  },
  {
   "cell_type": "markdown",
   "metadata": {},
   "source": [
    "#### Q12: Find the facilities with their usage by member, but not guests "
   ]
  },
  {
   "cell_type": "code",
   "execution_count": 22,
   "metadata": {},
   "outputs": [
    {
     "name": "stdout",
     "output_type": "stream",
     "text": [
      "                Member_Name    Facility_Name  Facility_Usage_by_Member\n",
      "0              Darren Smith     Table Tennis                       685\n",
      "1                Tim Rownam   Massage Room 1                       660\n",
      "2                Tim Boothe   Tennis Court 2                       440\n",
      "3               Tracy Smith   Tennis Court 1                       435\n",
      "4            Gerald Butters   Tennis Court 1                       409\n",
      "5              Burton Tracy   Tennis Court 2                       366\n",
      "6              Charles Owen   Tennis Court 1                       345\n",
      "7           Janice Joplette   Massage Room 1                       326\n",
      "8               David Jones   Tennis Court 2                       305\n",
      "9                Anne Baker   Tennis Court 1                       296\n",
      "10            Timothy Baker   Tennis Court 2                       290\n",
      "11               Nancy Dare  Badminton Court                       267\n",
      "12          Ponder Stibbons   Tennis Court 2                       249\n",
      "13           Florence Bader  Badminton Court                       237\n",
      "14           Anna Mackenzie  Badminton Court                       231\n",
      "15               Jack Smith   Massage Room 1                       219\n",
      "16           Jemima Farrell     Table Tennis                       180\n",
      "17             David Pinker    Snooker Table                       159\n",
      "18         Ramnaresh Sarwin   Tennis Court 2                       153\n",
      "19          Matthew Genting   Massage Room 2                       131\n",
      "20              Joan Coplin    Snooker Table                       106\n",
      "21  Henry Worthington-Smyth  Badminton Court                        60\n",
      "22            David Farrell   Tennis Court 1                        50\n",
      "23                John Hunt   Tennis Court 1                        40\n",
      "24         Henrietta Rumney    Snooker Table                        38\n",
      "25            Douglas Jones  Badminton Court                        37\n",
      "26        Millicent Purview  Badminton Court                        32\n",
      "27      Hyacinth Tupperware    Snooker Table                        28\n",
      "28            Erica Crumpet  Badminton Court                        17\n"
     ]
    }
   ],
   "source": [
    "# Q12 Answer\n",
    "\n",
    "result = pd.read_sql_query(\"\"\"SELECT Members.firstname || ' ' || Members.surname AS Member_Name, \n",
    "                                        Facilities.name AS Facility_Name, \n",
    "                                        SUM(Bookings.slots) AS Facility_Usage_by_Member\n",
    "                                FROM Members\n",
    "                                INNER JOIN Bookings ON Members.memid = Bookings.memid\n",
    "                                INNER JOIN Facilities ON Facilities.facid = Bookings.facid\n",
    "                                WHERE Members.memid > 0\n",
    "                                GROUP BY Members.memid\n",
    "                                ORDER BY Facility_Usage_by_Member DESC, Member_Name\"\"\", conn)\n",
    "print(result)"
   ]
  },
  {
   "cell_type": "markdown",
   "metadata": {},
   "source": [
    "#### Q13: Find the facilities usage by month, but not guests "
   ]
  },
  {
   "cell_type": "code",
   "execution_count": 23,
   "metadata": {},
   "outputs": [
    {
     "name": "stdout",
     "output_type": "stream",
     "text": [
      "      Facility_Name Month  Bookings_by_Month\n",
      "0   Badminton Court    07                165\n",
      "1   Badminton Court    08                414\n",
      "2   Badminton Court    09                507\n",
      "3    Massage Room 1    07                166\n",
      "4    Massage Room 1    08                316\n",
      "5    Massage Room 1    09                402\n",
      "6    Massage Room 2    07                  8\n",
      "7    Massage Room 2    08                 18\n",
      "8    Massage Room 2    09                 28\n",
      "9        Pool Table    07                110\n",
      "10       Pool Table    08                303\n",
      "11       Pool Table    09                443\n",
      "12    Snooker Table    07                140\n",
      "13    Snooker Table    08                316\n",
      "14    Snooker Table    09                404\n",
      "15     Squash Court    07                 50\n",
      "16     Squash Court    08                184\n",
      "17     Squash Court    09                184\n",
      "18     Table Tennis    07                 98\n",
      "19     Table Tennis    08                296\n",
      "20     Table Tennis    09                400\n",
      "21   Tennis Court 1    07                201\n",
      "22   Tennis Court 1    08                339\n",
      "23   Tennis Court 1    09                417\n",
      "24   Tennis Court 2    07                123\n",
      "25   Tennis Court 2    08                345\n",
      "26   Tennis Court 2    09                414\n"
     ]
    }
   ],
   "source": [
    "# Q13 Answer\n",
    "\n",
    "result = pd.read_sql_query(\"\"\"SELECT Facilities.name AS Facility_Name, \n",
    "                                        strftime('%m', date(starttime)) AS Month, \n",
    "                                        SUM(Bookings.slots) AS Bookings_by_Month\n",
    "                                FROM Bookings\n",
    "                                INNER JOIN Facilities ON Facilities.facid = Bookings.facid\n",
    "                                INNER JOIN Members ON Members.memid = Bookings.memid\n",
    "                                WHERE Members.memid > 0\n",
    "                                GROUP BY Facilities.facid, Month\n",
    "                                ORDER BY Facility_Name, Month\"\"\", conn)\n",
    "print(result)"
   ]
  },
  {
   "cell_type": "code",
   "execution_count": 24,
   "metadata": {},
   "outputs": [],
   "source": [
    "cur.close()\n",
    "conn.close()"
   ]
  }
 ],
 "metadata": {
  "kernelspec": {
   "display_name": "Python 3",
   "language": "python",
   "name": "python3"
  },
  "language_info": {
   "codemirror_mode": {
    "name": "ipython",
    "version": 3
   },
   "file_extension": ".py",
   "mimetype": "text/x-python",
   "name": "python",
   "nbconvert_exporter": "python",
   "pygments_lexer": "ipython3",
   "version": "3.7.6"
  }
 },
 "nbformat": 4,
 "nbformat_minor": 4
}
