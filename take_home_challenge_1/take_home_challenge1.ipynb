{
 "cells": [
  {
   "cell_type": "markdown",
   "metadata": {},
   "source": [
    "## Take-home Challenge 1\n",
    "\n",
    "Project consists of three independent parts as listed below:\n",
    "- Part 1 ‑ Exploratory data analysis\n",
    "- Part 2 ‑ Experiment and metrics design\n",
    "- Part 3 ‑ Predictive modeling"
   ]
  },
  {
   "cell_type": "markdown",
   "metadata": {},
   "source": [
    "### Load necessary libraries and packages"
   ]
  },
  {
   "cell_type": "code",
   "execution_count": 1,
   "metadata": {},
   "outputs": [],
   "source": [
    "# import relevant libraries and packages\n",
    "import numpy as np\n",
    "import pandas as pd\n",
    "import matplotlib.pyplot as plt\n",
    "import seaborn as sns\n",
    "\n",
    "%matplotlib inline\n",
    "sns.set(style = 'whitegrid', font_scale = 1.6)"
   ]
  },
  {
   "cell_type": "code",
   "execution_count": 2,
   "metadata": {},
   "outputs": [],
   "source": [
    "# ignore warnings\n",
    "import warnings\n",
    "warnings.filterwarnings('ignore')"
   ]
  },
  {
   "cell_type": "markdown",
   "metadata": {},
   "source": [
    "## Part 1 ‑ Exploratory data analysis\n",
    "\n",
    "The attached 'logins.json' file contains (simulated) timestamps of user logins in a particular\n",
    "geographic location. Aggregate these login counts based on 15­minute time intervals, and\n",
    "visualize and describe the resulting time series of login counts in ways that best characterize the\n",
    "underlying patterns of the demand. Please report/illustrate important features of the demand,\n",
    "such as daily cycles. If there are data quality issues, please report them."
   ]
  },
  {
   "cell_type": "markdown",
   "metadata": {},
   "source": [
    "- **Read 'logins.json' file**"
   ]
  },
  {
   "cell_type": "code",
   "execution_count": 3,
   "metadata": {},
   "outputs": [
    {
     "name": "stdout",
     "output_type": "stream",
     "text": [
      "<class 'pandas.core.frame.DataFrame'>\n",
      "RangeIndex: 93142 entries, 0 to 93141\n",
      "Data columns (total 1 columns):\n",
      " #   Column      Non-Null Count  Dtype         \n",
      "---  ------      --------------  -----         \n",
      " 0   login_time  93142 non-null  datetime64[ns]\n",
      "dtypes: datetime64[ns](1)\n",
      "memory usage: 727.8 KB\n"
     ]
    }
   ],
   "source": [
    "df_log = pd.read_json('logins.json', orient='values')\n",
    "\n",
    "df_log.info()"
   ]
  },
  {
   "cell_type": "code",
   "execution_count": 4,
   "metadata": {},
   "outputs": [
    {
     "data": {
      "text/html": [
       "<div>\n",
       "<style scoped>\n",
       "    .dataframe tbody tr th:only-of-type {\n",
       "        vertical-align: middle;\n",
       "    }\n",
       "\n",
       "    .dataframe tbody tr th {\n",
       "        vertical-align: top;\n",
       "    }\n",
       "\n",
       "    .dataframe thead th {\n",
       "        text-align: right;\n",
       "    }\n",
       "</style>\n",
       "<table border=\"1\" class=\"dataframe\">\n",
       "  <thead>\n",
       "    <tr style=\"text-align: right;\">\n",
       "      <th></th>\n",
       "      <th>login_time</th>\n",
       "    </tr>\n",
       "  </thead>\n",
       "  <tbody>\n",
       "    <tr>\n",
       "      <th>0</th>\n",
       "      <td>1970-01-01 20:13:18</td>\n",
       "    </tr>\n",
       "    <tr>\n",
       "      <th>1</th>\n",
       "      <td>1970-01-01 20:16:10</td>\n",
       "    </tr>\n",
       "    <tr>\n",
       "      <th>2</th>\n",
       "      <td>1970-01-01 20:16:37</td>\n",
       "    </tr>\n",
       "    <tr>\n",
       "      <th>3</th>\n",
       "      <td>1970-01-01 20:16:36</td>\n",
       "    </tr>\n",
       "    <tr>\n",
       "      <th>4</th>\n",
       "      <td>1970-01-01 20:26:21</td>\n",
       "    </tr>\n",
       "  </tbody>\n",
       "</table>\n",
       "</div>"
      ],
      "text/plain": [
       "           login_time\n",
       "0 1970-01-01 20:13:18\n",
       "1 1970-01-01 20:16:10\n",
       "2 1970-01-01 20:16:37\n",
       "3 1970-01-01 20:16:36\n",
       "4 1970-01-01 20:26:21"
      ]
     },
     "execution_count": 4,
     "metadata": {},
     "output_type": "execute_result"
    }
   ],
   "source": [
    "df_log.head()"
   ]
  },
  {
   "cell_type": "markdown",
   "metadata": {},
   "source": [
    "- **Convert 'login_time' to datetime**"
   ]
  },
  {
   "cell_type": "code",
   "execution_count": 5,
   "metadata": {},
   "outputs": [],
   "source": [
    "df_log['login_time'] = pd.to_datetime(df_log['login_time'])"
   ]
  },
  {
   "cell_type": "code",
   "execution_count": 6,
   "metadata": {},
   "outputs": [
    {
     "data": {
      "text/html": [
       "<div>\n",
       "<style scoped>\n",
       "    .dataframe tbody tr th:only-of-type {\n",
       "        vertical-align: middle;\n",
       "    }\n",
       "\n",
       "    .dataframe tbody tr th {\n",
       "        vertical-align: top;\n",
       "    }\n",
       "\n",
       "    .dataframe thead th {\n",
       "        text-align: right;\n",
       "    }\n",
       "</style>\n",
       "<table border=\"1\" class=\"dataframe\">\n",
       "  <thead>\n",
       "    <tr style=\"text-align: right;\">\n",
       "      <th></th>\n",
       "      <th>login_time</th>\n",
       "    </tr>\n",
       "  </thead>\n",
       "  <tbody>\n",
       "    <tr>\n",
       "      <th>0</th>\n",
       "      <td>1970-01-01 20:12:16</td>\n",
       "    </tr>\n",
       "    <tr>\n",
       "      <th>1</th>\n",
       "      <td>1970-01-01 20:13:18</td>\n",
       "    </tr>\n",
       "    <tr>\n",
       "      <th>2</th>\n",
       "      <td>1970-01-01 20:16:10</td>\n",
       "    </tr>\n",
       "    <tr>\n",
       "      <th>3</th>\n",
       "      <td>1970-01-01 20:16:36</td>\n",
       "    </tr>\n",
       "    <tr>\n",
       "      <th>4</th>\n",
       "      <td>1970-01-01 20:16:37</td>\n",
       "    </tr>\n",
       "  </tbody>\n",
       "</table>\n",
       "</div>"
      ],
      "text/plain": [
       "           login_time\n",
       "0 1970-01-01 20:12:16\n",
       "1 1970-01-01 20:13:18\n",
       "2 1970-01-01 20:16:10\n",
       "3 1970-01-01 20:16:36\n",
       "4 1970-01-01 20:16:37"
      ]
     },
     "execution_count": 6,
     "metadata": {},
     "output_type": "execute_result"
    }
   ],
   "source": [
    "# sort in ascending order\n",
    "\n",
    "df_log.sort_values('login_time', inplace = True)\n",
    "\n",
    "df_log.reset_index(drop = True, inplace = True)\n",
    "df_log.head()"
   ]
  },
  {
   "cell_type": "markdown",
   "metadata": {},
   "source": [
    "- **Create a new column to count the elapsed time from a certain reference point**"
   ]
  },
  {
   "cell_type": "code",
   "execution_count": 7,
   "metadata": {},
   "outputs": [
    {
     "name": "stdout",
     "output_type": "stream",
     "text": [
      "1970-01-01 00:00:00\n"
     ]
    }
   ],
   "source": [
    "# create a reference point\n",
    "import datetime\n",
    "\n",
    "start_values = ['1970', '01', '01', '0', '0', '0']\n",
    "\n",
    "start_time = datetime.datetime(*map(int, start_values))\n",
    "print(start_time)"
   ]
  },
  {
   "cell_type": "code",
   "execution_count": 8,
   "metadata": {},
   "outputs": [
    {
     "data": {
      "text/html": [
       "<div>\n",
       "<style scoped>\n",
       "    .dataframe tbody tr th:only-of-type {\n",
       "        vertical-align: middle;\n",
       "    }\n",
       "\n",
       "    .dataframe tbody tr th {\n",
       "        vertical-align: top;\n",
       "    }\n",
       "\n",
       "    .dataframe thead th {\n",
       "        text-align: right;\n",
       "    }\n",
       "</style>\n",
       "<table border=\"1\" class=\"dataframe\">\n",
       "  <thead>\n",
       "    <tr style=\"text-align: right;\">\n",
       "      <th></th>\n",
       "      <th>login_time</th>\n",
       "      <th>delta_t</th>\n",
       "    </tr>\n",
       "  </thead>\n",
       "  <tbody>\n",
       "    <tr>\n",
       "      <th>0</th>\n",
       "      <td>1970-01-01 20:12:16</td>\n",
       "      <td>0 days 20:12:16</td>\n",
       "    </tr>\n",
       "    <tr>\n",
       "      <th>1</th>\n",
       "      <td>1970-01-01 20:13:18</td>\n",
       "      <td>0 days 20:13:18</td>\n",
       "    </tr>\n",
       "    <tr>\n",
       "      <th>2</th>\n",
       "      <td>1970-01-01 20:16:10</td>\n",
       "      <td>0 days 20:16:10</td>\n",
       "    </tr>\n",
       "    <tr>\n",
       "      <th>3</th>\n",
       "      <td>1970-01-01 20:16:36</td>\n",
       "      <td>0 days 20:16:36</td>\n",
       "    </tr>\n",
       "    <tr>\n",
       "      <th>4</th>\n",
       "      <td>1970-01-01 20:16:37</td>\n",
       "      <td>0 days 20:16:37</td>\n",
       "    </tr>\n",
       "  </tbody>\n",
       "</table>\n",
       "</div>"
      ],
      "text/plain": [
       "           login_time         delta_t\n",
       "0 1970-01-01 20:12:16 0 days 20:12:16\n",
       "1 1970-01-01 20:13:18 0 days 20:13:18\n",
       "2 1970-01-01 20:16:10 0 days 20:16:10\n",
       "3 1970-01-01 20:16:36 0 days 20:16:36\n",
       "4 1970-01-01 20:16:37 0 days 20:16:37"
      ]
     },
     "execution_count": 8,
     "metadata": {},
     "output_type": "execute_result"
    }
   ],
   "source": [
    "# create 'delta_t' column counting time from start_time \n",
    "df_log['delta_t'] = df_log['login_time'] - start_time\n",
    "\n",
    "df_log.head()"
   ]
  },
  {
   "cell_type": "markdown",
   "metadata": {},
   "source": [
    "- **From 'delta_t' create new column with time period of 15 minutes**"
   ]
  },
  {
   "cell_type": "code",
   "execution_count": 9,
   "metadata": {},
   "outputs": [
    {
     "data": {
      "text/html": [
       "<div>\n",
       "<style scoped>\n",
       "    .dataframe tbody tr th:only-of-type {\n",
       "        vertical-align: middle;\n",
       "    }\n",
       "\n",
       "    .dataframe tbody tr th {\n",
       "        vertical-align: top;\n",
       "    }\n",
       "\n",
       "    .dataframe thead th {\n",
       "        text-align: right;\n",
       "    }\n",
       "</style>\n",
       "<table border=\"1\" class=\"dataframe\">\n",
       "  <thead>\n",
       "    <tr style=\"text-align: right;\">\n",
       "      <th></th>\n",
       "      <th>login_time</th>\n",
       "      <th>delta_t</th>\n",
       "      <th>delta_t_15min</th>\n",
       "    </tr>\n",
       "  </thead>\n",
       "  <tbody>\n",
       "    <tr>\n",
       "      <th>0</th>\n",
       "      <td>1970-01-01 20:12:16</td>\n",
       "      <td>0 days 20:12:16</td>\n",
       "      <td>0</td>\n",
       "    </tr>\n",
       "    <tr>\n",
       "      <th>1</th>\n",
       "      <td>1970-01-01 20:13:18</td>\n",
       "      <td>0 days 20:13:18</td>\n",
       "      <td>0</td>\n",
       "    </tr>\n",
       "    <tr>\n",
       "      <th>2</th>\n",
       "      <td>1970-01-01 20:16:10</td>\n",
       "      <td>0 days 20:16:10</td>\n",
       "      <td>0</td>\n",
       "    </tr>\n",
       "    <tr>\n",
       "      <th>3</th>\n",
       "      <td>1970-01-01 20:16:36</td>\n",
       "      <td>0 days 20:16:36</td>\n",
       "      <td>0</td>\n",
       "    </tr>\n",
       "    <tr>\n",
       "      <th>4</th>\n",
       "      <td>1970-01-01 20:16:37</td>\n",
       "      <td>0 days 20:16:37</td>\n",
       "      <td>0</td>\n",
       "    </tr>\n",
       "  </tbody>\n",
       "</table>\n",
       "</div>"
      ],
      "text/plain": [
       "           login_time         delta_t  delta_t_15min\n",
       "0 1970-01-01 20:12:16 0 days 20:12:16              0\n",
       "1 1970-01-01 20:13:18 0 days 20:13:18              0\n",
       "2 1970-01-01 20:16:10 0 days 20:16:10              0\n",
       "3 1970-01-01 20:16:36 0 days 20:16:36              0\n",
       "4 1970-01-01 20:16:37 0 days 20:16:37              0"
      ]
     },
     "execution_count": 9,
     "metadata": {},
     "output_type": "execute_result"
    }
   ],
   "source": [
    "# create new column with time period of 15 minutes and initialize with 0\n",
    "df_log['delta_t_15min'] = 0\n",
    "\n",
    "df_log.head()"
   ]
  },
  {
   "cell_type": "code",
   "execution_count": 10,
   "metadata": {},
   "outputs": [],
   "source": [
    "# assign the correct 'delta_t_15min' values\n",
    "\n",
    "for i in range(len(df_log)):\n",
    "    df_log['delta_t_15min'].iloc[i] = df_log['delta_t'].iloc[i].total_seconds() // (15*60)"
   ]
  },
  {
   "cell_type": "code",
   "execution_count": 11,
   "metadata": {},
   "outputs": [
    {
     "data": {
      "text/html": [
       "<div>\n",
       "<style scoped>\n",
       "    .dataframe tbody tr th:only-of-type {\n",
       "        vertical-align: middle;\n",
       "    }\n",
       "\n",
       "    .dataframe tbody tr th {\n",
       "        vertical-align: top;\n",
       "    }\n",
       "\n",
       "    .dataframe thead th {\n",
       "        text-align: right;\n",
       "    }\n",
       "</style>\n",
       "<table border=\"1\" class=\"dataframe\">\n",
       "  <thead>\n",
       "    <tr style=\"text-align: right;\">\n",
       "      <th></th>\n",
       "      <th>login_time</th>\n",
       "      <th>delta_t</th>\n",
       "      <th>delta_t_15min</th>\n",
       "    </tr>\n",
       "  </thead>\n",
       "  <tbody>\n",
       "    <tr>\n",
       "      <th>0</th>\n",
       "      <td>1970-01-01 20:12:16</td>\n",
       "      <td>0 days 20:12:16</td>\n",
       "      <td>80</td>\n",
       "    </tr>\n",
       "    <tr>\n",
       "      <th>1</th>\n",
       "      <td>1970-01-01 20:13:18</td>\n",
       "      <td>0 days 20:13:18</td>\n",
       "      <td>80</td>\n",
       "    </tr>\n",
       "    <tr>\n",
       "      <th>2</th>\n",
       "      <td>1970-01-01 20:16:10</td>\n",
       "      <td>0 days 20:16:10</td>\n",
       "      <td>81</td>\n",
       "    </tr>\n",
       "    <tr>\n",
       "      <th>3</th>\n",
       "      <td>1970-01-01 20:16:36</td>\n",
       "      <td>0 days 20:16:36</td>\n",
       "      <td>81</td>\n",
       "    </tr>\n",
       "    <tr>\n",
       "      <th>4</th>\n",
       "      <td>1970-01-01 20:16:37</td>\n",
       "      <td>0 days 20:16:37</td>\n",
       "      <td>81</td>\n",
       "    </tr>\n",
       "    <tr>\n",
       "      <th>5</th>\n",
       "      <td>1970-01-01 20:21:41</td>\n",
       "      <td>0 days 20:21:41</td>\n",
       "      <td>81</td>\n",
       "    </tr>\n",
       "    <tr>\n",
       "      <th>6</th>\n",
       "      <td>1970-01-01 20:26:05</td>\n",
       "      <td>0 days 20:26:05</td>\n",
       "      <td>81</td>\n",
       "    </tr>\n",
       "    <tr>\n",
       "      <th>7</th>\n",
       "      <td>1970-01-01 20:26:21</td>\n",
       "      <td>0 days 20:26:21</td>\n",
       "      <td>81</td>\n",
       "    </tr>\n",
       "    <tr>\n",
       "      <th>8</th>\n",
       "      <td>1970-01-01 20:31:03</td>\n",
       "      <td>0 days 20:31:03</td>\n",
       "      <td>82</td>\n",
       "    </tr>\n",
       "    <tr>\n",
       "      <th>9</th>\n",
       "      <td>1970-01-01 20:34:46</td>\n",
       "      <td>0 days 20:34:46</td>\n",
       "      <td>82</td>\n",
       "    </tr>\n",
       "  </tbody>\n",
       "</table>\n",
       "</div>"
      ],
      "text/plain": [
       "           login_time         delta_t  delta_t_15min\n",
       "0 1970-01-01 20:12:16 0 days 20:12:16             80\n",
       "1 1970-01-01 20:13:18 0 days 20:13:18             80\n",
       "2 1970-01-01 20:16:10 0 days 20:16:10             81\n",
       "3 1970-01-01 20:16:36 0 days 20:16:36             81\n",
       "4 1970-01-01 20:16:37 0 days 20:16:37             81\n",
       "5 1970-01-01 20:21:41 0 days 20:21:41             81\n",
       "6 1970-01-01 20:26:05 0 days 20:26:05             81\n",
       "7 1970-01-01 20:26:21 0 days 20:26:21             81\n",
       "8 1970-01-01 20:31:03 0 days 20:31:03             82\n",
       "9 1970-01-01 20:34:46 0 days 20:34:46             82"
      ]
     },
     "execution_count": 11,
     "metadata": {},
     "output_type": "execute_result"
    }
   ],
   "source": [
    "df_log.head(10)"
   ]
  },
  {
   "cell_type": "markdown",
   "metadata": {},
   "source": [
    "- **Obtain the Login count**"
   ]
  },
  {
   "cell_type": "code",
   "execution_count": 12,
   "metadata": {},
   "outputs": [
    {
     "name": "stdout",
     "output_type": "stream",
     "text": [
      "80      2\n",
      "81      6\n",
      "82      9\n",
      "83      7\n",
      "84      1\n",
      "       ..\n",
      "9863    5\n",
      "9864    5\n",
      "9865    2\n",
      "9866    7\n",
      "9867    6\n",
      "Name: delta_t_15min, Length: 9381, dtype: int64\n"
     ]
    }
   ],
   "source": [
    "# get the login count and sort in ascending order\n",
    "login_count = df_log['delta_t_15min'].value_counts().sort_index()\n",
    "\n",
    "print(login_count)"
   ]
  },
  {
   "cell_type": "markdown",
   "metadata": {},
   "source": [
    "Examine for missing time data points."
   ]
  },
  {
   "cell_type": "code",
   "execution_count": 13,
   "metadata": {},
   "outputs": [
    {
     "name": "stdout",
     "output_type": "stream",
     "text": [
      "Expected number of points in time:  9787\n",
      "Actual number of points in time:  9381\n"
     ]
    }
   ],
   "source": [
    "# len(login_count) should be equal to login_count.index.max() - login_count.index.min()\n",
    "\n",
    "print('Expected number of points in time: ', login_count.index.max() - login_count.index.min())\n",
    "print('Actual number of points in time: ', len(login_count))"
   ]
  },
  {
   "cell_type": "markdown",
   "metadata": {},
   "source": [
    "There are 406 missing points in time."
   ]
  },
  {
   "cell_type": "markdown",
   "metadata": {},
   "source": [
    "- **Plot the Login count in time in hours to examine for patterns**"
   ]
  },
  {
   "cell_type": "markdown",
   "metadata": {},
   "source": [
    "    - First 72 hours"
   ]
  },
  {
   "cell_type": "code",
   "execution_count": 14,
   "metadata": {},
   "outputs": [
    {
     "data": {
      "image/png": "[encoded data removed]",
      "text/plain": [
       "<Figure size 1296x360 with 1 Axes>"
      ]
     },
     "metadata": {},
     "output_type": "display_data"
    }
   ],
   "source": [
    "n_pts = 72 * 4 \n",
    "\n",
    "plt.figure(figsize = (18, 5))\n",
    "plt.plot(login_count.index[0:n_pts] * 0.25, login_count.values[0:n_pts], 'bo--', linewidth = 2, markersize = 8)\n",
    "plt.ylim(0, 35)\n",
    "plt.xlabel('Time (hour)')\n",
    "plt.ylabel('Login Count')\n",
    "plt.show()"
   ]
  },
  {
   "cell_type": "markdown",
   "metadata": {},
   "source": [
    "    - Second 72 hours"
   ]
  },
  {
   "cell_type": "code",
   "execution_count": 15,
   "metadata": {},
   "outputs": [
    {
     "data": {
      "image/png": "[encoded data removed]",
      "text/plain": [
       "<Figure size 1296x360 with 1 Axes>"
      ]
     },
     "metadata": {},
     "output_type": "display_data"
    }
   ],
   "source": [
    "plt.figure(figsize = (18, 5))\n",
    "plt.plot(login_count.index[n_pts:2*n_pts] * 0.25, login_count.values[n_pts:2*n_pts], 'bo--', linewidth = 2, markersize = 8)\n",
    "plt.ylim(0, 35)\n",
    "plt.xlabel('Time (hour)')\n",
    "plt.ylabel('Login Count')\n",
    "plt.show()"
   ]
  },
  {
   "cell_type": "markdown",
   "metadata": {},
   "source": [
    "### Observations:\n",
    "- The Login data is cyclical in nature with a period of 12 hours. However, there are variations in both the period and the magnitude of the cycles.\n",
    "- Missing data points: Out of total 9787 expected point in time, there are 406 missing points. "
   ]
  },
  {
   "cell_type": "markdown",
   "metadata": {},
   "source": [
    "## ****"
   ]
  },
  {
   "cell_type": "markdown",
   "metadata": {},
   "source": [
    "## Part 2 ‑ Experiment and metrics design\n",
    "The neighboring cities of Gotham and Metropolis have complementary circadian rhythms: on\n",
    "weekdays, Ultimate Gotham is most active at night, and Ultimate Metropolis is most active\n",
    "during the day. On weekends, there is reasonable activity in both cities.\n",
    "However, a toll bridge, with a two­way toll, between the two cities causes driver partners to tend\n",
    "to be exclusive to each city. The Ultimate managers of city operations for the two cities have\n",
    "proposed an experiment to encourage driver partners to be available in both cities, by\n",
    "reimbursing all toll costs.\n",
    "\n",
    "1. What would you choose as the key measure of success of this experiment in encouraging driver partners to serve both cities, and why would you choose this metric?\n",
    "\n",
    "<span style='color:Blue'> As a key measure of success, I would use the average number of trips per day between the two cities. The metric should be separate for weekdays and weekends. Any statistically significant difference in this metric obtained when there are no incentives and when there are incentives in place would indicate incentives success. </span>\n",
    "\n",
    "2. Describe a practical experiment you would design to compare the effectiveness of the proposed change in relation to the key measure of success. Please provide details on:\n",
    "\n",
    "    a. how you will implement the experiment\n",
    "\n",
    "<span style='color:Blue'> Record number of trips between the cities over four weeks in two cases: A) No incenitves for drivers at the toll bridge; B) Apply incentives (pay toll fee) for drivers. </span>\n",
    "\n",
    "    b. what statistical test(s) you will conduct to verify the significance of the observation\n",
    "\n",
    "<span style='color:Blue'> We will obtain the average number of trips between the cities per day for each week; treat weekdays and weekends separately. </span>\n",
    "\n",
    "    c. how you would interpret the results and provide recommendations to the city operations team along with any caveats.\n",
    "        \n",
    "<span style='color:Blue'> If the averages for case (A) and case (B) are more than two sigma apart, then the incentives have an effect (need to determine the direction, as well). Depending on the results, recommendations could be made to: 1) apply incentives: a) only on weekdays; b) only on weekends; c) both on weekdays and on weekends; 2) do not apply incentives. </span>\n",
    "        \n",
    "<span style='color:Blue'> Special attention should be paid to the results from different weeks. One possibility is that the incentives might work for one or two weeks and then stop working because the risks of  trips between the cities outweigh the incentives. </span>"
   ]
  },
  {
   "cell_type": "markdown",
   "metadata": {},
   "source": [
    "## ****"
   ]
  },
  {
   "cell_type": "markdown",
   "metadata": {},
   "source": [
    "## Part 3 ‑ Predictive modeling\n",
    "\n",
    "Process, explore and model data in 'ultimate_data_challenge.json' to predict which users will become 'active' users (retaining problem).\n",
    "\n",
    "For problem formulation and details see 'ultimate_data_science_challenge.pdf'"
   ]
  },
  {
   "cell_type": "markdown",
   "metadata": {},
   "source": [
    "### 3.1 Data Processing"
   ]
  },
  {
   "cell_type": "markdown",
   "metadata": {},
   "source": [
    "- **Load data**"
   ]
  },
  {
   "cell_type": "code",
   "execution_count": 16,
   "metadata": {},
   "outputs": [],
   "source": [
    "# read 'ultimate_data_challenge.json'\n",
    "\n",
    "df = pd.read_json('ultimate_data_challenge.json', orient = 'values')"
   ]
  },
  {
   "cell_type": "code",
   "execution_count": 17,
   "metadata": {},
   "outputs": [
    {
     "name": "stdout",
     "output_type": "stream",
     "text": [
      "<class 'pandas.core.frame.DataFrame'>\n",
      "RangeIndex: 50000 entries, 0 to 49999\n",
      "Data columns (total 12 columns):\n",
      " #   Column                  Non-Null Count  Dtype  \n",
      "---  ------                  --------------  -----  \n",
      " 0   city                    50000 non-null  object \n",
      " 1   trips_in_first_30_days  50000 non-null  int64  \n",
      " 2   signup_date             50000 non-null  object \n",
      " 3   avg_rating_of_driver    41878 non-null  float64\n",
      " 4   avg_surge               50000 non-null  float64\n",
      " 5   last_trip_date          50000 non-null  object \n",
      " 6   phone                   49604 non-null  object \n",
      " 7   surge_pct               50000 non-null  float64\n",
      " 8   ultimate_black_user     50000 non-null  bool   \n",
      " 9   weekday_pct             50000 non-null  float64\n",
      " 10  avg_dist                50000 non-null  float64\n",
      " 11  avg_rating_by_driver    49799 non-null  float64\n",
      "dtypes: bool(1), float64(6), int64(1), object(4)\n",
      "memory usage: 4.2+ MB\n"
     ]
    }
   ],
   "source": [
    "df.info()"
   ]
  },
  {
   "cell_type": "code",
   "execution_count": 18,
   "metadata": {},
   "outputs": [
    {
     "data": {
      "text/html": [
       "<div>\n",
       "<style scoped>\n",
       "    .dataframe tbody tr th:only-of-type {\n",
       "        vertical-align: middle;\n",
       "    }\n",
       "\n",
       "    .dataframe tbody tr th {\n",
       "        vertical-align: top;\n",
       "    }\n",
       "\n",
       "    .dataframe thead th {\n",
       "        text-align: right;\n",
       "    }\n",
       "</style>\n",
       "<table border=\"1\" class=\"dataframe\">\n",
       "  <thead>\n",
       "    <tr style=\"text-align: right;\">\n",
       "      <th></th>\n",
       "      <th>city</th>\n",
       "      <th>trips_in_first_30_days</th>\n",
       "      <th>signup_date</th>\n",
       "      <th>avg_rating_of_driver</th>\n",
       "      <th>avg_surge</th>\n",
       "      <th>last_trip_date</th>\n",
       "      <th>phone</th>\n",
       "      <th>surge_pct</th>\n",
       "      <th>ultimate_black_user</th>\n",
       "      <th>weekday_pct</th>\n",
       "      <th>avg_dist</th>\n",
       "      <th>avg_rating_by_driver</th>\n",
       "    </tr>\n",
       "  </thead>\n",
       "  <tbody>\n",
       "    <tr>\n",
       "      <th>0</th>\n",
       "      <td>King's Landing</td>\n",
       "      <td>4</td>\n",
       "      <td>2014-01-25</td>\n",
       "      <td>4.7</td>\n",
       "      <td>1.10</td>\n",
       "      <td>2014-06-17</td>\n",
       "      <td>iPhone</td>\n",
       "      <td>15.4</td>\n",
       "      <td>True</td>\n",
       "      <td>46.2</td>\n",
       "      <td>3.67</td>\n",
       "      <td>5.0</td>\n",
       "    </tr>\n",
       "    <tr>\n",
       "      <th>1</th>\n",
       "      <td>Astapor</td>\n",
       "      <td>0</td>\n",
       "      <td>2014-01-29</td>\n",
       "      <td>5.0</td>\n",
       "      <td>1.00</td>\n",
       "      <td>2014-05-05</td>\n",
       "      <td>Android</td>\n",
       "      <td>0.0</td>\n",
       "      <td>False</td>\n",
       "      <td>50.0</td>\n",
       "      <td>8.26</td>\n",
       "      <td>5.0</td>\n",
       "    </tr>\n",
       "    <tr>\n",
       "      <th>2</th>\n",
       "      <td>Astapor</td>\n",
       "      <td>3</td>\n",
       "      <td>2014-01-06</td>\n",
       "      <td>4.3</td>\n",
       "      <td>1.00</td>\n",
       "      <td>2014-01-07</td>\n",
       "      <td>iPhone</td>\n",
       "      <td>0.0</td>\n",
       "      <td>False</td>\n",
       "      <td>100.0</td>\n",
       "      <td>0.77</td>\n",
       "      <td>5.0</td>\n",
       "    </tr>\n",
       "    <tr>\n",
       "      <th>3</th>\n",
       "      <td>King's Landing</td>\n",
       "      <td>9</td>\n",
       "      <td>2014-01-10</td>\n",
       "      <td>4.6</td>\n",
       "      <td>1.14</td>\n",
       "      <td>2014-06-29</td>\n",
       "      <td>iPhone</td>\n",
       "      <td>20.0</td>\n",
       "      <td>True</td>\n",
       "      <td>80.0</td>\n",
       "      <td>2.36</td>\n",
       "      <td>4.9</td>\n",
       "    </tr>\n",
       "    <tr>\n",
       "      <th>4</th>\n",
       "      <td>Winterfell</td>\n",
       "      <td>14</td>\n",
       "      <td>2014-01-27</td>\n",
       "      <td>4.4</td>\n",
       "      <td>1.19</td>\n",
       "      <td>2014-03-15</td>\n",
       "      <td>Android</td>\n",
       "      <td>11.8</td>\n",
       "      <td>False</td>\n",
       "      <td>82.4</td>\n",
       "      <td>3.13</td>\n",
       "      <td>4.9</td>\n",
       "    </tr>\n",
       "  </tbody>\n",
       "</table>\n",
       "</div>"
      ],
      "text/plain": [
       "             city  trips_in_first_30_days signup_date  avg_rating_of_driver  \\\n",
       "0  King's Landing                       4  2014-01-25                   4.7   \n",
       "1         Astapor                       0  2014-01-29                   5.0   \n",
       "2         Astapor                       3  2014-01-06                   4.3   \n",
       "3  King's Landing                       9  2014-01-10                   4.6   \n",
       "4      Winterfell                      14  2014-01-27                   4.4   \n",
       "\n",
       "   avg_surge last_trip_date    phone  surge_pct  ultimate_black_user  \\\n",
       "0       1.10     2014-06-17   iPhone       15.4                 True   \n",
       "1       1.00     2014-05-05  Android        0.0                False   \n",
       "2       1.00     2014-01-07   iPhone        0.0                False   \n",
       "3       1.14     2014-06-29   iPhone       20.0                 True   \n",
       "4       1.19     2014-03-15  Android       11.8                False   \n",
       "\n",
       "   weekday_pct  avg_dist  avg_rating_by_driver  \n",
       "0         46.2      3.67                   5.0  \n",
       "1         50.0      8.26                   5.0  \n",
       "2        100.0      0.77                   5.0  \n",
       "3         80.0      2.36                   4.9  \n",
       "4         82.4      3.13                   4.9  "
      ]
     },
     "execution_count": 18,
     "metadata": {},
     "output_type": "execute_result"
    }
   ],
   "source": [
    "df.head()"
   ]
  },
  {
   "cell_type": "markdown",
   "metadata": {},
   "source": [
    "- **Create new feature indicating the month of the last trip**"
   ]
  },
  {
   "cell_type": "code",
   "execution_count": 19,
   "metadata": {},
   "outputs": [
    {
     "data": {
      "text/html": [
       "<div>\n",
       "<style scoped>\n",
       "    .dataframe tbody tr th:only-of-type {\n",
       "        vertical-align: middle;\n",
       "    }\n",
       "\n",
       "    .dataframe tbody tr th {\n",
       "        vertical-align: top;\n",
       "    }\n",
       "\n",
       "    .dataframe thead th {\n",
       "        text-align: right;\n",
       "    }\n",
       "</style>\n",
       "<table border=\"1\" class=\"dataframe\">\n",
       "  <thead>\n",
       "    <tr style=\"text-align: right;\">\n",
       "      <th></th>\n",
       "      <th>city</th>\n",
       "      <th>trips_in_first_30_days</th>\n",
       "      <th>signup_date</th>\n",
       "      <th>avg_rating_of_driver</th>\n",
       "      <th>avg_surge</th>\n",
       "      <th>last_trip_date</th>\n",
       "      <th>phone</th>\n",
       "      <th>surge_pct</th>\n",
       "      <th>ultimate_black_user</th>\n",
       "      <th>weekday_pct</th>\n",
       "      <th>avg_dist</th>\n",
       "      <th>avg_rating_by_driver</th>\n",
       "      <th>last_trip_month</th>\n",
       "    </tr>\n",
       "  </thead>\n",
       "  <tbody>\n",
       "    <tr>\n",
       "      <th>0</th>\n",
       "      <td>King's Landing</td>\n",
       "      <td>4</td>\n",
       "      <td>2014-01-25</td>\n",
       "      <td>4.7</td>\n",
       "      <td>1.10</td>\n",
       "      <td>2014-06-17</td>\n",
       "      <td>iPhone</td>\n",
       "      <td>15.4</td>\n",
       "      <td>True</td>\n",
       "      <td>46.2</td>\n",
       "      <td>3.67</td>\n",
       "      <td>5.0</td>\n",
       "      <td>6</td>\n",
       "    </tr>\n",
       "    <tr>\n",
       "      <th>1</th>\n",
       "      <td>Astapor</td>\n",
       "      <td>0</td>\n",
       "      <td>2014-01-29</td>\n",
       "      <td>5.0</td>\n",
       "      <td>1.00</td>\n",
       "      <td>2014-05-05</td>\n",
       "      <td>Android</td>\n",
       "      <td>0.0</td>\n",
       "      <td>False</td>\n",
       "      <td>50.0</td>\n",
       "      <td>8.26</td>\n",
       "      <td>5.0</td>\n",
       "      <td>5</td>\n",
       "    </tr>\n",
       "    <tr>\n",
       "      <th>2</th>\n",
       "      <td>Astapor</td>\n",
       "      <td>3</td>\n",
       "      <td>2014-01-06</td>\n",
       "      <td>4.3</td>\n",
       "      <td>1.00</td>\n",
       "      <td>2014-01-07</td>\n",
       "      <td>iPhone</td>\n",
       "      <td>0.0</td>\n",
       "      <td>False</td>\n",
       "      <td>100.0</td>\n",
       "      <td>0.77</td>\n",
       "      <td>5.0</td>\n",
       "      <td>1</td>\n",
       "    </tr>\n",
       "    <tr>\n",
       "      <th>3</th>\n",
       "      <td>King's Landing</td>\n",
       "      <td>9</td>\n",
       "      <td>2014-01-10</td>\n",
       "      <td>4.6</td>\n",
       "      <td>1.14</td>\n",
       "      <td>2014-06-29</td>\n",
       "      <td>iPhone</td>\n",
       "      <td>20.0</td>\n",
       "      <td>True</td>\n",
       "      <td>80.0</td>\n",
       "      <td>2.36</td>\n",
       "      <td>4.9</td>\n",
       "      <td>6</td>\n",
       "    </tr>\n",
       "    <tr>\n",
       "      <th>4</th>\n",
       "      <td>Winterfell</td>\n",
       "      <td>14</td>\n",
       "      <td>2014-01-27</td>\n",
       "      <td>4.4</td>\n",
       "      <td>1.19</td>\n",
       "      <td>2014-03-15</td>\n",
       "      <td>Android</td>\n",
       "      <td>11.8</td>\n",
       "      <td>False</td>\n",
       "      <td>82.4</td>\n",
       "      <td>3.13</td>\n",
       "      <td>4.9</td>\n",
       "      <td>3</td>\n",
       "    </tr>\n",
       "  </tbody>\n",
       "</table>\n",
       "</div>"
      ],
      "text/plain": [
       "             city  trips_in_first_30_days signup_date  avg_rating_of_driver  \\\n",
       "0  King's Landing                       4  2014-01-25                   4.7   \n",
       "1         Astapor                       0  2014-01-29                   5.0   \n",
       "2         Astapor                       3  2014-01-06                   4.3   \n",
       "3  King's Landing                       9  2014-01-10                   4.6   \n",
       "4      Winterfell                      14  2014-01-27                   4.4   \n",
       "\n",
       "   avg_surge last_trip_date    phone  surge_pct  ultimate_black_user  \\\n",
       "0       1.10     2014-06-17   iPhone       15.4                 True   \n",
       "1       1.00     2014-05-05  Android        0.0                False   \n",
       "2       1.00     2014-01-07   iPhone        0.0                False   \n",
       "3       1.14     2014-06-29   iPhone       20.0                 True   \n",
       "4       1.19     2014-03-15  Android       11.8                False   \n",
       "\n",
       "   weekday_pct  avg_dist  avg_rating_by_driver  last_trip_month  \n",
       "0         46.2      3.67                   5.0                6  \n",
       "1         50.0      8.26                   5.0                5  \n",
       "2        100.0      0.77                   5.0                1  \n",
       "3         80.0      2.36                   4.9                6  \n",
       "4         82.4      3.13                   4.9                3  "
      ]
     },
     "execution_count": 19,
     "metadata": {},
     "output_type": "execute_result"
    }
   ],
   "source": [
    "# create 'last_trip_month' column\n",
    "df['last_trip_month'] = pd.DatetimeIndex(df['last_trip_date']).month\n",
    "\n",
    "df.head()"
   ]
  },
  {
   "cell_type": "code",
   "execution_count": 20,
   "metadata": {},
   "outputs": [
    {
     "name": "stdout",
     "output_type": "stream",
     "text": [
      "2014-07-01 00:00:00\n"
     ]
    }
   ],
   "source": [
    "# get the last date on record\n",
    "print(pd.DatetimeIndex(df['last_trip_date']).max())"
   ]
  },
  {
   "cell_type": "markdown",
   "metadata": {},
   "source": [
    "**Based on the last date on record, users who have 'last_trip_month' values of 6 and 7 will be denoted as active users.**\n",
    "\n",
    "Create new column 'active_rider' and fill its values accordingly."
   ]
  },
  {
   "cell_type": "code",
   "execution_count": 21,
   "metadata": {},
   "outputs": [
    {
     "data": {
      "text/html": [
       "<div>\n",
       "<style scoped>\n",
       "    .dataframe tbody tr th:only-of-type {\n",
       "        vertical-align: middle;\n",
       "    }\n",
       "\n",
       "    .dataframe tbody tr th {\n",
       "        vertical-align: top;\n",
       "    }\n",
       "\n",
       "    .dataframe thead th {\n",
       "        text-align: right;\n",
       "    }\n",
       "</style>\n",
       "<table border=\"1\" class=\"dataframe\">\n",
       "  <thead>\n",
       "    <tr style=\"text-align: right;\">\n",
       "      <th></th>\n",
       "      <th>city</th>\n",
       "      <th>trips_in_first_30_days</th>\n",
       "      <th>signup_date</th>\n",
       "      <th>avg_rating_of_driver</th>\n",
       "      <th>avg_surge</th>\n",
       "      <th>last_trip_date</th>\n",
       "      <th>phone</th>\n",
       "      <th>surge_pct</th>\n",
       "      <th>ultimate_black_user</th>\n",
       "      <th>weekday_pct</th>\n",
       "      <th>avg_dist</th>\n",
       "      <th>avg_rating_by_driver</th>\n",
       "      <th>last_trip_month</th>\n",
       "      <th>active_rider</th>\n",
       "    </tr>\n",
       "  </thead>\n",
       "  <tbody>\n",
       "    <tr>\n",
       "      <th>0</th>\n",
       "      <td>King's Landing</td>\n",
       "      <td>4</td>\n",
       "      <td>2014-01-25</td>\n",
       "      <td>4.7</td>\n",
       "      <td>1.10</td>\n",
       "      <td>2014-06-17</td>\n",
       "      <td>iPhone</td>\n",
       "      <td>15.4</td>\n",
       "      <td>True</td>\n",
       "      <td>46.2</td>\n",
       "      <td>3.67</td>\n",
       "      <td>5.0</td>\n",
       "      <td>6</td>\n",
       "      <td>0</td>\n",
       "    </tr>\n",
       "    <tr>\n",
       "      <th>1</th>\n",
       "      <td>Astapor</td>\n",
       "      <td>0</td>\n",
       "      <td>2014-01-29</td>\n",
       "      <td>5.0</td>\n",
       "      <td>1.00</td>\n",
       "      <td>2014-05-05</td>\n",
       "      <td>Android</td>\n",
       "      <td>0.0</td>\n",
       "      <td>False</td>\n",
       "      <td>50.0</td>\n",
       "      <td>8.26</td>\n",
       "      <td>5.0</td>\n",
       "      <td>5</td>\n",
       "      <td>0</td>\n",
       "    </tr>\n",
       "    <tr>\n",
       "      <th>2</th>\n",
       "      <td>Astapor</td>\n",
       "      <td>3</td>\n",
       "      <td>2014-01-06</td>\n",
       "      <td>4.3</td>\n",
       "      <td>1.00</td>\n",
       "      <td>2014-01-07</td>\n",
       "      <td>iPhone</td>\n",
       "      <td>0.0</td>\n",
       "      <td>False</td>\n",
       "      <td>100.0</td>\n",
       "      <td>0.77</td>\n",
       "      <td>5.0</td>\n",
       "      <td>1</td>\n",
       "      <td>0</td>\n",
       "    </tr>\n",
       "    <tr>\n",
       "      <th>3</th>\n",
       "      <td>King's Landing</td>\n",
       "      <td>9</td>\n",
       "      <td>2014-01-10</td>\n",
       "      <td>4.6</td>\n",
       "      <td>1.14</td>\n",
       "      <td>2014-06-29</td>\n",
       "      <td>iPhone</td>\n",
       "      <td>20.0</td>\n",
       "      <td>True</td>\n",
       "      <td>80.0</td>\n",
       "      <td>2.36</td>\n",
       "      <td>4.9</td>\n",
       "      <td>6</td>\n",
       "      <td>0</td>\n",
       "    </tr>\n",
       "    <tr>\n",
       "      <th>4</th>\n",
       "      <td>Winterfell</td>\n",
       "      <td>14</td>\n",
       "      <td>2014-01-27</td>\n",
       "      <td>4.4</td>\n",
       "      <td>1.19</td>\n",
       "      <td>2014-03-15</td>\n",
       "      <td>Android</td>\n",
       "      <td>11.8</td>\n",
       "      <td>False</td>\n",
       "      <td>82.4</td>\n",
       "      <td>3.13</td>\n",
       "      <td>4.9</td>\n",
       "      <td>3</td>\n",
       "      <td>0</td>\n",
       "    </tr>\n",
       "  </tbody>\n",
       "</table>\n",
       "</div>"
      ],
      "text/plain": [
       "             city  trips_in_first_30_days signup_date  avg_rating_of_driver  \\\n",
       "0  King's Landing                       4  2014-01-25                   4.7   \n",
       "1         Astapor                       0  2014-01-29                   5.0   \n",
       "2         Astapor                       3  2014-01-06                   4.3   \n",
       "3  King's Landing                       9  2014-01-10                   4.6   \n",
       "4      Winterfell                      14  2014-01-27                   4.4   \n",
       "\n",
       "   avg_surge last_trip_date    phone  surge_pct  ultimate_black_user  \\\n",
       "0       1.10     2014-06-17   iPhone       15.4                 True   \n",
       "1       1.00     2014-05-05  Android        0.0                False   \n",
       "2       1.00     2014-01-07   iPhone        0.0                False   \n",
       "3       1.14     2014-06-29   iPhone       20.0                 True   \n",
       "4       1.19     2014-03-15  Android       11.8                False   \n",
       "\n",
       "   weekday_pct  avg_dist  avg_rating_by_driver  last_trip_month  active_rider  \n",
       "0         46.2      3.67                   5.0                6             0  \n",
       "1         50.0      8.26                   5.0                5             0  \n",
       "2        100.0      0.77                   5.0                1             0  \n",
       "3         80.0      2.36                   4.9                6             0  \n",
       "4         82.4      3.13                   4.9                3             0  "
      ]
     },
     "execution_count": 21,
     "metadata": {},
     "output_type": "execute_result"
    }
   ],
   "source": [
    "# create column 'active_rider' and initialize with 0\n",
    "\n",
    "df['active_rider'] = 0\n",
    "df.head()"
   ]
  },
  {
   "cell_type": "code",
   "execution_count": 22,
   "metadata": {},
   "outputs": [],
   "source": [
    "# replace 'active_rider' values with 1 if 'last_trip_month' value is 6 or 7\n",
    "\n",
    "feat_fill = 'active_rider'\n",
    "feat_lookup = 'last_trip_month'\n",
    "\n",
    "n_condition = df[feat_lookup].max()\n",
    "\n",
    "for i in range(len(df)):\n",
    "    if df[feat_lookup].iloc[i] >= n_condition - 1:\n",
    "        df[feat_fill].iloc[i] = 1"
   ]
  },
  {
   "cell_type": "code",
   "execution_count": 23,
   "metadata": {},
   "outputs": [
    {
     "data": {
      "text/html": [
       "<div>\n",
       "<style scoped>\n",
       "    .dataframe tbody tr th:only-of-type {\n",
       "        vertical-align: middle;\n",
       "    }\n",
       "\n",
       "    .dataframe tbody tr th {\n",
       "        vertical-align: top;\n",
       "    }\n",
       "\n",
       "    .dataframe thead th {\n",
       "        text-align: right;\n",
       "    }\n",
       "</style>\n",
       "<table border=\"1\" class=\"dataframe\">\n",
       "  <thead>\n",
       "    <tr style=\"text-align: right;\">\n",
       "      <th></th>\n",
       "      <th>city</th>\n",
       "      <th>trips_in_first_30_days</th>\n",
       "      <th>signup_date</th>\n",
       "      <th>avg_rating_of_driver</th>\n",
       "      <th>avg_surge</th>\n",
       "      <th>last_trip_date</th>\n",
       "      <th>phone</th>\n",
       "      <th>surge_pct</th>\n",
       "      <th>ultimate_black_user</th>\n",
       "      <th>weekday_pct</th>\n",
       "      <th>avg_dist</th>\n",
       "      <th>avg_rating_by_driver</th>\n",
       "      <th>last_trip_month</th>\n",
       "      <th>active_rider</th>\n",
       "    </tr>\n",
       "  </thead>\n",
       "  <tbody>\n",
       "    <tr>\n",
       "      <th>0</th>\n",
       "      <td>King's Landing</td>\n",
       "      <td>4</td>\n",
       "      <td>2014-01-25</td>\n",
       "      <td>4.7</td>\n",
       "      <td>1.10</td>\n",
       "      <td>2014-06-17</td>\n",
       "      <td>iPhone</td>\n",
       "      <td>15.4</td>\n",
       "      <td>True</td>\n",
       "      <td>46.2</td>\n",
       "      <td>3.67</td>\n",
       "      <td>5.0</td>\n",
       "      <td>6</td>\n",
       "      <td>1</td>\n",
       "    </tr>\n",
       "    <tr>\n",
       "      <th>1</th>\n",
       "      <td>Astapor</td>\n",
       "      <td>0</td>\n",
       "      <td>2014-01-29</td>\n",
       "      <td>5.0</td>\n",
       "      <td>1.00</td>\n",
       "      <td>2014-05-05</td>\n",
       "      <td>Android</td>\n",
       "      <td>0.0</td>\n",
       "      <td>False</td>\n",
       "      <td>50.0</td>\n",
       "      <td>8.26</td>\n",
       "      <td>5.0</td>\n",
       "      <td>5</td>\n",
       "      <td>0</td>\n",
       "    </tr>\n",
       "    <tr>\n",
       "      <th>2</th>\n",
       "      <td>Astapor</td>\n",
       "      <td>3</td>\n",
       "      <td>2014-01-06</td>\n",
       "      <td>4.3</td>\n",
       "      <td>1.00</td>\n",
       "      <td>2014-01-07</td>\n",
       "      <td>iPhone</td>\n",
       "      <td>0.0</td>\n",
       "      <td>False</td>\n",
       "      <td>100.0</td>\n",
       "      <td>0.77</td>\n",
       "      <td>5.0</td>\n",
       "      <td>1</td>\n",
       "      <td>0</td>\n",
       "    </tr>\n",
       "    <tr>\n",
       "      <th>3</th>\n",
       "      <td>King's Landing</td>\n",
       "      <td>9</td>\n",
       "      <td>2014-01-10</td>\n",
       "      <td>4.6</td>\n",
       "      <td>1.14</td>\n",
       "      <td>2014-06-29</td>\n",
       "      <td>iPhone</td>\n",
       "      <td>20.0</td>\n",
       "      <td>True</td>\n",
       "      <td>80.0</td>\n",
       "      <td>2.36</td>\n",
       "      <td>4.9</td>\n",
       "      <td>6</td>\n",
       "      <td>1</td>\n",
       "    </tr>\n",
       "    <tr>\n",
       "      <th>4</th>\n",
       "      <td>Winterfell</td>\n",
       "      <td>14</td>\n",
       "      <td>2014-01-27</td>\n",
       "      <td>4.4</td>\n",
       "      <td>1.19</td>\n",
       "      <td>2014-03-15</td>\n",
       "      <td>Android</td>\n",
       "      <td>11.8</td>\n",
       "      <td>False</td>\n",
       "      <td>82.4</td>\n",
       "      <td>3.13</td>\n",
       "      <td>4.9</td>\n",
       "      <td>3</td>\n",
       "      <td>0</td>\n",
       "    </tr>\n",
       "  </tbody>\n",
       "</table>\n",
       "</div>"
      ],
      "text/plain": [
       "             city  trips_in_first_30_days signup_date  avg_rating_of_driver  \\\n",
       "0  King's Landing                       4  2014-01-25                   4.7   \n",
       "1         Astapor                       0  2014-01-29                   5.0   \n",
       "2         Astapor                       3  2014-01-06                   4.3   \n",
       "3  King's Landing                       9  2014-01-10                   4.6   \n",
       "4      Winterfell                      14  2014-01-27                   4.4   \n",
       "\n",
       "   avg_surge last_trip_date    phone  surge_pct  ultimate_black_user  \\\n",
       "0       1.10     2014-06-17   iPhone       15.4                 True   \n",
       "1       1.00     2014-05-05  Android        0.0                False   \n",
       "2       1.00     2014-01-07   iPhone        0.0                False   \n",
       "3       1.14     2014-06-29   iPhone       20.0                 True   \n",
       "4       1.19     2014-03-15  Android       11.8                False   \n",
       "\n",
       "   weekday_pct  avg_dist  avg_rating_by_driver  last_trip_month  active_rider  \n",
       "0         46.2      3.67                   5.0                6             1  \n",
       "1         50.0      8.26                   5.0                5             0  \n",
       "2        100.0      0.77                   5.0                1             0  \n",
       "3         80.0      2.36                   4.9                6             1  \n",
       "4         82.4      3.13                   4.9                3             0  "
      ]
     },
     "execution_count": 23,
     "metadata": {},
     "output_type": "execute_result"
    }
   ],
   "source": [
    "# check\n",
    "\n",
    "df.head()"
   ]
  },
  {
   "cell_type": "markdown",
   "metadata": {},
   "source": [
    "### 3.2 Data Exploration"
   ]
  },
  {
   "cell_type": "markdown",
   "metadata": {},
   "source": [
    "- **Select relevant features**"
   ]
  },
  {
   "cell_type": "code",
   "execution_count": 24,
   "metadata": {},
   "outputs": [
    {
     "data": {
      "text/plain": [
       "Index(['city', 'trips_in_first_30_days', 'signup_date', 'avg_rating_of_driver',\n",
       "       'avg_surge', 'last_trip_date', 'phone', 'surge_pct',\n",
       "       'ultimate_black_user', 'weekday_pct', 'avg_dist',\n",
       "       'avg_rating_by_driver', 'last_trip_month', 'active_rider'],\n",
       "      dtype='object')"
      ]
     },
     "execution_count": 24,
     "metadata": {},
     "output_type": "execute_result"
    }
   ],
   "source": [
    "# select the relevant features\n",
    "\n",
    "df.columns"
   ]
  },
  {
   "cell_type": "code",
   "execution_count": 25,
   "metadata": {},
   "outputs": [
    {
     "data": {
      "text/html": [
       "<div>\n",
       "<style scoped>\n",
       "    .dataframe tbody tr th:only-of-type {\n",
       "        vertical-align: middle;\n",
       "    }\n",
       "\n",
       "    .dataframe tbody tr th {\n",
       "        vertical-align: top;\n",
       "    }\n",
       "\n",
       "    .dataframe thead th {\n",
       "        text-align: right;\n",
       "    }\n",
       "</style>\n",
       "<table border=\"1\" class=\"dataframe\">\n",
       "  <thead>\n",
       "    <tr style=\"text-align: right;\">\n",
       "      <th></th>\n",
       "      <th>city</th>\n",
       "      <th>trips_in_first_30_days</th>\n",
       "      <th>avg_rating_of_driver</th>\n",
       "      <th>avg_surge</th>\n",
       "      <th>phone</th>\n",
       "      <th>surge_pct</th>\n",
       "      <th>ultimate_black_user</th>\n",
       "      <th>weekday_pct</th>\n",
       "      <th>avg_dist</th>\n",
       "      <th>avg_rating_by_driver</th>\n",
       "      <th>active_rider</th>\n",
       "    </tr>\n",
       "  </thead>\n",
       "  <tbody>\n",
       "    <tr>\n",
       "      <th>0</th>\n",
       "      <td>King's Landing</td>\n",
       "      <td>4</td>\n",
       "      <td>4.7</td>\n",
       "      <td>1.10</td>\n",
       "      <td>iPhone</td>\n",
       "      <td>15.4</td>\n",
       "      <td>True</td>\n",
       "      <td>46.2</td>\n",
       "      <td>3.67</td>\n",
       "      <td>5.0</td>\n",
       "      <td>1</td>\n",
       "    </tr>\n",
       "    <tr>\n",
       "      <th>1</th>\n",
       "      <td>Astapor</td>\n",
       "      <td>0</td>\n",
       "      <td>5.0</td>\n",
       "      <td>1.00</td>\n",
       "      <td>Android</td>\n",
       "      <td>0.0</td>\n",
       "      <td>False</td>\n",
       "      <td>50.0</td>\n",
       "      <td>8.26</td>\n",
       "      <td>5.0</td>\n",
       "      <td>0</td>\n",
       "    </tr>\n",
       "    <tr>\n",
       "      <th>2</th>\n",
       "      <td>Astapor</td>\n",
       "      <td>3</td>\n",
       "      <td>4.3</td>\n",
       "      <td>1.00</td>\n",
       "      <td>iPhone</td>\n",
       "      <td>0.0</td>\n",
       "      <td>False</td>\n",
       "      <td>100.0</td>\n",
       "      <td>0.77</td>\n",
       "      <td>5.0</td>\n",
       "      <td>0</td>\n",
       "    </tr>\n",
       "    <tr>\n",
       "      <th>3</th>\n",
       "      <td>King's Landing</td>\n",
       "      <td>9</td>\n",
       "      <td>4.6</td>\n",
       "      <td>1.14</td>\n",
       "      <td>iPhone</td>\n",
       "      <td>20.0</td>\n",
       "      <td>True</td>\n",
       "      <td>80.0</td>\n",
       "      <td>2.36</td>\n",
       "      <td>4.9</td>\n",
       "      <td>1</td>\n",
       "    </tr>\n",
       "    <tr>\n",
       "      <th>4</th>\n",
       "      <td>Winterfell</td>\n",
       "      <td>14</td>\n",
       "      <td>4.4</td>\n",
       "      <td>1.19</td>\n",
       "      <td>Android</td>\n",
       "      <td>11.8</td>\n",
       "      <td>False</td>\n",
       "      <td>82.4</td>\n",
       "      <td>3.13</td>\n",
       "      <td>4.9</td>\n",
       "      <td>0</td>\n",
       "    </tr>\n",
       "  </tbody>\n",
       "</table>\n",
       "</div>"
      ],
      "text/plain": [
       "             city  trips_in_first_30_days  avg_rating_of_driver  avg_surge  \\\n",
       "0  King's Landing                       4                   4.7       1.10   \n",
       "1         Astapor                       0                   5.0       1.00   \n",
       "2         Astapor                       3                   4.3       1.00   \n",
       "3  King's Landing                       9                   4.6       1.14   \n",
       "4      Winterfell                      14                   4.4       1.19   \n",
       "\n",
       "     phone  surge_pct  ultimate_black_user  weekday_pct  avg_dist  \\\n",
       "0   iPhone       15.4                 True         46.2      3.67   \n",
       "1  Android        0.0                False         50.0      8.26   \n",
       "2   iPhone        0.0                False        100.0      0.77   \n",
       "3   iPhone       20.0                 True         80.0      2.36   \n",
       "4  Android       11.8                False         82.4      3.13   \n",
       "\n",
       "   avg_rating_by_driver  active_rider  \n",
       "0                   5.0             1  \n",
       "1                   5.0             0  \n",
       "2                   5.0             0  \n",
       "3                   4.9             1  \n",
       "4                   4.9             0  "
      ]
     },
     "execution_count": 25,
     "metadata": {},
     "output_type": "execute_result"
    }
   ],
   "source": [
    "feat_select = ['city', 'trips_in_first_30_days', 'avg_rating_of_driver', 'avg_surge', 'phone', 'surge_pct', \n",
    "               'ultimate_black_user', 'weekday_pct', 'avg_dist', 'avg_rating_by_driver', 'active_rider']\n",
    "\n",
    "df_s = df[feat_select].copy()\n",
    "df_s.head()"
   ]
  },
  {
   "cell_type": "code",
   "execution_count": 26,
   "metadata": {},
   "outputs": [
    {
     "data": {
      "text/html": [
       "<div>\n",
       "<style scoped>\n",
       "    .dataframe tbody tr th:only-of-type {\n",
       "        vertical-align: middle;\n",
       "    }\n",
       "\n",
       "    .dataframe tbody tr th {\n",
       "        vertical-align: top;\n",
       "    }\n",
       "\n",
       "    .dataframe thead th {\n",
       "        text-align: right;\n",
       "    }\n",
       "</style>\n",
       "<table border=\"1\" class=\"dataframe\">\n",
       "  <thead>\n",
       "    <tr style=\"text-align: right;\">\n",
       "      <th></th>\n",
       "      <th>city</th>\n",
       "      <th>month1_trips</th>\n",
       "      <th>driver_rating</th>\n",
       "      <th>avg_surge</th>\n",
       "      <th>phone</th>\n",
       "      <th>surge_pct</th>\n",
       "      <th>lux_user</th>\n",
       "      <th>weekday_pct</th>\n",
       "      <th>avg_dist</th>\n",
       "      <th>rider_rating</th>\n",
       "      <th>active_rider</th>\n",
       "    </tr>\n",
       "  </thead>\n",
       "  <tbody>\n",
       "    <tr>\n",
       "      <th>0</th>\n",
       "      <td>King's Landing</td>\n",
       "      <td>4</td>\n",
       "      <td>4.7</td>\n",
       "      <td>1.10</td>\n",
       "      <td>iPhone</td>\n",
       "      <td>15.4</td>\n",
       "      <td>True</td>\n",
       "      <td>46.2</td>\n",
       "      <td>3.67</td>\n",
       "      <td>5.0</td>\n",
       "      <td>1</td>\n",
       "    </tr>\n",
       "    <tr>\n",
       "      <th>1</th>\n",
       "      <td>Astapor</td>\n",
       "      <td>0</td>\n",
       "      <td>5.0</td>\n",
       "      <td>1.00</td>\n",
       "      <td>Android</td>\n",
       "      <td>0.0</td>\n",
       "      <td>False</td>\n",
       "      <td>50.0</td>\n",
       "      <td>8.26</td>\n",
       "      <td>5.0</td>\n",
       "      <td>0</td>\n",
       "    </tr>\n",
       "    <tr>\n",
       "      <th>2</th>\n",
       "      <td>Astapor</td>\n",
       "      <td>3</td>\n",
       "      <td>4.3</td>\n",
       "      <td>1.00</td>\n",
       "      <td>iPhone</td>\n",
       "      <td>0.0</td>\n",
       "      <td>False</td>\n",
       "      <td>100.0</td>\n",
       "      <td>0.77</td>\n",
       "      <td>5.0</td>\n",
       "      <td>0</td>\n",
       "    </tr>\n",
       "    <tr>\n",
       "      <th>3</th>\n",
       "      <td>King's Landing</td>\n",
       "      <td>9</td>\n",
       "      <td>4.6</td>\n",
       "      <td>1.14</td>\n",
       "      <td>iPhone</td>\n",
       "      <td>20.0</td>\n",
       "      <td>True</td>\n",
       "      <td>80.0</td>\n",
       "      <td>2.36</td>\n",
       "      <td>4.9</td>\n",
       "      <td>1</td>\n",
       "    </tr>\n",
       "    <tr>\n",
       "      <th>4</th>\n",
       "      <td>Winterfell</td>\n",
       "      <td>14</td>\n",
       "      <td>4.4</td>\n",
       "      <td>1.19</td>\n",
       "      <td>Android</td>\n",
       "      <td>11.8</td>\n",
       "      <td>False</td>\n",
       "      <td>82.4</td>\n",
       "      <td>3.13</td>\n",
       "      <td>4.9</td>\n",
       "      <td>0</td>\n",
       "    </tr>\n",
       "  </tbody>\n",
       "</table>\n",
       "</div>"
      ],
      "text/plain": [
       "             city  month1_trips  driver_rating  avg_surge    phone  surge_pct  \\\n",
       "0  King's Landing             4            4.7       1.10   iPhone       15.4   \n",
       "1         Astapor             0            5.0       1.00  Android        0.0   \n",
       "2         Astapor             3            4.3       1.00   iPhone        0.0   \n",
       "3  King's Landing             9            4.6       1.14   iPhone       20.0   \n",
       "4      Winterfell            14            4.4       1.19  Android       11.8   \n",
       "\n",
       "   lux_user  weekday_pct  avg_dist  rider_rating  active_rider  \n",
       "0      True         46.2      3.67           5.0             1  \n",
       "1     False         50.0      8.26           5.0             0  \n",
       "2     False        100.0      0.77           5.0             0  \n",
       "3      True         80.0      2.36           4.9             1  \n",
       "4     False         82.4      3.13           4.9             0  "
      ]
     },
     "execution_count": 26,
     "metadata": {},
     "output_type": "execute_result"
    }
   ],
   "source": [
    "# shorten long column names\n",
    "\n",
    "df_s = df_s.rename(columns = {'trips_in_first_30_days':'month1_trips', 'avg_rating_of_driver':'driver_rating', \n",
    "                              'avg_rating_by_driver':'rider_rating', 'ultimate_black_user':'lux_user'})\n",
    "\n",
    "df_s.head()"
   ]
  },
  {
   "cell_type": "markdown",
   "metadata": {},
   "source": [
    "- **Checking for and filling missing (null) values**"
   ]
  },
  {
   "cell_type": "code",
   "execution_count": 27,
   "metadata": {},
   "outputs": [
    {
     "name": "stdout",
     "output_type": "stream",
     "text": [
      "<class 'pandas.core.frame.DataFrame'>\n",
      "RangeIndex: 50000 entries, 0 to 49999\n",
      "Data columns (total 11 columns):\n",
      " #   Column         Non-Null Count  Dtype  \n",
      "---  ------         --------------  -----  \n",
      " 0   city           50000 non-null  object \n",
      " 1   month1_trips   50000 non-null  int64  \n",
      " 2   driver_rating  41878 non-null  float64\n",
      " 3   avg_surge      50000 non-null  float64\n",
      " 4   phone          49604 non-null  object \n",
      " 5   surge_pct      50000 non-null  float64\n",
      " 6   lux_user       50000 non-null  bool   \n",
      " 7   weekday_pct    50000 non-null  float64\n",
      " 8   avg_dist       50000 non-null  float64\n",
      " 9   rider_rating   49799 non-null  float64\n",
      " 10  active_rider   50000 non-null  int64  \n",
      "dtypes: bool(1), float64(6), int64(2), object(2)\n",
      "memory usage: 3.9+ MB\n"
     ]
    }
   ],
   "source": [
    "df_s.info()"
   ]
  },
  {
   "cell_type": "markdown",
   "metadata": {},
   "source": [
    "The following columns have missing values: 'driver_rating', 'phone', and 'rider_rating'.\n",
    "\n",
    "We will fill the missing values in 'driver_rating' and 'rider_rating' by using the respective mean values. The missing values in 'phone' will be replaced by the most common value."
   ]
  },
  {
   "cell_type": "code",
   "execution_count": 28,
   "metadata": {},
   "outputs": [],
   "source": [
    "# fill 'driver_rating' and 'rider_rating' nulls with mean value\n",
    "feat_list = ['driver_rating','rider_rating']\n",
    "\n",
    "for feat in feat_list:\n",
    "    feat_mean = round(df_s[feat].mean(), 1)\n",
    "    df_s[feat].fillna(feat_mean, inplace = True)"
   ]
  },
  {
   "cell_type": "code",
   "execution_count": 29,
   "metadata": {},
   "outputs": [
    {
     "name": "stdout",
     "output_type": "stream",
     "text": [
      "iPhone     69.716152\n",
      "Android    30.283848\n",
      "Name: phone, dtype: float64\n"
     ]
    }
   ],
   "source": [
    "# fill 'phone' nulls with most common value\n",
    "\n",
    "feat_fill = 'phone'\n",
    "\n",
    "count_feat_fill = df_s[feat_fill].value_counts(normalize = True) * 100\n",
    "print(count_feat_fill)"
   ]
  },
  {
   "cell_type": "code",
   "execution_count": 30,
   "metadata": {},
   "outputs": [],
   "source": [
    "df_s[feat_fill].fillna(count_feat_fill.index[0], inplace = True)"
   ]
  },
  {
   "cell_type": "code",
   "execution_count": 31,
   "metadata": {},
   "outputs": [
    {
     "name": "stdout",
     "output_type": "stream",
     "text": [
      "<class 'pandas.core.frame.DataFrame'>\n",
      "RangeIndex: 50000 entries, 0 to 49999\n",
      "Data columns (total 11 columns):\n",
      " #   Column         Non-Null Count  Dtype  \n",
      "---  ------         --------------  -----  \n",
      " 0   city           50000 non-null  object \n",
      " 1   month1_trips   50000 non-null  int64  \n",
      " 2   driver_rating  50000 non-null  float64\n",
      " 3   avg_surge      50000 non-null  float64\n",
      " 4   phone          50000 non-null  object \n",
      " 5   surge_pct      50000 non-null  float64\n",
      " 6   lux_user       50000 non-null  bool   \n",
      " 7   weekday_pct    50000 non-null  float64\n",
      " 8   avg_dist       50000 non-null  float64\n",
      " 9   rider_rating   50000 non-null  float64\n",
      " 10  active_rider   50000 non-null  int64  \n",
      "dtypes: bool(1), float64(6), int64(2), object(2)\n",
      "memory usage: 3.9+ MB\n"
     ]
    }
   ],
   "source": [
    "# check\n",
    "\n",
    "df_s.info()"
   ]
  },
  {
   "cell_type": "markdown",
   "metadata": {},
   "source": [
    "All missing values have been filled."
   ]
  },
  {
   "cell_type": "markdown",
   "metadata": {},
   "source": [
    "- **Feature composition for 'active' (1) and 'non-active' (0) riders**"
   ]
  },
  {
   "cell_type": "markdown",
   "metadata": {},
   "source": [
    "    - Composition of 'city'"
   ]
  },
  {
   "cell_type": "code",
   "execution_count": 32,
   "metadata": {},
   "outputs": [
    {
     "name": "stdout",
     "output_type": "stream",
     "text": [
      "CITY value count for active riders:\n",
      "Winterfell        43.7\n",
      "King's Landing    33.8\n",
      "Astapor           22.5\n",
      "Name: city, dtype: float64\n",
      "\n",
      "\n",
      "CITY value count for non-active riders:\n",
      "Winterfell        48.5\n",
      "Astapor           39.4\n",
      "King's Landing    12.1\n",
      "Name: city, dtype: float64\n"
     ]
    }
   ],
   "source": [
    "target = 'active_rider'\n",
    "\n",
    "feat = 'city'\n",
    "\n",
    "print(feat.upper() + ' value count for active riders:')\n",
    "print(round(df_s[df_s[target] == 1][feat].value_counts(normalize = True) * 100, 1))\n",
    "print('\\n')\n",
    "print(feat.upper() + ' value count for non-active riders:')\n",
    "print(round(df_s[df_s[target] == 0][feat].value_counts(normalize = True) * 100, 1))"
   ]
  },
  {
   "cell_type": "code",
   "execution_count": 33,
   "metadata": {},
   "outputs": [],
   "source": [
    "# visiualize using bar plots\n",
    "\n",
    "# define function to plot feature value count\n",
    "x_max = 50\n",
    "\n",
    "def value_count_plot(data, target, feat, x_max):\n",
    "    \n",
    "    count_1 = data[data[target] == 1][feat].value_counts(normalize = True) * 100\n",
    "    count_2 = data[data[target] == 0][feat].value_counts(normalize = True) * 100\n",
    "    \n",
    "    fig, (ax1, ax2) = plt.subplots(ncols=2, figsize=(20, 8), sharey = False)\n",
    "    \n",
    "    sns.barplot(count_1.values, count_1.index, palette = 'viridis', ax = ax1)\n",
    "    ax1.set_xlim(0, x_max)\n",
    "    ax1.set(xlabel = 'Percentage of Total Number of Records')\n",
    "    ax1.set(title = 'Number of Records vs. ' + feat.upper() + ': Active Riders')\n",
    "    \n",
    "    sns.barplot(count_2.values, count_2.index, palette = 'viridis', ax = ax2)\n",
    "    ax2.set_xlim(0, x_max)\n",
    "    ax2.set(xlabel = 'Percentage of Total Number of Records')\n",
    "    ax2.set(title = 'Number of Records vs. ' + feat.upper() + ': Non-active Riders')\n",
    "    \n",
    "    plt.show()"
   ]
  },
  {
   "cell_type": "code",
   "execution_count": 34,
   "metadata": {},
   "outputs": [
    {
     "data": {
      "image/png": "[encoded data removed]",
      "text/plain": [
       "<Figure size 1440x576 with 2 Axes>"
      ]
     },
     "metadata": {},
     "output_type": "display_data"
    }
   ],
   "source": [
    "value_count_plot(df_s, target, feat, x_max)"
   ]
  },
  {
   "cell_type": "markdown",
   "metadata": {},
   "source": [
    "    - Composition of 'phone'"
   ]
  },
  {
   "cell_type": "code",
   "execution_count": 35,
   "metadata": {},
   "outputs": [
    {
     "name": "stdout",
     "output_type": "stream",
     "text": [
      "PHONE value count for active riders:\n",
      "iPhone     83.3\n",
      "Android    16.7\n",
      "Name: phone, dtype: float64\n",
      "\n",
      "\n",
      "PHONE value count for non-active riders:\n",
      "iPhone     61.9\n",
      "Android    38.1\n",
      "Name: phone, dtype: float64\n"
     ]
    }
   ],
   "source": [
    "target = 'active_rider'\n",
    "\n",
    "feat = 'phone'\n",
    "\n",
    "print(feat.upper() + ' value count for active riders:')\n",
    "print(round(df_s[df_s[target] == 1][feat].value_counts(normalize = True) * 100, 1))\n",
    "print('\\n')\n",
    "print(feat.upper() + ' value count for non-active riders:')\n",
    "print(round(df_s[df_s[target] == 0][feat].value_counts(normalize = True) * 100, 1))"
   ]
  },
  {
   "cell_type": "code",
   "execution_count": 36,
   "metadata": {},
   "outputs": [
    {
     "data": {
      "image/png": "[encoded data removed]",
      "text/plain": [
       "<Figure size 1440x576 with 2 Axes>"
      ]
     },
     "metadata": {},
     "output_type": "display_data"
    }
   ],
   "source": [
    "x_max = 100\n",
    "value_count_plot(df_s, target, feat, x_max)"
   ]
  },
  {
   "cell_type": "markdown",
   "metadata": {},
   "source": [
    "    - Composition of 'lux_user'"
   ]
  },
  {
   "cell_type": "code",
   "execution_count": 37,
   "metadata": {},
   "outputs": [
    {
     "name": "stdout",
     "output_type": "stream",
     "text": [
      "LUX_USERvalue count for active riders:\n",
      "True     50.5\n",
      "False    49.5\n",
      "Name: lux_user, dtype: float64\n",
      "\n",
      "\n",
      "LUX_USERvalue count for non-active riders:\n",
      "False    70.0\n",
      "True     30.0\n",
      "Name: lux_user, dtype: float64\n"
     ]
    }
   ],
   "source": [
    "feat = 'lux_user'\n",
    "\n",
    "print(feat.upper() + 'value count for active riders:')\n",
    "print(round(df_s[df_s[target] == 1][feat].value_counts(normalize = True) * 100, 1))\n",
    "print('\\n')\n",
    "print(feat.upper() + 'value count for non-active riders:')\n",
    "print(round(df_s[df_s[target] == 0][feat].value_counts(normalize = True) * 100, 1))"
   ]
  },
  {
   "cell_type": "code",
   "execution_count": 38,
   "metadata": {},
   "outputs": [
    {
     "data": {
      "image/png": "[encoded data removed]",
      "text/plain": [
       "<Figure size 1440x576 with 2 Axes>"
      ]
     },
     "metadata": {},
     "output_type": "display_data"
    }
   ],
   "source": [
    "x_max = 100\n",
    "\n",
    "fig, (ax1, ax2) = plt.subplots(ncols=2, figsize=(20, 8), sharey = False)\n",
    "\n",
    "sns.barplot([50.5, 49.5], ['True', 'False'], palette = 'viridis', ax = ax1)\n",
    "ax1.set_xlim(0, x_max)\n",
    "ax1.set(xlabel = 'Percentage of Total Number of Records')\n",
    "ax1.set(title = 'Number of Records vs. ' + feat.upper() + ': Active Riders')\n",
    "    \n",
    "sns.barplot([30.0, 70.0], ['True', 'False'], palette = 'viridis', ax = ax2)\n",
    "ax2.set_xlim(0, x_max)\n",
    "ax2.set(xlabel = 'Percentage of Total Number of Records')\n",
    "ax2.set(title = 'Number of Records vs. ' + feat.upper() + ': Non-active Riders')\n",
    "    \n",
    "plt.show()"
   ]
  },
  {
   "cell_type": "markdown",
   "metadata": {},
   "source": [
    "- **Histograms of 'avg_dist' and 'month1_trips' for 'active' (1) and 'non-active' (0) riders**"
   ]
  },
  {
   "cell_type": "markdown",
   "metadata": {},
   "source": [
    "    - Histogram of 'avg_dist'"
   ]
  },
  {
   "cell_type": "code",
   "execution_count": 39,
   "metadata": {},
   "outputs": [],
   "source": [
    "# define function to plot feature histograms\n",
    "\n",
    "feat = 'avg_dist'\n",
    "\n",
    "def plot_feat_hist(data, target, feat, n_bin, x_max):\n",
    "    y1 = data[data[target] == 1][feat]\n",
    "    y2 = data[data[target] == 0][feat]\n",
    "    \n",
    "    plt.figure(figsize = (12, 8))\n",
    "    sns.histplot(y1, bins = n_bin, color = 'blue', alpha = 0.5, label = 'Active Rider')\n",
    "    sns.histplot(y2, bins = n_bin, color = 'red', alpha = 0.5, label = 'Non-active Rider')\n",
    "    plt.xlim(0, x_max)\n",
    "    plt.legend()\n",
    "    plt.xlabel(feat.upper())\n",
    "    plt.title(feat.upper() + ' Histogram', pad = 20)\n",
    "    plt.show()"
   ]
  },
  {
   "cell_type": "code",
   "execution_count": 40,
   "metadata": {},
   "outputs": [
    {
     "data": {
      "image/png": "[encoded data removed]",
      "text/plain": [
       "<Figure size 864x576 with 1 Axes>"
      ]
     },
     "metadata": {},
     "output_type": "display_data"
    }
   ],
   "source": [
    "feat = 'avg_dist'\n",
    "\n",
    "n_bin = 200\n",
    "x_max = 30\n",
    "\n",
    "plot_feat_hist(df_s, target, feat, n_bin, x_max)"
   ]
  },
  {
   "cell_type": "markdown",
   "metadata": {},
   "source": [
    "    - Histogram of 'month1_trips'"
   ]
  },
  {
   "cell_type": "code",
   "execution_count": 41,
   "metadata": {},
   "outputs": [
    {
     "data": {
      "image/png": "[encoded data removed]",
      "text/plain": [
       "<Figure size 864x576 with 1 Axes>"
      ]
     },
     "metadata": {},
     "output_type": "display_data"
    }
   ],
   "source": [
    "feat = 'month1_trips'\n",
    "\n",
    "n_bin = 100\n",
    "x_max = 25\n",
    "\n",
    "plot_feat_hist(df_s, target, feat, n_bin, x_max)"
   ]
  },
  {
   "cell_type": "markdown",
   "metadata": {},
   "source": [
    "- **Boxplot of 'rider_rating' and 'driver_rating' for 'active' (1) and 'non-active' (0) riders**"
   ]
  },
  {
   "cell_type": "markdown",
   "metadata": {},
   "source": [
    "    - Boxplot of 'rider_rating'"
   ]
  },
  {
   "cell_type": "code",
   "execution_count": 42,
   "metadata": {},
   "outputs": [],
   "source": [
    "# define function to plot feature histograms\n",
    "\n",
    "feat = 'rider_rating'\n",
    "\n",
    "def feat_boxplot(data, target, feat):\n",
    "\n",
    "    plt.figure(figsize = (8, 6))\n",
    "    sns.boxplot(x = data[target], y = data[feat], palette = 'viridis')\n",
    "    plt.xlabel(target.upper())\n",
    "    plt.ylabel(feat.upper())\n",
    "    plt.title(feat.upper() + ' vs. ' + target.upper() + ' Boxplot', pad = 20)\n",
    "    plt.show()"
   ]
  },
  {
   "cell_type": "code",
   "execution_count": 43,
   "metadata": {},
   "outputs": [
    {
     "data": {
      "image/png": "[encoded data removed]",
      "text/plain": [
       "<Figure size 576x432 with 1 Axes>"
      ]
     },
     "metadata": {},
     "output_type": "display_data"
    }
   ],
   "source": [
    "feat = 'rider_rating'\n",
    "feat_boxplot(df_s, target, feat)"
   ]
  },
  {
   "cell_type": "code",
   "execution_count": 44,
   "metadata": {},
   "outputs": [
    {
     "data": {
      "image/png": "[encoded data removed]",
      "text/plain": [
       "<Figure size 576x432 with 1 Axes>"
      ]
     },
     "metadata": {},
     "output_type": "display_data"
    }
   ],
   "source": [
    "feat = 'driver_rating'\n",
    "feat_boxplot(df_s, target, feat)"
   ]
  },
  {
   "cell_type": "markdown",
   "metadata": {},
   "source": [
    "### 3.3 Data Modeling\n",
    "\n",
    "This is a classification problem and we will use Random Forest Classifier (RFC) for modeling."
   ]
  },
  {
   "cell_type": "markdown",
   "metadata": {},
   "source": [
    "- **Replacing non-numerical categorical values  with ordinal categorical values**"
   ]
  },
  {
   "cell_type": "code",
   "execution_count": 45,
   "metadata": {},
   "outputs": [
    {
     "data": {
      "text/html": [
       "<div>\n",
       "<style scoped>\n",
       "    .dataframe tbody tr th:only-of-type {\n",
       "        vertical-align: middle;\n",
       "    }\n",
       "\n",
       "    .dataframe tbody tr th {\n",
       "        vertical-align: top;\n",
       "    }\n",
       "\n",
       "    .dataframe thead th {\n",
       "        text-align: right;\n",
       "    }\n",
       "</style>\n",
       "<table border=\"1\" class=\"dataframe\">\n",
       "  <thead>\n",
       "    <tr style=\"text-align: right;\">\n",
       "      <th></th>\n",
       "      <th>city</th>\n",
       "      <th>month1_trips</th>\n",
       "      <th>driver_rating</th>\n",
       "      <th>avg_surge</th>\n",
       "      <th>phone</th>\n",
       "      <th>surge_pct</th>\n",
       "      <th>lux_user</th>\n",
       "      <th>weekday_pct</th>\n",
       "      <th>avg_dist</th>\n",
       "      <th>rider_rating</th>\n",
       "      <th>active_rider</th>\n",
       "    </tr>\n",
       "  </thead>\n",
       "  <tbody>\n",
       "    <tr>\n",
       "      <th>0</th>\n",
       "      <td>King's Landing</td>\n",
       "      <td>4</td>\n",
       "      <td>4.7</td>\n",
       "      <td>1.10</td>\n",
       "      <td>iPhone</td>\n",
       "      <td>15.4</td>\n",
       "      <td>True</td>\n",
       "      <td>46.2</td>\n",
       "      <td>3.67</td>\n",
       "      <td>5.0</td>\n",
       "      <td>1</td>\n",
       "    </tr>\n",
       "    <tr>\n",
       "      <th>1</th>\n",
       "      <td>Astapor</td>\n",
       "      <td>0</td>\n",
       "      <td>5.0</td>\n",
       "      <td>1.00</td>\n",
       "      <td>Android</td>\n",
       "      <td>0.0</td>\n",
       "      <td>False</td>\n",
       "      <td>50.0</td>\n",
       "      <td>8.26</td>\n",
       "      <td>5.0</td>\n",
       "      <td>0</td>\n",
       "    </tr>\n",
       "    <tr>\n",
       "      <th>2</th>\n",
       "      <td>Astapor</td>\n",
       "      <td>3</td>\n",
       "      <td>4.3</td>\n",
       "      <td>1.00</td>\n",
       "      <td>iPhone</td>\n",
       "      <td>0.0</td>\n",
       "      <td>False</td>\n",
       "      <td>100.0</td>\n",
       "      <td>0.77</td>\n",
       "      <td>5.0</td>\n",
       "      <td>0</td>\n",
       "    </tr>\n",
       "    <tr>\n",
       "      <th>3</th>\n",
       "      <td>King's Landing</td>\n",
       "      <td>9</td>\n",
       "      <td>4.6</td>\n",
       "      <td>1.14</td>\n",
       "      <td>iPhone</td>\n",
       "      <td>20.0</td>\n",
       "      <td>True</td>\n",
       "      <td>80.0</td>\n",
       "      <td>2.36</td>\n",
       "      <td>4.9</td>\n",
       "      <td>1</td>\n",
       "    </tr>\n",
       "    <tr>\n",
       "      <th>4</th>\n",
       "      <td>Winterfell</td>\n",
       "      <td>14</td>\n",
       "      <td>4.4</td>\n",
       "      <td>1.19</td>\n",
       "      <td>Android</td>\n",
       "      <td>11.8</td>\n",
       "      <td>False</td>\n",
       "      <td>82.4</td>\n",
       "      <td>3.13</td>\n",
       "      <td>4.9</td>\n",
       "      <td>0</td>\n",
       "    </tr>\n",
       "  </tbody>\n",
       "</table>\n",
       "</div>"
      ],
      "text/plain": [
       "             city  month1_trips  driver_rating  avg_surge    phone  surge_pct  \\\n",
       "0  King's Landing             4            4.7       1.10   iPhone       15.4   \n",
       "1         Astapor             0            5.0       1.00  Android        0.0   \n",
       "2         Astapor             3            4.3       1.00   iPhone        0.0   \n",
       "3  King's Landing             9            4.6       1.14   iPhone       20.0   \n",
       "4      Winterfell            14            4.4       1.19  Android       11.8   \n",
       "\n",
       "   lux_user  weekday_pct  avg_dist  rider_rating  active_rider  \n",
       "0      True         46.2      3.67           5.0             1  \n",
       "1     False         50.0      8.26           5.0             0  \n",
       "2     False        100.0      0.77           5.0             0  \n",
       "3      True         80.0      2.36           4.9             1  \n",
       "4     False         82.4      3.13           4.9             0  "
      ]
     },
     "execution_count": 45,
     "metadata": {},
     "output_type": "execute_result"
    }
   ],
   "source": [
    "df_s.head()"
   ]
  },
  {
   "cell_type": "markdown",
   "metadata": {},
   "source": [
    "    - Replacing 'city' values"
   ]
  },
  {
   "cell_type": "code",
   "execution_count": 46,
   "metadata": {},
   "outputs": [
    {
     "name": "stdout",
     "output_type": "stream",
     "text": [
      "Winterfell        46.67\n",
      "Astapor           33.07\n",
      "King's Landing    20.26\n",
      "Name: city, dtype: float64\n"
     ]
    }
   ],
   "source": [
    "# get value count as percentages\n",
    "feat = 'city'\n",
    "\n",
    "count_feat = df_s[feat].value_counts(normalize = True) * 100\n",
    "print(round(count_feat, 2))"
   ]
  },
  {
   "cell_type": "code",
   "execution_count": 47,
   "metadata": {},
   "outputs": [
    {
     "name": "stdout",
     "output_type": "stream",
     "text": [
      "{'Winterfell': 0, 'Astapor': 1, \"King's Landing\": 2}\n"
     ]
    }
   ],
   "source": [
    "# create a dictionary to replace current non-numerical values\n",
    "dict_feat = {count_feat.index[i]:(i) for i in range(len(count_feat))}\n",
    "\n",
    "print(dict_feat)\n",
    "\n",
    "# important to save the dictionary under separate name for later use if necessary!\n",
    "dict_city = dict_feat"
   ]
  },
  {
   "cell_type": "code",
   "execution_count": 48,
   "metadata": {},
   "outputs": [
    {
     "name": "stdout",
     "output_type": "stream",
     "text": [
      "Int64Index([0, 1, 2], dtype='int64')\n"
     ]
    }
   ],
   "source": [
    "# replace the current categorical values with numerical categorical values\n",
    "df_s[feat].replace(dict_feat, inplace=True)\n",
    "\n",
    "# check\n",
    "print(df_s[feat].value_counts().index)"
   ]
  },
  {
   "cell_type": "markdown",
   "metadata": {},
   "source": [
    "    - Replacing 'phone' values"
   ]
  },
  {
   "cell_type": "code",
   "execution_count": 49,
   "metadata": {},
   "outputs": [
    {
     "name": "stdout",
     "output_type": "stream",
     "text": [
      "iPhone     69.96\n",
      "Android    30.04\n",
      "Name: phone, dtype: float64\n"
     ]
    }
   ],
   "source": [
    "# get value count as percentages\n",
    "feat = 'phone'\n",
    "\n",
    "count_feat = df_s[feat].value_counts(normalize = True) * 100\n",
    "print(round(count_feat, 2))"
   ]
  },
  {
   "cell_type": "code",
   "execution_count": 50,
   "metadata": {},
   "outputs": [
    {
     "name": "stdout",
     "output_type": "stream",
     "text": [
      "{'iPhone': 0, 'Android': 1}\n"
     ]
    }
   ],
   "source": [
    "# create a dictionary to replace current non-numerical values\n",
    "dict_feat = {count_feat.index[i]:(i) for i in range(len(count_feat))}\n",
    "\n",
    "print(dict_feat)\n",
    "\n",
    "# important to save the dictionary under separate name for later use if necessary!\n",
    "dict_phone = dict_feat"
   ]
  },
  {
   "cell_type": "code",
   "execution_count": 51,
   "metadata": {},
   "outputs": [
    {
     "name": "stdout",
     "output_type": "stream",
     "text": [
      "Int64Index([0, 1], dtype='int64')\n"
     ]
    }
   ],
   "source": [
    "# replace the current categorical values with numerical categorical values\n",
    "df_s[feat].replace(dict_feat, inplace=True)\n",
    "\n",
    "# check\n",
    "print(df_s[feat].value_counts().index)"
   ]
  },
  {
   "cell_type": "markdown",
   "metadata": {},
   "source": [
    "    - Replacing 'lux_user' values"
   ]
  },
  {
   "cell_type": "code",
   "execution_count": 52,
   "metadata": {},
   "outputs": [
    {
     "name": "stdout",
     "output_type": "stream",
     "text": [
      "False    62.29\n",
      "True     37.71\n",
      "Name: lux_user, dtype: float64\n"
     ]
    }
   ],
   "source": [
    "# get value count as percentages\n",
    "feat = 'lux_user'\n",
    "\n",
    "count_feat = df_s[feat].value_counts(normalize = True) * 100\n",
    "print(round(count_feat, 2))"
   ]
  },
  {
   "cell_type": "code",
   "execution_count": 53,
   "metadata": {},
   "outputs": [
    {
     "name": "stdout",
     "output_type": "stream",
     "text": [
      "{False: 0, True: 1}\n"
     ]
    }
   ],
   "source": [
    "# create a dictionary to replace current non-numerical values\n",
    "dict_feat = {count_feat.index[i]:(i) for i in range(len(count_feat))}\n",
    "\n",
    "print(dict_feat)\n",
    "\n",
    "# important to save the dictionary under separate name for later use if necessary!\n",
    "dict_lux = dict_feat"
   ]
  },
  {
   "cell_type": "code",
   "execution_count": 54,
   "metadata": {},
   "outputs": [
    {
     "name": "stdout",
     "output_type": "stream",
     "text": [
      "Int64Index([0, 1], dtype='int64')\n"
     ]
    }
   ],
   "source": [
    "# replace the current categorical values with numerical categorical values\n",
    "df_s[feat].replace(dict_feat, inplace=True)\n",
    "\n",
    "# check\n",
    "print(df_s[feat].value_counts().index)"
   ]
  },
  {
   "cell_type": "code",
   "execution_count": 55,
   "metadata": {},
   "outputs": [
    {
     "data": {
      "text/html": [
       "<div>\n",
       "<style scoped>\n",
       "    .dataframe tbody tr th:only-of-type {\n",
       "        vertical-align: middle;\n",
       "    }\n",
       "\n",
       "    .dataframe tbody tr th {\n",
       "        vertical-align: top;\n",
       "    }\n",
       "\n",
       "    .dataframe thead th {\n",
       "        text-align: right;\n",
       "    }\n",
       "</style>\n",
       "<table border=\"1\" class=\"dataframe\">\n",
       "  <thead>\n",
       "    <tr style=\"text-align: right;\">\n",
       "      <th></th>\n",
       "      <th>city</th>\n",
       "      <th>month1_trips</th>\n",
       "      <th>driver_rating</th>\n",
       "      <th>avg_surge</th>\n",
       "      <th>phone</th>\n",
       "      <th>surge_pct</th>\n",
       "      <th>lux_user</th>\n",
       "      <th>weekday_pct</th>\n",
       "      <th>avg_dist</th>\n",
       "      <th>rider_rating</th>\n",
       "      <th>active_rider</th>\n",
       "    </tr>\n",
       "  </thead>\n",
       "  <tbody>\n",
       "    <tr>\n",
       "      <th>0</th>\n",
       "      <td>2</td>\n",
       "      <td>4</td>\n",
       "      <td>4.7</td>\n",
       "      <td>1.10</td>\n",
       "      <td>0</td>\n",
       "      <td>15.4</td>\n",
       "      <td>1</td>\n",
       "      <td>46.2</td>\n",
       "      <td>3.67</td>\n",
       "      <td>5.0</td>\n",
       "      <td>1</td>\n",
       "    </tr>\n",
       "    <tr>\n",
       "      <th>1</th>\n",
       "      <td>1</td>\n",
       "      <td>0</td>\n",
       "      <td>5.0</td>\n",
       "      <td>1.00</td>\n",
       "      <td>1</td>\n",
       "      <td>0.0</td>\n",
       "      <td>0</td>\n",
       "      <td>50.0</td>\n",
       "      <td>8.26</td>\n",
       "      <td>5.0</td>\n",
       "      <td>0</td>\n",
       "    </tr>\n",
       "    <tr>\n",
       "      <th>2</th>\n",
       "      <td>1</td>\n",
       "      <td>3</td>\n",
       "      <td>4.3</td>\n",
       "      <td>1.00</td>\n",
       "      <td>0</td>\n",
       "      <td>0.0</td>\n",
       "      <td>0</td>\n",
       "      <td>100.0</td>\n",
       "      <td>0.77</td>\n",
       "      <td>5.0</td>\n",
       "      <td>0</td>\n",
       "    </tr>\n",
       "    <tr>\n",
       "      <th>3</th>\n",
       "      <td>2</td>\n",
       "      <td>9</td>\n",
       "      <td>4.6</td>\n",
       "      <td>1.14</td>\n",
       "      <td>0</td>\n",
       "      <td>20.0</td>\n",
       "      <td>1</td>\n",
       "      <td>80.0</td>\n",
       "      <td>2.36</td>\n",
       "      <td>4.9</td>\n",
       "      <td>1</td>\n",
       "    </tr>\n",
       "    <tr>\n",
       "      <th>4</th>\n",
       "      <td>0</td>\n",
       "      <td>14</td>\n",
       "      <td>4.4</td>\n",
       "      <td>1.19</td>\n",
       "      <td>1</td>\n",
       "      <td>11.8</td>\n",
       "      <td>0</td>\n",
       "      <td>82.4</td>\n",
       "      <td>3.13</td>\n",
       "      <td>4.9</td>\n",
       "      <td>0</td>\n",
       "    </tr>\n",
       "  </tbody>\n",
       "</table>\n",
       "</div>"
      ],
      "text/plain": [
       "   city  month1_trips  driver_rating  avg_surge  phone  surge_pct  lux_user  \\\n",
       "0     2             4            4.7       1.10      0       15.4         1   \n",
       "1     1             0            5.0       1.00      1        0.0         0   \n",
       "2     1             3            4.3       1.00      0        0.0         0   \n",
       "3     2             9            4.6       1.14      0       20.0         1   \n",
       "4     0            14            4.4       1.19      1       11.8         0   \n",
       "\n",
       "   weekday_pct  avg_dist  rider_rating  active_rider  \n",
       "0         46.2      3.67           5.0             1  \n",
       "1         50.0      8.26           5.0             0  \n",
       "2        100.0      0.77           5.0             0  \n",
       "3         80.0      2.36           4.9             1  \n",
       "4         82.4      3.13           4.9             0  "
      ]
     },
     "execution_count": 55,
     "metadata": {},
     "output_type": "execute_result"
    }
   ],
   "source": [
    "# check\n",
    "\n",
    "df_s.head()"
   ]
  },
  {
   "cell_type": "markdown",
   "metadata": {},
   "source": [
    "All non-numerical categorical values have been relpaced and we can proceed with modeling."
   ]
  },
  {
   "cell_type": "markdown",
   "metadata": {},
   "source": [
    "- **Create train and test data sets**"
   ]
  },
  {
   "cell_type": "code",
   "execution_count": 56,
   "metadata": {},
   "outputs": [],
   "source": [
    "# create subsets of independent and dependent (target) variables\n",
    "\n",
    "# independent variables\n",
    "X = df_s.iloc[:, 0:10].values # includes all features, but target\n",
    "\n",
    "# target\n",
    "y = df_s.iloc[:, -1].values # target = 'active_rider'"
   ]
  },
  {
   "cell_type": "code",
   "execution_count": 57,
   "metadata": {},
   "outputs": [],
   "source": [
    "# split into train and test subsets\n",
    "from sklearn.model_selection import train_test_split\n",
    "\n",
    "X_train, X_test, y_train, y_test = train_test_split(X, y, test_size = 0.25, random_state = 42)"
   ]
  },
  {
   "cell_type": "markdown",
   "metadata": {},
   "source": [
    "- **RFC without Optimization**"
   ]
  },
  {
   "cell_type": "code",
   "execution_count": 58,
   "metadata": {},
   "outputs": [],
   "source": [
    "# create RFC model\n",
    "\n",
    "from sklearn.ensemble import RandomForestClassifier\n",
    "\n",
    "# start with reasonable model parameters; oob_score, n_jobs are stabilizing and speeding up parameters\n",
    "model_0 = RandomForestClassifier(n_estimators = 200, min_samples_leaf = 1, oob_score = True, n_jobs = -1, random_state = 42)"
   ]
  },
  {
   "cell_type": "code",
   "execution_count": 59,
   "metadata": {},
   "outputs": [],
   "source": [
    "# train and predict\n",
    "model_0 = model_0.fit(X_train, y_train)\n",
    "\n",
    "y_pred_0 = model_0.predict(X_test)"
   ]
  },
  {
   "cell_type": "code",
   "execution_count": 60,
   "metadata": {},
   "outputs": [
    {
     "name": "stdout",
     "output_type": "stream",
     "text": [
      "Confusion Matrix:\n",
      "[[6291 1509]\n",
      " [1590 3110]]\n",
      "\n",
      "\n",
      "Classification Report:\n",
      "              precision    recall  f1-score   support\n",
      "\n",
      "           0       0.80      0.81      0.80      7800\n",
      "           1       0.67      0.66      0.67      4700\n",
      "\n",
      "    accuracy                           0.75     12500\n",
      "   macro avg       0.74      0.73      0.73     12500\n",
      "weighted avg       0.75      0.75      0.75     12500\n",
      "\n"
     ]
    }
   ],
   "source": [
    "# evaluate model performance\n",
    "from sklearn.metrics import confusion_matrix, classification_report\n",
    "\n",
    "print('Confusion Matrix:')\n",
    "print(confusion_matrix(y_test, y_pred_0))\n",
    "print('\\n')\n",
    "print('Classification Report:')\n",
    "print(classification_report(y_test,  y_pred_0))"
   ]
  },
  {
   "cell_type": "markdown",
   "metadata": {},
   "source": [
    "- **RFC with Bayesian Optimization**"
   ]
  },
  {
   "cell_type": "code",
   "execution_count": 61,
   "metadata": {},
   "outputs": [],
   "source": [
    "# import hyperopt optimization packages\n",
    "\n",
    "from hyperopt import fmin, tpe, hp, STATUS_OK, Trials, space_eval\n",
    "from sklearn import metrics"
   ]
  },
  {
   "cell_type": "markdown",
   "metadata": {},
   "source": [
    "    - Optimization 1 - metrics.precision_score"
   ]
  },
  {
   "cell_type": "code",
   "execution_count": 62,
   "metadata": {},
   "outputs": [],
   "source": [
    "# Optimization 1 - metrics.precision_score\n",
    "\n",
    "# create hyperparameter space to search over\n",
    "space_rfc = {'max_depth': hp.choice('max_depth', np.arange(2, 20, 1, dtype = int)), \n",
    "             'n_estimators': hp.choice('n_estimators', np.arange(50, 300, 10, dtype = int)), \n",
    "             'max_features': hp.choice('max_features', np.arange(0.1, 1.1, 0.1, dtype = float)), \n",
    "             'min_samples_split': hp.choice('min_samples_split', np.arange(2, 16, 1, dtype = int)), \n",
    "             'min_samples_leaf': hp.choice('min_samples_leaf', np.arange(1, 10, 1, dtype = int))}\n",
    "\n",
    "# define number for max_evals\n",
    "n_evals = 500\n",
    "\n",
    "# define optimization functions\n",
    "def score_precision_rfc(params):\n",
    "    model = RandomForestClassifier(**params, oob_score = True, n_jobs = -1)\n",
    "    \n",
    "    model.fit(X_train, y_train)\n",
    "    \n",
    "    y_pred = model.predict(X_test)\n",
    "\n",
    "    # metrics.precision_score\n",
    "    score = -metrics.precision_score(y_test, y_pred, pos_label = 1, average = 'micro', \n",
    "                                     sample_weight = None, zero_division = 'warn') # keep average = 'micro'!!!\n",
    "    print(score)\n",
    "    return {'loss': score, 'status': STATUS_OK}    \n",
    "    \n",
    "def optimize_precision_rfc(trials, space_rfc):\n",
    "    \n",
    "    best = fmin(score_precision_rfc, space_rfc, algo = tpe.suggest, max_evals = n_evals)\n",
    "    return best"
   ]
  },
  {
   "cell_type": "code",
   "execution_count": 63,
   "metadata": {},
   "outputs": [
    {
     "name": "stdout",
     "output_type": "stream",
     "text": [
      "-0.7836                                                                                                                \n",
      "-0.776                                                                                                                 \n",
      "-0.7792                                                                                                                \n",
      "-0.78544                                                                                                               \n",
      "-0.7816                                                                                                                \n",
      "-0.78256                                                                                                               \n",
      "-0.7808                                                                                                                \n",
      "-0.78232                                                                                                               \n",
      "-0.77832                                                                                                               \n",
      "-0.78256                                                                                                               \n",
      "-0.7852                                                                                                                \n",
      "-0.78024                                                                                                               \n",
      "-0.76024                                                                                                               \n",
      "-0.78296                                                                                                               \n",
      "-0.78392                                                                                                               \n",
      "-0.78272                                                                                                               \n",
      "-0.77296                                                                                                               \n",
      "-0.74768                                                                                                               \n",
      "-0.73664                                                                                                               \n",
      "-0.74456                                                                                                               \n",
      "-0.78432                                                                                                               \n",
      "-0.78232                                                                                                               \n",
      "-0.78304                                                                                                               \n",
      "-0.78368                                                                                                               \n",
      "-0.72088                                                                                                               \n",
      "-0.7792                                                                                                                \n",
      "-0.78136                                                                                                               \n",
      "-0.77832                                                                                                               \n",
      "-0.75184                                                                                                               \n",
      "-0.78176                                                                                                               \n",
      "-0.78384                                                                                                               \n",
      "-0.78392                                                                                                               \n",
      "-0.76992                                                                                                               \n",
      "-0.78432                                                                                                               \n",
      "-0.78208                                                                                                               \n",
      "-0.78176                                                                                                               \n",
      "-0.78088                                                                                                               \n",
      "-0.78432                                                                                                               \n",
      "-0.726                                                                                                                 \n",
      "-0.78344                                                                                                               \n",
      "-0.78064                                                                                                               \n",
      "-0.77456                                                                                                               \n",
      "-0.7812                                                                                                                \n",
      "-0.78104                                                                                                               \n",
      "-0.78312                                                                                                               \n",
      "-0.76472                                                                                                               \n",
      "-0.77592                                                                                                               \n",
      "-0.77544                                                                                                               \n",
      "-0.78512                                                                                                               \n",
      "-0.78512                                                                                                               \n",
      "-0.75496                                                                                                               \n",
      "-0.78408                                                                                                               \n",
      "-0.78312                                                                                                               \n",
      "-0.78368                                                                                                               \n",
      "-0.77936                                                                                                               \n",
      "-0.782                                                                                                                 \n",
      "-0.7856                                                                                                                \n",
      "-0.78496                                                                                                               \n",
      "-0.78496                                                                                                               \n",
      "-0.78368                                                                                                               \n",
      "-0.77976                                                                                                               \n",
      "-0.73832                                                                                                               \n",
      "-0.72104                                                                                                               \n",
      "-0.77872                                                                                                               \n",
      "-0.78184                                                                                                               \n",
      "-0.78624                                                                                                               \n",
      "-0.78512                                                                                                               \n",
      "-0.78384                                                                                                               \n"
     ]
    },
    {
     "name": "stdout",
     "output_type": "stream",
     "text": [
      "-0.78432                                                                                                               \n",
      "-0.78424                                                                                                               \n",
      "-0.75632                                                                                                               \n",
      "-0.782                                                                                                                 \n",
      "-0.74808                                                                                                               \n",
      "-0.78264                                                                                                               \n",
      "-0.78368                                                                                                               \n",
      "-0.77176                                                                                                               \n",
      "-0.78312                                                                                                               \n",
      "-0.78176                                                                                                               \n",
      "-0.7836                                                                                                                \n",
      "-0.78432                                                                                                               \n",
      "-0.784                                                                                                                 \n",
      "-0.73912                                                                                                               \n",
      "-0.7824                                                                                                                \n",
      "-0.78232                                                                                                               \n",
      "-0.72016                                                                                                               \n",
      "-0.77424                                                                                                               \n",
      "-0.78136                                                                                                               \n",
      "-0.784                                                                                                                 \n",
      "-0.78192                                                                                                               \n",
      "-0.77992                                                                                                               \n",
      "-0.77544                                                                                                               \n",
      "-0.78344                                                                                                               \n",
      "-0.76248                                                                                                               \n",
      "-0.78512                                                                                                               \n",
      "-0.7816                                                                                                                \n",
      "-0.7816                                                                                                                \n",
      "-0.7744                                                                                                                \n",
      "-0.75096                                                                                                               \n",
      "-0.77912                                                                                                               \n",
      "-0.78456                                                                                                               \n",
      "-0.7852                                                                                                                \n",
      "-0.78512                                                                                                               \n",
      "-0.78312                                                                                                               \n",
      "-0.7608                                                                                                                \n",
      "-0.78056                                                                                                               \n",
      "-0.78264                                                                                                               \n",
      "-0.724                                                                                                                 \n",
      "-0.78136                                                                                                               \n",
      "-0.77824                                                                                                               \n",
      "-0.77496                                                                                                               \n",
      "-0.78336                                                                                                               \n",
      "-0.77904                                                                                                               \n",
      "-0.78256                                                                                                               \n",
      "-0.7604                                                                                                                \n",
      "-0.78256                                                                                                               \n",
      "-0.76872                                                                                                               \n",
      "-0.7744                                                                                                                \n",
      "-0.7816                                                                                                                \n",
      "-0.78408                                                                                                               \n",
      "-0.78432                                                                                                               \n",
      "-0.78456                                                                                                               \n",
      "-0.78168                                                                                                               \n",
      "-0.78288                                                                                                               \n",
      "-0.7816                                                                                                                \n",
      "-0.746                                                                                                                 \n",
      "-0.72128                                                                                                               \n",
      "-0.78064                                                                                                               \n",
      "-0.77344                                                                                                               \n",
      "-0.78304                                                                                                               \n",
      "-0.78456                                                                                                               \n",
      "-0.77784                                                                                                               \n",
      "-0.7832                                                                                                                \n",
      "-0.78144                                                                                                               \n",
      "-0.78376                                                                                                               \n",
      "-0.76504                                                                                                               \n",
      "-0.78096                                                                                                               \n"
     ]
    },
    {
     "name": "stdout",
     "output_type": "stream",
     "text": [
      "-0.78048                                                                                                               \n",
      "-0.75464                                                                                                               \n",
      "-0.78352                                                                                                               \n",
      "-0.77224                                                                                                               \n",
      "-0.78464                                                                                                               \n",
      "-0.78312                                                                                                               \n",
      "-0.78112                                                                                                               \n",
      "-0.78288                                                                                                               \n",
      "-0.78424                                                                                                               \n",
      "-0.78368                                                                                                               \n",
      "-0.78504                                                                                                               \n",
      "-0.73808                                                                                                               \n",
      "-0.78432                                                                                                               \n",
      "-0.78472                                                                                                               \n",
      "-0.78424                                                                                                               \n",
      "-0.7824                                                                                                                \n",
      "-0.78304                                                                                                               \n",
      "-0.78384                                                                                                               \n",
      "-0.7828                                                                                                                \n",
      "-0.72336                                                                                                               \n",
      "-0.7804                                                                                                                \n",
      "-0.77808                                                                                                               \n",
      "-0.78432                                                                                                               \n",
      "-0.77792                                                                                                               \n",
      "-0.77808                                                                                                               \n",
      "-0.77704                                                                                                               \n",
      "-0.78328                                                                                                               \n",
      "-0.77704                                                                                                               \n",
      "-0.78056                                                                                                               \n",
      "-0.78424                                                                                                               \n",
      "-0.77968                                                                                                               \n",
      "-0.77216                                                                                                               \n",
      "-0.75768                                                                                                               \n",
      "-0.7824                                                                                                                \n",
      "-0.77576                                                                                                               \n",
      "-0.7816                                                                                                                \n",
      "-0.77944                                                                                                               \n",
      "-0.78376                                                                                                               \n",
      "-0.73624                                                                                                               \n",
      "-0.78656                                                                                                               \n",
      "-0.78192                                                                                                               \n",
      "-0.78352                                                                                                               \n",
      "-0.78368                                                                                                               \n",
      "-0.78224                                                                                                               \n",
      "-0.78512                                                                                                               \n",
      "-0.78144                                                                                                               \n",
      "-0.72464                                                                                                               \n",
      "-0.7852                                                                                                                \n",
      "-0.78392                                                                                                               \n",
      "-0.7792                                                                                                                \n",
      "-0.78184                                                                                                               \n",
      "-0.7852                                                                                                                \n",
      "-0.77464                                                                                                               \n",
      "-0.78024                                                                                                               \n",
      "-0.77824                                                                                                               \n",
      "-0.76488                                                                                                               \n",
      "-0.78064                                                                                                               \n",
      "-0.76416                                                                                                               \n",
      "-0.77336                                                                                                               \n",
      "-0.77968                                                                                                               \n",
      "-0.78224                                                                                                               \n",
      "-0.7824                                                                                                                \n",
      "-0.77992                                                                                                               \n",
      "-0.73128                                                                                                               \n",
      "100%|████████████████████████████████████████████████████████| 200/200 [04:57<00:00,  1.49s/trial, best loss: -0.78656]\n"
     ]
    }
   ],
   "source": [
    "# run optimization\n",
    "n_evals = 200\n",
    "\n",
    "trials = Trials()\n",
    "best_params_rfc = optimize_precision_rfc(trials, space_rfc)"
   ]
  },
  {
   "cell_type": "code",
   "execution_count": 64,
   "metadata": {},
   "outputs": [
    {
     "data": {
      "text/plain": [
       "{'max_depth': 14,\n",
       " 'max_features': 0.2,\n",
       " 'min_samples_leaf': 5,\n",
       " 'min_samples_split': 2,\n",
       " 'n_estimators': 80}"
      ]
     },
     "execution_count": 64,
     "metadata": {},
     "output_type": "execute_result"
    }
   ],
   "source": [
    "# get best parameters\n",
    "space_eval(space_rfc, best_params_rfc)"
   ]
  },
  {
   "cell_type": "code",
   "execution_count": 65,
   "metadata": {},
   "outputs": [],
   "source": [
    "# create optimized model\n",
    "\n",
    "rfc_model_opt1 = RandomForestClassifier(max_depth = 14, \n",
    "                                        max_features = 0.2, \n",
    "                                        min_samples_leaf = 5, \n",
    "                                        min_samples_split = 2, \n",
    "                                        n_estimators = 80,\n",
    "                                        n_jobs = -1, \n",
    "                                        random_state = 0)"
   ]
  },
  {
   "cell_type": "code",
   "execution_count": 66,
   "metadata": {},
   "outputs": [],
   "source": [
    "# fit and predict\n",
    "\n",
    "rfc_model_opt1 = rfc_model_opt1.fit(X_train, y_train)\n",
    "\n",
    "y_pred_rfc_1 = rfc_model_opt1.predict(X_test)"
   ]
  },
  {
   "cell_type": "code",
   "execution_count": 67,
   "metadata": {},
   "outputs": [
    {
     "name": "stdout",
     "output_type": "stream",
     "text": [
      "Confusion Matrix:\n",
      "[[6751 1049]\n",
      " [1615 3085]]\n",
      "\n",
      "\n",
      "Classification Report:\n",
      "              precision    recall  f1-score   support\n",
      "\n",
      "           0       0.81      0.87      0.84      7800\n",
      "           1       0.75      0.66      0.70      4700\n",
      "\n",
      "    accuracy                           0.79     12500\n",
      "   macro avg       0.78      0.76      0.77     12500\n",
      "weighted avg       0.78      0.79      0.78     12500\n",
      "\n"
     ]
    }
   ],
   "source": [
    "# evaluate model performance\n",
    "\n",
    "print('Confusion Matrix:')\n",
    "print(confusion_matrix(y_test, y_pred_rfc_1))\n",
    "print('\\n')\n",
    "print('Classification Report:')\n",
    "print(classification_report(y_test,  y_pred_rfc_1))"
   ]
  },
  {
   "cell_type": "code",
   "execution_count": 68,
   "metadata": {},
   "outputs": [
    {
     "name": "stdout",
     "output_type": "stream",
     "text": [
      "Confusion Matrix:\n",
      "[[6291 1509]\n",
      " [1590 3110]]\n",
      "\n",
      "\n",
      "Classification Report:\n",
      "              precision    recall  f1-score   support\n",
      "\n",
      "           0       0.80      0.81      0.80      7800\n",
      "           1       0.67      0.66      0.67      4700\n",
      "\n",
      "    accuracy                           0.75     12500\n",
      "   macro avg       0.74      0.73      0.73     12500\n",
      "weighted avg       0.75      0.75      0.75     12500\n",
      "\n"
     ]
    }
   ],
   "source": [
    "# comparison - model w/o optimization\n",
    "\n",
    "print('Confusion Matrix:')\n",
    "print(confusion_matrix(y_test, y_pred_0))\n",
    "print('\\n')\n",
    "print('Classification Report:')\n",
    "print(classification_report(y_test,  y_pred_0))"
   ]
  },
  {
   "cell_type": "markdown",
   "metadata": {},
   "source": [
    "Results from Optimization 1 model show definite improvement."
   ]
  },
  {
   "cell_type": "markdown",
   "metadata": {},
   "source": [
    "    - Optimization 2 - metrics.f1_score"
   ]
  },
  {
   "cell_type": "code",
   "execution_count": 69,
   "metadata": {},
   "outputs": [],
   "source": [
    "# Optimization 2 - metrics.f1_score\n",
    "\n",
    "# make appropriate changes in optimization function\n",
    "def score_f1_rfc(params):\n",
    "    model = RandomForestClassifier(**params, oob_score = True, n_jobs = -1)\n",
    "    \n",
    "    model.fit(X_train, y_train)\n",
    "    \n",
    "    y_pred = model.predict(X_test)\n",
    "\n",
    "    # metrics.f1_score\n",
    "    score = -metrics.f1_score(y_test, y_pred, pos_label = 1, average = 'micro', \n",
    "                              sample_weight = None, zero_division = 'warn') # keep average = 'micro'!!!\n",
    "    print(score)\n",
    "    return {'loss': score, 'status': STATUS_OK}    \n",
    "    \n",
    "def optimize_f1_rfc(trials, space_rfc):\n",
    "    \n",
    "    best = fmin(score_f1_rfc, space_rfc, algo = tpe.suggest, max_evals = n_evals)\n",
    "    return best"
   ]
  },
  {
   "cell_type": "code",
   "execution_count": 70,
   "metadata": {},
   "outputs": [
    {
     "name": "stdout",
     "output_type": "stream",
     "text": [
      "-0.78352                                                                                                               \n",
      "-0.72368                                                                                                               \n",
      "-0.75256                                                                                                               \n",
      "-0.78096                                                                                                               \n",
      "-0.7808                                                                                                                \n",
      "-0.7704                                                                                                                \n",
      "-0.77712                                                                                                               \n",
      "-0.78144                                                                                                               \n",
      "-0.77464                                                                                                               \n",
      "-0.78048                                                                                                               \n",
      "-0.72656                                                                                                               \n",
      "-0.78496                                                                                                               \n",
      "-0.77608                                                                                                               \n",
      "-0.78416                                                                                                               \n",
      "-0.7768                                                                                                                \n",
      "-0.72248                                                                                                               \n",
      "-0.78432                                                                                                               \n",
      "-0.77448                                                                                                               \n",
      "-0.72232                                                                                                               \n",
      "-0.77384                                                                                                               \n",
      "-0.78032                                                                                                               \n",
      "-0.7836                                                                                                                \n",
      "-0.78184                                                                                                               \n",
      "-0.78376                                                                                                               \n",
      "-0.78144                                                                                                               \n",
      "-0.76104                                                                                                               \n",
      "-0.78456                                                                                                               \n",
      "-0.78536                                                                                                               \n",
      "-0.78248                                                                                                               \n",
      "-0.78112                                                                                                               \n",
      "-0.7840000000000001                                                                                                    \n",
      "-0.78416                                                                                                               \n",
      "-0.78168                                                                                                               \n",
      "-0.7840000000000001                                                                                                    \n",
      "-0.73688                                                                                                               \n",
      "-0.77968                                                                                                               \n",
      "-0.77272                                                                                                               \n",
      "-0.7744000000000001                                                                                                    \n",
      "-0.78136                                                                                                               \n",
      "-0.78552                                                                                                               \n",
      "-0.78312                                                                                                               \n",
      "-0.7791199999999999                                                                                                    \n",
      "-0.786                                                                                                                 \n",
      "-0.77952                                                                                                               \n",
      "-0.75064                                                                                                               \n",
      "-0.78464                                                                                                               \n",
      "-0.78296                                                                                                               \n",
      "-0.78192                                                                                                               \n",
      "-0.76256                                                                                                               \n",
      "-0.75808                                                                                                               \n",
      "-0.78136                                                                                                               \n",
      "-0.78304                                                                                                               \n",
      "-0.78312                                                                                                               \n",
      "-0.78408                                                                                                               \n",
      "-0.7723200000000001                                                                                                    \n",
      "-0.76952                                                                                                               \n",
      "-0.7776                                                                                                                \n",
      "-0.71584                                                                                                               \n",
      "-0.77928                                                                                                               \n",
      "-0.77648                                                                                                               \n",
      "-0.78288                                                                                                               \n",
      "-0.77152                                                                                                               \n",
      "-0.78088                                                                                                               \n",
      "-0.78312                                                                                                               \n",
      "-0.7825599999999999                                                                                                    \n",
      "-0.78416                                                                                                               \n",
      "-0.7844                                                                                                                \n",
      "-0.78344                                                                                                               \n"
     ]
    },
    {
     "name": "stdout",
     "output_type": "stream",
     "text": [
      "-0.78416                                                                                                               \n",
      "-0.7692800000000001                                                                                                    \n",
      "-0.78616                                                                                                               \n",
      "-0.7816                                                                                                                \n",
      "-0.7838399999999999                                                                                                    \n",
      "-0.7833599999999998                                                                                                    \n",
      "-0.78424                                                                                                               \n",
      "-0.78328                                                                                                               \n",
      "-0.77952                                                                                                               \n",
      "-0.78264                                                                                                               \n",
      "-0.7828                                                                                                                \n",
      "-0.7382399999999999                                                                                                    \n",
      "-0.77112                                                                                                               \n",
      "-0.778                                                                                                                 \n",
      "-0.77384                                                                                                               \n",
      "-0.78352                                                                                                               \n",
      "-0.7268                                                                                                                \n",
      "-0.78096                                                                                                               \n",
      "-0.77736                                                                                                               \n",
      "-0.78496                                                                                                               \n",
      "-0.76104                                                                                                               \n",
      "-0.78                                                                                                                  \n",
      "-0.78328                                                                                                               \n",
      "-0.7824                                                                                                                \n",
      "-0.7482399999999999                                                                                                    \n",
      "-0.7833599999999998                                                                                                    \n",
      "-0.77496                                                                                                               \n",
      "-0.73976                                                                                                               \n",
      "-0.78512                                                                                                               \n",
      "-0.78184                                                                                                               \n",
      "-0.78176                                                                                                               \n",
      "-0.7723200000000001                                                                                                    \n",
      "-0.78112                                                                                                               \n",
      "-0.72072                                                                                                               \n",
      "-0.776                                                                                                                 \n",
      "-0.78552                                                                                                               \n",
      "-0.77784                                                                                                               \n",
      "-0.78408                                                                                                               \n",
      "-0.7848                                                                                                                \n",
      "-0.782                                                                                                                 \n",
      "-0.77952                                                                                                               \n",
      "-0.78304                                                                                                               \n",
      "-0.78304                                                                                                               \n",
      "-0.7812000000000001                                                                                                    \n",
      "-0.7736                                                                                                                \n",
      "-0.77984                                                                                                               \n",
      "-0.75864                                                                                                               \n",
      "-0.78472                                                                                                               \n",
      "-0.77744                                                                                                               \n",
      "-0.78088                                                                                                               \n",
      "-0.77904                                                                                                               \n",
      "-0.77784                                                                                                               \n",
      "-0.7785599999999999                                                                                                    \n",
      "-0.78184                                                                                                               \n",
      "-0.7836                                                                                                                \n",
      "-0.78368                                                                                                               \n",
      "-0.7333600000000001                                                                                                    \n",
      "-0.7723200000000001                                                                                                    \n",
      "-0.7747999999999999                                                                                                    \n",
      "-0.72912                                                                                                               \n",
      "-0.78416                                                                                                               \n",
      "-0.77544                                                                                                               \n",
      "-0.7784                                                                                                                \n",
      "-0.7776                                                                                                                \n",
      "-0.78528                                                                                                               \n",
      "-0.78488                                                                                                               \n",
      "-0.77768                                                                                                               \n",
      "-0.78328                                                                                                               \n"
     ]
    },
    {
     "name": "stdout",
     "output_type": "stream",
     "text": [
      "-0.77744                                                                                                               \n",
      "-0.77768                                                                                                               \n",
      "-0.78296                                                                                                               \n",
      "-0.7816                                                                                                                \n",
      "-0.7496                                                                                                                \n",
      "-0.7828                                                                                                                \n",
      "-0.78392                                                                                                               \n",
      "-0.78                                                                                                                  \n",
      "-0.78328                                                                                                               \n",
      "-0.78472                                                                                                               \n",
      "-0.7379200000000001                                                                                                    \n",
      "-0.7792                                                                                                                \n",
      "-0.78328                                                                                                               \n",
      "-0.78328                                                                                                               \n",
      "-0.78064                                                                                                               \n",
      "-0.77176                                                                                                               \n",
      "-0.78032                                                                                                               \n",
      "-0.78392                                                                                                               \n",
      "-0.78264                                                                                                               \n",
      "-0.7276                                                                                                                \n",
      "-0.77592                                                                                                               \n",
      "-0.78352                                                                                                               \n",
      "-0.7825599999999999                                                                                                    \n",
      "-0.76864                                                                                                               \n",
      "-0.78208                                                                                                               \n",
      "-0.7664                                                                                                                \n",
      "-0.7852                                                                                                                \n",
      "-0.7825599999999999                                                                                                    \n",
      "-0.77984                                                                                                               \n",
      "-0.7844                                                                                                                \n",
      "-0.78096                                                                                                               \n",
      "-0.73896                                                                                                               \n",
      "-0.78088                                                                                                               \n",
      "-0.77144                                                                                                               \n",
      "-0.78368                                                                                                               \n",
      "-0.7844                                                                                                                \n",
      "-0.78416                                                                                                               \n",
      "-0.77512                                                                                                               \n",
      "-0.77496                                                                                                               \n",
      "-0.72488                                                                                                               \n",
      "-0.78192                                                                                                               \n",
      "-0.78448                                                                                                               \n",
      "-0.778                                                                                                                 \n",
      "-0.7784                                                                                                                \n",
      "-0.78432                                                                                                               \n",
      "-0.7848                                                                                                                \n",
      "-0.78208                                                                                                               \n",
      "-0.75112                                                                                                               \n",
      "-0.78304                                                                                                               \n",
      "-0.78464                                                                                                               \n",
      "-0.7840000000000001                                                                                                    \n",
      "-0.78032                                                                                                               \n",
      "-0.77952                                                                                                               \n",
      "-0.78392                                                                                                               \n",
      "-0.78392                                                                                                               \n",
      "-0.7432                                                                                                                \n",
      "-0.78512                                                                                                               \n",
      "-0.7675199999999999                                                                                                    \n",
      "-0.78264                                                                                                               \n",
      "-0.72224                                                                                                               \n",
      "-0.772                                                                                                                 \n",
      "-0.77904                                                                                                               \n",
      "-0.78224                                                                                                               \n",
      "-0.78416                                                                                                               \n",
      "100%|████████████████████████████████████████████████████████| 200/200 [05:04<00:00,  1.52s/trial, best loss: -0.78616]\n"
     ]
    }
   ],
   "source": [
    "# run optimization\n",
    "\n",
    "n_evals = 200\n",
    "\n",
    "trials = Trials()\n",
    "best_params_rfc = optimize_f1_rfc(trials, space_rfc)"
   ]
  },
  {
   "cell_type": "code",
   "execution_count": 71,
   "metadata": {},
   "outputs": [
    {
     "data": {
      "text/plain": [
       "{'max_depth': 19,\n",
       " 'max_features': 0.30000000000000004,\n",
       " 'min_samples_leaf': 9,\n",
       " 'min_samples_split': 8,\n",
       " 'n_estimators': 260}"
      ]
     },
     "execution_count": 71,
     "metadata": {},
     "output_type": "execute_result"
    }
   ],
   "source": [
    "# get best parameters\n",
    "space_eval(space_rfc, best_params_rfc)"
   ]
  },
  {
   "cell_type": "code",
   "execution_count": 72,
   "metadata": {},
   "outputs": [],
   "source": [
    "# create optimized model\n",
    "\n",
    "rfc_model_opt2 = RandomForestClassifier(max_depth = 19, \n",
    "                                        max_features = 0.3, \n",
    "                                        min_samples_leaf = 9, \n",
    "                                        min_samples_split = 8, \n",
    "                                        n_estimators = 260,\n",
    "                                        n_jobs = -1, \n",
    "                                        random_state = 0)"
   ]
  },
  {
   "cell_type": "code",
   "execution_count": 73,
   "metadata": {},
   "outputs": [],
   "source": [
    "# fit and predict\n",
    "\n",
    "rfc_model_opt2 = rfc_model_opt2.fit(X_train, y_train)\n",
    "\n",
    "y_pred_rfc_2 = rfc_model_opt2.predict(X_test)"
   ]
  },
  {
   "cell_type": "code",
   "execution_count": 74,
   "metadata": {},
   "outputs": [
    {
     "name": "stdout",
     "output_type": "stream",
     "text": [
      "Confusion Matrix:\n",
      "[[6732 1068]\n",
      " [1619 3081]]\n",
      "\n",
      "\n",
      "Classification Report:\n",
      "              precision    recall  f1-score   support\n",
      "\n",
      "           0       0.81      0.86      0.83      7800\n",
      "           1       0.74      0.66      0.70      4700\n",
      "\n",
      "    accuracy                           0.79     12500\n",
      "   macro avg       0.77      0.76      0.76     12500\n",
      "weighted avg       0.78      0.79      0.78     12500\n",
      "\n"
     ]
    }
   ],
   "source": [
    "# evaluate model performance\n",
    "\n",
    "print('Confusion Matrix:')\n",
    "print(confusion_matrix(y_test, y_pred_rfc_2))\n",
    "print('\\n')\n",
    "print('Classification Report:')\n",
    "print(classification_report(y_test,  y_pred_rfc_2))"
   ]
  },
  {
   "cell_type": "code",
   "execution_count": 75,
   "metadata": {},
   "outputs": [
    {
     "name": "stdout",
     "output_type": "stream",
     "text": [
      "Optimization model 1 results:\n",
      "\n",
      "\n",
      "Confusion Matrix:\n",
      "[[6751 1049]\n",
      " [1615 3085]]\n",
      "\n",
      "\n",
      "Classification Report:\n",
      "              precision    recall  f1-score   support\n",
      "\n",
      "           0       0.81      0.87      0.84      7800\n",
      "           1       0.75      0.66      0.70      4700\n",
      "\n",
      "    accuracy                           0.79     12500\n",
      "   macro avg       0.78      0.76      0.77     12500\n",
      "weighted avg       0.78      0.79      0.78     12500\n",
      "\n"
     ]
    }
   ],
   "source": [
    "# comparison - opt_1 results\n",
    "print('Optimization model 1 results:')\n",
    "print('\\n')\n",
    "print('Confusion Matrix:')\n",
    "print(confusion_matrix(y_test, y_pred_rfc_1))\n",
    "print('\\n')\n",
    "print('Classification Report:')\n",
    "print(classification_report(y_test,  y_pred_rfc_1))"
   ]
  },
  {
   "cell_type": "markdown",
   "metadata": {},
   "source": [
    "Both optimization models have almost identical performance. Because Optimization 1 model shows slightly better performance we will use it to determine the data feature importances."
   ]
  },
  {
   "cell_type": "code",
   "execution_count": 76,
   "metadata": {},
   "outputs": [],
   "source": [
    "# obtain feature importances using rfc_model_opt1 with entire dataset X,y\n",
    "\n",
    "rfc_model_opt1 = rfc_model_opt1.fit(X, y)"
   ]
  },
  {
   "cell_type": "code",
   "execution_count": 77,
   "metadata": {},
   "outputs": [
    {
     "data": {
      "text/plain": [
       "Index(['city', 'month1_trips', 'driver_rating', 'avg_surge', 'phone',\n",
       "       'surge_pct', 'lux_user', 'weekday_pct', 'avg_dist', 'rider_rating',\n",
       "       'active_rider'],\n",
       "      dtype='object')"
      ]
     },
     "execution_count": 77,
     "metadata": {},
     "output_type": "execute_result"
    }
   ],
   "source": [
    "# get the names of the features in X\n",
    "df_s.columns"
   ]
  },
  {
   "cell_type": "code",
   "execution_count": 78,
   "metadata": {},
   "outputs": [
    {
     "data": {
      "text/plain": [
       "rider_rating     0.155789\n",
       "weekday_pct      0.145932\n",
       "city             0.138522\n",
       "surge_pct        0.114755\n",
       "avg_dist         0.101886\n",
       "avg_surge        0.089813\n",
       "month1_trips     0.080048\n",
       "phone            0.069481\n",
       "lux_user         0.060068\n",
       "driver_rating    0.043707\n",
       "dtype: float64"
      ]
     },
     "execution_count": 78,
     "metadata": {},
     "output_type": "execute_result"
    }
   ],
   "source": [
    "feat_list = ['city', 'month1_trips', 'driver_rating', 'avg_surge', 'phone', \n",
    "             'surge_pct', 'lux_user', 'weekday_pct', 'avg_dist', 'rider_rating']\n",
    "\n",
    "feature_imp = pd.Series(rfc_model_opt1.feature_importances_, index = feat_list).sort_values(ascending=False)\n",
    "feature_imp"
   ]
  },
  {
   "cell_type": "code",
   "execution_count": 79,
   "metadata": {},
   "outputs": [
    {
     "data": {
      "image/png": "[encoded data removed]",
      "text/plain": [
       "<Figure size 864x720 with 1 Axes>"
      ]
     },
     "metadata": {},
     "output_type": "display_data"
    }
   ],
   "source": [
    "# visualize feature importances\n",
    "\n",
    "plt.figure(figsize=(12, 10))\n",
    "sns.barplot(x = feature_imp * 100, y = feature_imp.index, palette = 'viridis')\n",
    "\n",
    "plt.xlabel('Feature Importance Score (%)', labelpad = 15)\n",
    "plt.ylabel('Features', labelpad = 15)\n",
    "\n",
    "plt.show()"
   ]
  },
  {
   "cell_type": "markdown",
   "metadata": {},
   "source": [
    "**The top three most important features determining the outcome for active rider are:**\n",
    "- rider_rating\n",
    "- weekday_pct\n",
    "- city"
   ]
  },
  {
   "cell_type": "markdown",
   "metadata": {},
   "source": [
    "### 3.4 Summary\n",
    "\n",
    "The data in 'ultimate_data_challenge.json' have been processed, explored and modeled in order to predict which users will become 'active' users.\n",
    "\n",
    "Random forest classifier model has been optimized and found to predict with good accuracy the outcome for active user. "
   ]
  }
 ],
 "metadata": {
  "kernelspec": {
   "display_name": "Python 3",
   "language": "python",
   "name": "python3"
  },
  "language_info": {
   "codemirror_mode": {
    "name": "ipython",
    "version": 3
   },
   "file_extension": ".py",
   "mimetype": "text/x-python",
   "name": "python",
   "nbconvert_exporter": "python",
   "pygments_lexer": "ipython3",
   "version": "3.7.6"
  }
 },
 "nbformat": 4,
 "nbformat_minor": 4
}
